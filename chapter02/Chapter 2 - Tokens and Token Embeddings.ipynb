{
  "cells": [
    {
      "cell_type": "markdown",
      "metadata": {
        "id": "view-in-github",
        "colab_type": "text"
      },
      "source": [
        "<a href=\"https://colab.research.google.com/github/DreamingNight/BookxNoteData/blob/master/chapter02/Chapter%202%20-%20Tokens%20and%20Token%20Embeddings.ipynb\" target=\"_parent\"><img src=\"https://colab.research.google.com/assets/colab-badge.svg\" alt=\"Open In Colab\"/></a>"
      ]
    },
    {
      "cell_type": "markdown",
      "metadata": {
        "id": "g_a9QvUFVCUR"
      },
      "source": [
        "<h1>Chapter 2 - Tokens and Token Embeddings</h1>\n",
        "<i>Exploring tokens and embeddings as an integral part of building LLMs</i>\n",
        "\n",
        "\n",
        "<a href=\"https://www.amazon.com/Hands-Large-Language-Models-Understanding/dp/1098150961\"><img src=\"https://img.shields.io/badge/Buy%20the%20Book!-grey?logo=amazon\"></a>\n",
        "<a href=\"https://www.oreilly.com/library/view/hands-on-large-language/9781098150952/\"><img src=\"https://img.shields.io/badge/O'Reilly-white.svg?logo=data:image/svg%2bxml;base64,PHN2ZyB3aWR0aD0iMzQiIGhlaWdodD0iMjciIHZpZXdCb3g9IjAgMCAzNCAyNyIgZmlsbD0ibm9uZSIgeG1sbnM9Imh0dHA6Ly93d3cudzMub3JnLzIwMDAvc3ZnIj4KPGNpcmNsZSBjeD0iMTMiIGN5PSIxNCIgcj0iMTEiIHN0cm9rZT0iI0Q0MDEwMSIgc3Ryb2tlLXdpZHRoPSI0Ii8+CjxjaXJjbGUgY3g9IjMwLjUiIGN5PSIzLjUiIHI9IjMuNSIgZmlsbD0iI0Q0MDEwMSIvPgo8L3N2Zz4K\"></a>\n",
        "<a href=\"https://github.com/HandsOnLLM/Hands-On-Large-Language-Models\"><img src=\"https://img.shields.io/badge/GitHub%20Repository-black?logo=github\"></a>\n",
        "[![Open In Colab](https://colab.research.google.com/assets/colab-badge.svg)](https://colab.research.google.com/github/HandsOnLLM/Hands-On-Large-Language-Models/blob/main/chapter02/Chapter%202%20-%20Tokens%20and%20Token%20Embeddings.ipynb)\n",
        "\n",
        "---\n",
        "\n",
        "This notebook is for Chapter 2 of the [Hands-On Large Language Models](https://www.amazon.com/Hands-Large-Language-Models-Understanding/dp/1098150961) book by [Jay Alammar](https://www.linkedin.com/in/jalammar) and [Maarten Grootendorst](https://www.linkedin.com/in/mgrootendorst/).\n",
        "\n",
        "---\n",
        "\n",
        "<a href=\"https://www.amazon.com/Hands-Large-Language-Models-Understanding/dp/1098150961\">\n",
        "<img src=\"https://raw.githubusercontent.com/HandsOnLLM/Hands-On-Large-Language-Models/main/images/book_cover.png\" width=\"350\"/></a>\n"
      ]
    },
    {
      "cell_type": "markdown",
      "metadata": {
        "id": "3e6JbDdqLRBm"
      },
      "source": [
        "### [OPTIONAL] - Installing Packages on <img src=\"https://colab.google/static/images/icons/colab.png\" width=100>\n",
        "\n",
        "If you are viewing this notebook on Google Colab (or any other cloud vendor), you need to **uncomment and run** the following codeblock to install the dependencies for this chapter:\n",
        "\n",
        "---\n",
        "\n",
        "💡 **NOTE**: We will want to use a GPU to run the examples in this notebook. In Google Colab, go to\n",
        "**Runtime > Change runtime type > Hardware accelerator > GPU > GPU type > T4**.\n",
        "\n",
        "---"
      ]
    },
    {
      "cell_type": "code",
      "execution_count": 1,
      "metadata": {
        "id": "HbBlEYoiLRBm"
      },
      "outputs": [],
      "source": [
        "!pip install transformers==4.46.2 sentence-transformers>=3.0.1 gensim>=4.3.2 scikit-learn>=1.5.0 accelerate>=0.31.0"
      ]
    },
    {
      "cell_type": "markdown",
      "metadata": {
        "id": "oQHfpqT_t9-K"
      },
      "source": [
        "# Downloading and Running An LLM\n",
        "\n",
        "The first step is to load our model onto the GPU for faster inference. Note that we load the model and tokenizer separately and keep them as such so that we can explore them separately."
      ]
    },
    {
      "cell_type": "code",
      "source": [
        "!pip list | grep transformer\n",
        "!pip install transformers==4.46.2"
      ],
      "metadata": {
        "id": "ajv6PekFwDPM",
        "outputId": "9f50a337-7236-4d9a-ae26-13b516c7a9c5",
        "colab": {
          "base_uri": "https://localhost:8080/",
          "height": 781
        }
      },
      "execution_count": 3,
      "outputs": [
        {
          "output_type": "stream",
          "name": "stdout",
          "text": [
            "sentence-transformers              3.4.1\n",
            "transformers                       4.42.3\n",
            "Collecting transformers==4.46.2\n",
            "  Downloading transformers-4.46.2-py3-none-any.whl.metadata (44 kB)\n",
            "\u001b[2K     \u001b[90m━━━━━━━━━━━━━━━━━━━━━━━━━━━━━━━━━━━━━━━━\u001b[0m \u001b[32m44.1/44.1 kB\u001b[0m \u001b[31m2.9 MB/s\u001b[0m eta \u001b[36m0:00:00\u001b[0m\n",
            "\u001b[?25hRequirement already satisfied: filelock in /usr/local/lib/python3.11/dist-packages (from transformers==4.46.2) (3.18.0)\n",
            "Requirement already satisfied: huggingface-hub<1.0,>=0.23.2 in /usr/local/lib/python3.11/dist-packages (from transformers==4.46.2) (0.29.3)\n",
            "Requirement already satisfied: numpy>=1.17 in /usr/local/lib/python3.11/dist-packages (from transformers==4.46.2) (1.26.4)\n",
            "Requirement already satisfied: packaging>=20.0 in /usr/local/lib/python3.11/dist-packages (from transformers==4.46.2) (24.2)\n",
            "Requirement already satisfied: pyyaml>=5.1 in /usr/local/lib/python3.11/dist-packages (from transformers==4.46.2) (6.0.2)\n",
            "Requirement already satisfied: regex!=2019.12.17 in /usr/local/lib/python3.11/dist-packages (from transformers==4.46.2) (2024.11.6)\n",
            "Requirement already satisfied: requests in /usr/local/lib/python3.11/dist-packages (from transformers==4.46.2) (2.32.3)\n",
            "Requirement already satisfied: safetensors>=0.4.1 in /usr/local/lib/python3.11/dist-packages (from transformers==4.46.2) (0.5.3)\n",
            "Collecting tokenizers<0.21,>=0.20 (from transformers==4.46.2)\n",
            "  Downloading tokenizers-0.20.3-cp311-cp311-manylinux_2_17_x86_64.manylinux2014_x86_64.whl.metadata (6.7 kB)\n",
            "Requirement already satisfied: tqdm>=4.27 in /usr/local/lib/python3.11/dist-packages (from transformers==4.46.2) (4.67.1)\n",
            "Requirement already satisfied: fsspec>=2023.5.0 in /usr/local/lib/python3.11/dist-packages (from huggingface-hub<1.0,>=0.23.2->transformers==4.46.2) (2025.3.0)\n",
            "Requirement already satisfied: typing-extensions>=3.7.4.3 in /usr/local/lib/python3.11/dist-packages (from huggingface-hub<1.0,>=0.23.2->transformers==4.46.2) (4.12.2)\n",
            "Requirement already satisfied: charset-normalizer<4,>=2 in /usr/local/lib/python3.11/dist-packages (from requests->transformers==4.46.2) (3.4.1)\n",
            "Requirement already satisfied: idna<4,>=2.5 in /usr/local/lib/python3.11/dist-packages (from requests->transformers==4.46.2) (3.10)\n",
            "Requirement already satisfied: urllib3<3,>=1.21.1 in /usr/local/lib/python3.11/dist-packages (from requests->transformers==4.46.2) (2.3.0)\n",
            "Requirement already satisfied: certifi>=2017.4.17 in /usr/local/lib/python3.11/dist-packages (from requests->transformers==4.46.2) (2025.1.31)\n",
            "Downloading transformers-4.46.2-py3-none-any.whl (10.0 MB)\n",
            "\u001b[2K   \u001b[90m━━━━━━━━━━━━━━━━━━━━━━━━━━━━━━━━━━━━━━━━\u001b[0m \u001b[32m10.0/10.0 MB\u001b[0m \u001b[31m30.3 MB/s\u001b[0m eta \u001b[36m0:00:00\u001b[0m\n",
            "\u001b[?25hDownloading tokenizers-0.20.3-cp311-cp311-manylinux_2_17_x86_64.manylinux2014_x86_64.whl (3.0 MB)\n",
            "\u001b[2K   \u001b[90m━━━━━━━━━━━━━━━━━━━━━━━━━━━━━━━━━━━━━━━━\u001b[0m \u001b[32m3.0/3.0 MB\u001b[0m \u001b[31m23.4 MB/s\u001b[0m eta \u001b[36m0:00:00\u001b[0m\n",
            "\u001b[?25hInstalling collected packages: tokenizers, transformers\n",
            "  Attempting uninstall: tokenizers\n",
            "    Found existing installation: tokenizers 0.19.1\n",
            "    Uninstalling tokenizers-0.19.1:\n",
            "      Successfully uninstalled tokenizers-0.19.1\n",
            "  Attempting uninstall: transformers\n",
            "    Found existing installation: transformers 4.42.3\n",
            "    Uninstalling transformers-4.42.3:\n",
            "      Successfully uninstalled transformers-4.42.3\n",
            "Successfully installed tokenizers-0.20.3 transformers-4.46.2\n"
          ]
        },
        {
          "output_type": "display_data",
          "data": {
            "application/vnd.colab-display-data+json": {
              "pip_warning": {
                "packages": [
                  "transformers"
                ]
              },
              "id": "d33e8405d19e4467b15d38fc8231fb07"
            }
          },
          "metadata": {}
        }
      ]
    },
    {
      "cell_type": "code",
      "execution_count": 1,
      "metadata": {
        "colab": {
          "base_uri": "https://localhost:8080/",
          "height": 212,
          "referenced_widgets": [
            "88e84f2385d64bf0ac5fe339aa3840ba",
            "121d400961124a53b2e69090f163086c",
            "30db8ac60e2841e99734d0df26695f97",
            "b809e55af9904c9fa047698ffa3946b7",
            "f845bf06f91641aa9a5d168fe2ade8c2",
            "be22179b26dc421b96eab7c72999a4ef",
            "d798872ef7774088b48f89d3e9063c05",
            "3705491808004a1f972f316daa119f0f",
            "d9a7a254e3244a6d97a81196df25b41f",
            "81ee702d11fa49a2b34b59f299aae9c5",
            "3cb61fc146d143bba439a291e3018b95"
          ]
        },
        "id": "jjU8NBHnwA4j",
        "outputId": "2e4a120b-3992-44cd-da6b-57cb899e829d"
      },
      "outputs": [
        {
          "output_type": "stream",
          "name": "stderr",
          "text": [
            "/usr/local/lib/python3.11/dist-packages/huggingface_hub/utils/_auth.py:94: UserWarning: \n",
            "The secret `HF_TOKEN` does not exist in your Colab secrets.\n",
            "To authenticate with the Hugging Face Hub, create a token in your settings tab (https://huggingface.co/settings/tokens), set it as secret in your Google Colab and restart your session.\n",
            "You will be able to reuse this secret in all of your notebooks.\n",
            "Please note that authentication is recommended but still optional to access public models or datasets.\n",
            "  warnings.warn(\n",
            "WARNING:transformers_modules.microsoft.Phi-3-mini-4k-instruct.0a67737cc96d2554230f90338b163bc6380a2a85.modeling_phi3:`flash-attention` package not found, consider installing for better performance: No module named 'flash_attn'.\n",
            "WARNING:transformers_modules.microsoft.Phi-3-mini-4k-instruct.0a67737cc96d2554230f90338b163bc6380a2a85.modeling_phi3:Current `flash-attention` does not support `window_size`. Either upgrade or use `attn_implementation='eager'`.\n"
          ]
        },
        {
          "output_type": "display_data",
          "data": {
            "text/plain": [
              "Loading checkpoint shards:   0%|          | 0/2 [00:00<?, ?it/s]"
            ],
            "application/vnd.jupyter.widget-view+json": {
              "version_major": 2,
              "version_minor": 0,
              "model_id": "88e84f2385d64bf0ac5fe339aa3840ba"
            }
          },
          "metadata": {}
        }
      ],
      "source": [
        "from transformers import AutoModelForCausalLM, AutoTokenizer\n",
        "\n",
        "# Load model and tokenizer\n",
        "model = AutoModelForCausalLM.from_pretrained(\n",
        "    \"microsoft/Phi-3-mini-4k-instruct\",\n",
        "    device_map=\"cuda\",\n",
        "    torch_dtype=\"auto\",\n",
        "    trust_remote_code=True,\n",
        ")\n",
        "tokenizer = AutoTokenizer.from_pretrained(\"microsoft/Phi-3-mini-4k-instruct\")"
      ]
    },
    {
      "cell_type": "code",
      "execution_count": 12,
      "metadata": {
        "colab": {
          "base_uri": "https://localhost:8080/"
        },
        "id": "_iVl5yePuq3B",
        "outputId": "8dfa1547-7a19-49ee-c14c-e9308a107c4d"
      },
      "outputs": [
        {
          "output_type": "stream",
          "name": "stderr",
          "text": [
            "WARNING:transformers_modules.microsoft.Phi-3-mini-4k-instruct.0a67737cc96d2554230f90338b163bc6380a2a85.modeling_phi3:You are not running the flash-attention implementation, expect numerical differences.\n"
          ]
        },
        {
          "output_type": "stream",
          "name": "stdout",
          "text": [
            "Write an email apologizing to Sarah for the tragic gardening mishap. Explain how it happened.<|assistant|> Subject: Sincere Apologies for the Gardening Mishap\n",
            "\n",
            "\n",
            "Dear Sarah,\n",
            "\n",
            "\n",
            "I hope this message finds you well. I am writing to express my deepest apologies for the unfortunate incident that occurred in your garden yesterday.\n",
            "\n",
            "\n",
            "As you know, I have always admired the beauty and tranquility of your garden. It was with great disappointment that I witnessed the accidental damage caused to your beloved rose bushes. I understand how much effort and care you put into maintaining your garden, and it pains me to have caused any harm to it.\n",
            "\n",
            "\n",
            "The mishap happened when I was attempting to prune the overgrown branches of the hedge. Unfortunately, in my haste, I misjudged the distance and accidentally struck the rose bushes with the shears. I realize now that I should have taken more time to assess the situation and proceed with greater caution\n"
          ]
        }
      ],
      "source": [
        "prompt = \"Write an email apologizing to Sarah for the tragic gardening mishap. Explain how it happened.<|assistant|>\"\n",
        "\n",
        "# Tokenize the input prompt\n",
        "input_ids = tokenizer(prompt, return_tensors=\"pt\").input_ids.to(\"cuda\")\n",
        "\n",
        "# Generate the text\n",
        "generation_output = model.generate(\n",
        "  input_ids=input_ids,\n",
        "  max_new_tokens=200\n",
        ")\n",
        "\n",
        "# Print the output\n",
        "print(tokenizer.decode(generation_output[0]))"
      ]
    },
    {
      "cell_type": "code",
      "execution_count": null,
      "metadata": {
        "colab": {
          "base_uri": "https://localhost:8080/"
        },
        "id": "JmzgbbdKuvHt",
        "outputId": "82511d5b-7949-49a0-e3a6-c128564575c8"
      },
      "outputs": [
        {
          "name": "stdout",
          "output_type": "stream",
          "text": [
            "tensor([[    1, 14350,   385,  4876, 27746,  5281,   304, 19235,   363,   278,\n",
            "         25305,   293, 16423,   292,   286,   728,   481, 29889, 12027,  7420,\n",
            "           920,   372,  9559, 29889, 32001]], device='cuda:0')\n"
          ]
        }
      ],
      "source": [
        "print(input_ids)"
      ]
    },
    {
      "cell_type": "code",
      "execution_count": null,
      "metadata": {
        "colab": {
          "base_uri": "https://localhost:8080/"
        },
        "id": "W4vsjbxwu1K1",
        "outputId": "506f32d1-f058-4cfd-a9cd-13c4dabe80e6"
      },
      "outputs": [
        {
          "name": "stdout",
          "output_type": "stream",
          "text": [
            "<s>\n",
            "Write\n",
            "an\n",
            "email\n",
            "apolog\n",
            "izing\n",
            "to\n",
            "Sarah\n",
            "for\n",
            "the\n",
            "trag\n",
            "ic\n",
            "garden\n",
            "ing\n",
            "m\n",
            "ish\n",
            "ap\n",
            ".\n",
            "Exp\n",
            "lain\n",
            "how\n",
            "it\n",
            "happened\n",
            ".\n",
            "<|assistant|>\n"
          ]
        }
      ],
      "source": [
        "for id in input_ids[0]:\n",
        "   print(tokenizer.decode(id))"
      ]
    },
    {
      "cell_type": "code",
      "execution_count": null,
      "metadata": {
        "colab": {
          "base_uri": "https://localhost:8080/"
        },
        "id": "A9wRZ3J3u4z1",
        "outputId": "7efaa49c-7a5a-41d7-f000-7aace16007e5"
      },
      "outputs": [
        {
          "data": {
            "text/plain": [
              "tensor([[    1, 14350,   385,  4876, 27746,  5281,   304, 19235,   363,   278,\n",
              "         25305,   293, 16423,   292,   286,   728,   481, 29889, 12027,  7420,\n",
              "           920,   372,  9559, 29889, 32001,  3323,   622, 29901,  1619,   317,\n",
              "          3742,   406,  6225, 11763,   363,   278, 19906,   292,   341,   728,\n",
              "           481,    13,    13, 29928,   799]], device='cuda:0')"
            ]
          },
          "execution_count": 6,
          "metadata": {},
          "output_type": "execute_result"
        }
      ],
      "source": [
        "generation_output"
      ]
    },
    {
      "cell_type": "code",
      "execution_count": null,
      "metadata": {
        "colab": {
          "base_uri": "https://localhost:8080/"
        },
        "id": "7QlHLof3u8A3",
        "outputId": "73100ef8-6946-4a90-e399-03aa553666b8"
      },
      "outputs": [
        {
          "output_type": "stream",
          "name": "stdout",
          "text": [
            "Sub\n",
            "ject\n",
            "Subject\n",
            ":\n"
          ]
        }
      ],
      "source": [
        "print(tokenizer.decode(3323))\n",
        "print(tokenizer.decode(622))\n",
        "print(tokenizer.decode([3323, 622]))\n",
        "print(tokenizer.decode(29901))"
      ]
    },
    {
      "cell_type": "markdown",
      "metadata": {
        "id": "T9nRducW48bd"
      },
      "source": [
        "# Comparing Trained LLM Tokenizers\n"
      ]
    },
    {
      "cell_type": "code",
      "execution_count": 14,
      "metadata": {
        "id": "7W0xFIVo5A0S"
      },
      "outputs": [],
      "source": [
        "from transformers import AutoModelForCausalLM, AutoTokenizer\n",
        "\n",
        "colors_list = [\n",
        "    '102;194;165', '252;141;98', '141;160;203',\n",
        "    '231;138;195', '166;216;84', '255;217;47'\n",
        "]\n",
        "\n",
        "def show_tokens(sentence, tokenizer_name):\n",
        "    tokenizer = AutoTokenizer.from_pretrained(tokenizer_name)\n",
        "    token_ids = tokenizer(sentence).input_ids\n",
        "    for idx, t in enumerate(token_ids):\n",
        "        print(\n",
        "            f'\\x1b[0;30;48;2;{colors_list[idx % len(colors_list)]}m' +\n",
        "            tokenizer.decode(t) +\n",
        "            '\\x1b[0m',\n",
        "            end=' '\n",
        "        )"
      ]
    },
    {
      "cell_type": "code",
      "execution_count": null,
      "metadata": {
        "id": "Gcc3JjwX5DK-"
      },
      "outputs": [],
      "source": [
        "text = \"\"\"\n",
        "English and CAPITALIZATION\n",
        "🎵 鸟\n",
        "show_tokens False None elif == >= else: two tabs:\"    \" Three tabs: \"       \"\n",
        "12.0*50=600\n",
        "\"\"\""
      ]
    },
    {
      "cell_type": "code",
      "execution_count": null,
      "metadata": {
        "colab": {
          "base_uri": "https://localhost:8080/",
          "height": 163,
          "referenced_widgets": [
            "4078671133954494b00bf72a1d0db905",
            "1584b10a64be4f00b28c89b707f69142",
            "5402f658bc7a448fa46d1841ffffe0ad",
            "53eb676952984330a4b3083f06424afd",
            "e5c9d1383b5040ac8b4cdd8ef09237c0",
            "98e0172692354b3f812f7d031e656c52",
            "df7b7a89467348809f7fa5621763979f",
            "58b02eb2057d42269c4e9fe48ddee9f2",
            "5f647adf06e1445c95a671d56174d40c",
            "7602478ad14547ea95b4d5cbf856b3c9",
            "25d4971a73234179b122b2eb35b874b3",
            "ab4189ba84534f18bb119af7e70b11bb",
            "35717d80ddc248458d3be595aaf86283",
            "de0895f726794d168cd8da3f702174e3",
            "0b772da378b44175bb422fc21aa6abf7",
            "38997bc7718647fd81dcfa171e1b8d6c",
            "2578e39cd53c4b679fc23e6dbd786130",
            "2e85ace692aa472c8e9d2eca0fd701f4",
            "77007db778374d71a3fbed501f8217c7",
            "ccff306828974381ad2d6c62c88773b2",
            "96950b07a1804c66995dcc8d1e506485",
            "ceb2e1a220474905a11ec3b4830781b4",
            "0fd130450edc4b8d91512f56c090bca7",
            "028cfa04547448b8afb5020f3bb3c0c8",
            "64ae710ff60a498c8c5cc36ea64870f9",
            "fe61cede01104d92b682a51ce51e4a28",
            "7e3360ca16ad4a8aa9a0e5ce4fcdd4b3",
            "1ce41b5a4df5470882df29a3a7ea6724",
            "250b9bca9e7c4ca2ab8882811dfa5358",
            "583e896bc3db4909ae31dbdca00f9483",
            "0b4c94dbc112494a9e64952b7293d03b",
            "a4bb320248b64011acd4bd8efa684a88",
            "301956f09f054d9880b2983270ae9f49",
            "ce0d7c764f14475a84eda4258e02ab9b",
            "d3c172c7de7c4429b8c6ab044a0a0e72",
            "9f9a4cff19ae48ceb73f07da3ae11132",
            "9242595ac80e4dce956960015e8e3f4a",
            "fc2eb177417e42ecbc5e03752e359669",
            "04ae4bf20bdd4bd8be7bd78449c21e2d",
            "3a407a02cd9d4bf492bc193fab8e50a6",
            "81dd463a93c148ecba817711dbe99b22",
            "99f5f3b168b84b10834d371eb592311a",
            "f838b33fba37470587163ab0a6945541",
            "d1a73c1fc71a4351924a7c9d76074d54"
          ]
        },
        "id": "fCDGSXP75Hv-",
        "outputId": "1b6172a5-1fb8-4af8-9aad-dbc87845c08b"
      },
      "outputs": [
        {
          "output_type": "display_data",
          "data": {
            "text/plain": [
              "tokenizer_config.json:   0%|          | 0.00/48.0 [00:00<?, ?B/s]"
            ],
            "application/vnd.jupyter.widget-view+json": {
              "version_major": 2,
              "version_minor": 0,
              "model_id": "4078671133954494b00bf72a1d0db905"
            }
          },
          "metadata": {}
        },
        {
          "output_type": "display_data",
          "data": {
            "text/plain": [
              "config.json:   0%|          | 0.00/570 [00:00<?, ?B/s]"
            ],
            "application/vnd.jupyter.widget-view+json": {
              "version_major": 2,
              "version_minor": 0,
              "model_id": "ab4189ba84534f18bb119af7e70b11bb"
            }
          },
          "metadata": {}
        },
        {
          "output_type": "display_data",
          "data": {
            "text/plain": [
              "vocab.txt:   0%|          | 0.00/232k [00:00<?, ?B/s]"
            ],
            "application/vnd.jupyter.widget-view+json": {
              "version_major": 2,
              "version_minor": 0,
              "model_id": "0fd130450edc4b8d91512f56c090bca7"
            }
          },
          "metadata": {}
        },
        {
          "output_type": "display_data",
          "data": {
            "text/plain": [
              "tokenizer.json:   0%|          | 0.00/466k [00:00<?, ?B/s]"
            ],
            "application/vnd.jupyter.widget-view+json": {
              "version_major": 2,
              "version_minor": 0,
              "model_id": "ce0d7c764f14475a84eda4258e02ab9b"
            }
          },
          "metadata": {}
        },
        {
          "output_type": "stream",
          "name": "stdout",
          "text": [
            "\u001b[0;30;48;2;102;194;165m[CLS]\u001b[0m \u001b[0;30;48;2;252;141;98menglish\u001b[0m \u001b[0;30;48;2;141;160;203mand\u001b[0m \u001b[0;30;48;2;231;138;195mcapital\u001b[0m \u001b[0;30;48;2;166;216;84m##ization\u001b[0m \u001b[0;30;48;2;255;217;47m[UNK]\u001b[0m \u001b[0;30;48;2;102;194;165m[UNK]\u001b[0m \u001b[0;30;48;2;252;141;98mshow\u001b[0m \u001b[0;30;48;2;141;160;203m_\u001b[0m \u001b[0;30;48;2;231;138;195mtoken\u001b[0m \u001b[0;30;48;2;166;216;84m##s\u001b[0m \u001b[0;30;48;2;255;217;47mfalse\u001b[0m \u001b[0;30;48;2;102;194;165mnone\u001b[0m \u001b[0;30;48;2;252;141;98meli\u001b[0m \u001b[0;30;48;2;141;160;203m##f\u001b[0m \u001b[0;30;48;2;231;138;195m=\u001b[0m \u001b[0;30;48;2;166;216;84m=\u001b[0m \u001b[0;30;48;2;255;217;47m>\u001b[0m \u001b[0;30;48;2;102;194;165m=\u001b[0m \u001b[0;30;48;2;252;141;98melse\u001b[0m \u001b[0;30;48;2;141;160;203m:\u001b[0m \u001b[0;30;48;2;231;138;195mtwo\u001b[0m \u001b[0;30;48;2;166;216;84mtab\u001b[0m \u001b[0;30;48;2;255;217;47m##s\u001b[0m \u001b[0;30;48;2;102;194;165m:\u001b[0m \u001b[0;30;48;2;252;141;98m\"\u001b[0m \u001b[0;30;48;2;141;160;203m\"\u001b[0m \u001b[0;30;48;2;231;138;195mthree\u001b[0m \u001b[0;30;48;2;166;216;84mtab\u001b[0m \u001b[0;30;48;2;255;217;47m##s\u001b[0m \u001b[0;30;48;2;102;194;165m:\u001b[0m \u001b[0;30;48;2;252;141;98m\"\u001b[0m \u001b[0;30;48;2;141;160;203m\"\u001b[0m \u001b[0;30;48;2;231;138;195m12\u001b[0m \u001b[0;30;48;2;166;216;84m.\u001b[0m \u001b[0;30;48;2;255;217;47m0\u001b[0m \u001b[0;30;48;2;102;194;165m*\u001b[0m \u001b[0;30;48;2;252;141;98m50\u001b[0m \u001b[0;30;48;2;141;160;203m=\u001b[0m \u001b[0;30;48;2;231;138;195m600\u001b[0m \u001b[0;30;48;2;166;216;84m[SEP]\u001b[0m "
          ]
        }
      ],
      "source": [
        "show_tokens(text, \"bert-base-uncased\")"
      ]
    },
    {
      "cell_type": "code",
      "execution_count": null,
      "metadata": {
        "colab": {
          "base_uri": "https://localhost:8080/"
        },
        "id": "0Ay_NX3K5HyP",
        "outputId": "5d45aa75-f727-4443-d4f7-39ae0ea318d8"
      },
      "outputs": [
        {
          "output_type": "stream",
          "name": "stdout",
          "text": [
            "\u001b[0;30;48;2;102;194;165m[CLS]\u001b[0m \u001b[0;30;48;2;252;141;98mEnglish\u001b[0m \u001b[0;30;48;2;141;160;203mand\u001b[0m \u001b[0;30;48;2;231;138;195mCA\u001b[0m \u001b[0;30;48;2;166;216;84m##PI\u001b[0m \u001b[0;30;48;2;255;217;47m##TA\u001b[0m \u001b[0;30;48;2;102;194;165m##L\u001b[0m \u001b[0;30;48;2;252;141;98m##I\u001b[0m \u001b[0;30;48;2;141;160;203m##Z\u001b[0m \u001b[0;30;48;2;231;138;195m##AT\u001b[0m \u001b[0;30;48;2;166;216;84m##ION\u001b[0m \u001b[0;30;48;2;255;217;47m[UNK]\u001b[0m \u001b[0;30;48;2;102;194;165m[UNK]\u001b[0m \u001b[0;30;48;2;252;141;98mshow\u001b[0m \u001b[0;30;48;2;141;160;203m_\u001b[0m \u001b[0;30;48;2;231;138;195mtoken\u001b[0m \u001b[0;30;48;2;166;216;84m##s\u001b[0m \u001b[0;30;48;2;255;217;47mF\u001b[0m \u001b[0;30;48;2;102;194;165m##als\u001b[0m \u001b[0;30;48;2;252;141;98m##e\u001b[0m \u001b[0;30;48;2;141;160;203mNone\u001b[0m \u001b[0;30;48;2;231;138;195mel\u001b[0m \u001b[0;30;48;2;166;216;84m##if\u001b[0m \u001b[0;30;48;2;255;217;47m=\u001b[0m \u001b[0;30;48;2;102;194;165m=\u001b[0m \u001b[0;30;48;2;252;141;98m>\u001b[0m \u001b[0;30;48;2;141;160;203m=\u001b[0m \u001b[0;30;48;2;231;138;195melse\u001b[0m \u001b[0;30;48;2;166;216;84m:\u001b[0m \u001b[0;30;48;2;255;217;47mtwo\u001b[0m \u001b[0;30;48;2;102;194;165mta\u001b[0m \u001b[0;30;48;2;252;141;98m##bs\u001b[0m \u001b[0;30;48;2;141;160;203m:\u001b[0m \u001b[0;30;48;2;231;138;195m\"\u001b[0m \u001b[0;30;48;2;166;216;84m\"\u001b[0m \u001b[0;30;48;2;255;217;47mThree\u001b[0m \u001b[0;30;48;2;102;194;165mta\u001b[0m \u001b[0;30;48;2;252;141;98m##bs\u001b[0m \u001b[0;30;48;2;141;160;203m:\u001b[0m \u001b[0;30;48;2;231;138;195m\"\u001b[0m \u001b[0;30;48;2;166;216;84m\"\u001b[0m \u001b[0;30;48;2;255;217;47m12\u001b[0m \u001b[0;30;48;2;102;194;165m.\u001b[0m \u001b[0;30;48;2;252;141;98m0\u001b[0m \u001b[0;30;48;2;141;160;203m*\u001b[0m \u001b[0;30;48;2;231;138;195m50\u001b[0m \u001b[0;30;48;2;166;216;84m=\u001b[0m \u001b[0;30;48;2;255;217;47m600\u001b[0m \u001b[0;30;48;2;102;194;165m[SEP]\u001b[0m "
          ]
        }
      ],
      "source": [
        "show_tokens(text, \"bert-base-cased\")"
      ]
    },
    {
      "cell_type": "code",
      "execution_count": null,
      "metadata": {
        "colab": {
          "base_uri": "https://localhost:8080/"
        },
        "id": "K_k5QduY5H0u",
        "outputId": "d5ed0578-2621-4e3c-9d7c-85502f7e8ee2"
      },
      "outputs": [
        {
          "output_type": "stream",
          "name": "stdout",
          "text": [
            "\u001b[0;30;48;2;102;194;165m\n",
            "\u001b[0m \u001b[0;30;48;2;252;141;98mEnglish\u001b[0m \u001b[0;30;48;2;141;160;203m and\u001b[0m \u001b[0;30;48;2;231;138;195m CAP\u001b[0m \u001b[0;30;48;2;166;216;84mITAL\u001b[0m \u001b[0;30;48;2;255;217;47mIZ\u001b[0m \u001b[0;30;48;2;102;194;165mATION\u001b[0m \u001b[0;30;48;2;252;141;98m\n",
            "\u001b[0m \u001b[0;30;48;2;141;160;203m�\u001b[0m \u001b[0;30;48;2;231;138;195m�\u001b[0m \u001b[0;30;48;2;166;216;84m�\u001b[0m \u001b[0;30;48;2;255;217;47m �\u001b[0m \u001b[0;30;48;2;102;194;165m�\u001b[0m \u001b[0;30;48;2;252;141;98m�\u001b[0m \u001b[0;30;48;2;141;160;203m\n",
            "\u001b[0m \u001b[0;30;48;2;231;138;195mshow\u001b[0m \u001b[0;30;48;2;166;216;84m_\u001b[0m \u001b[0;30;48;2;255;217;47mt\u001b[0m \u001b[0;30;48;2;102;194;165mok\u001b[0m \u001b[0;30;48;2;252;141;98mens\u001b[0m \u001b[0;30;48;2;141;160;203m False\u001b[0m \u001b[0;30;48;2;231;138;195m None\u001b[0m \u001b[0;30;48;2;166;216;84m el\u001b[0m \u001b[0;30;48;2;255;217;47mif\u001b[0m \u001b[0;30;48;2;102;194;165m ==\u001b[0m \u001b[0;30;48;2;252;141;98m >=\u001b[0m \u001b[0;30;48;2;141;160;203m else\u001b[0m \u001b[0;30;48;2;231;138;195m:\u001b[0m \u001b[0;30;48;2;166;216;84m two\u001b[0m \u001b[0;30;48;2;255;217;47m tabs\u001b[0m \u001b[0;30;48;2;102;194;165m:\"\u001b[0m \u001b[0;30;48;2;252;141;98m \u001b[0m \u001b[0;30;48;2;141;160;203m \u001b[0m \u001b[0;30;48;2;231;138;195m \u001b[0m \u001b[0;30;48;2;166;216;84m \"\u001b[0m \u001b[0;30;48;2;255;217;47m Three\u001b[0m \u001b[0;30;48;2;102;194;165m tabs\u001b[0m \u001b[0;30;48;2;252;141;98m:\u001b[0m \u001b[0;30;48;2;141;160;203m \"\u001b[0m \u001b[0;30;48;2;231;138;195m \u001b[0m \u001b[0;30;48;2;166;216;84m \u001b[0m \u001b[0;30;48;2;255;217;47m \u001b[0m \u001b[0;30;48;2;102;194;165m \u001b[0m \u001b[0;30;48;2;252;141;98m \u001b[0m \u001b[0;30;48;2;141;160;203m \u001b[0m \u001b[0;30;48;2;231;138;195m \"\u001b[0m \u001b[0;30;48;2;166;216;84m\n",
            "\u001b[0m \u001b[0;30;48;2;255;217;47m12\u001b[0m \u001b[0;30;48;2;102;194;165m.\u001b[0m \u001b[0;30;48;2;252;141;98m0\u001b[0m \u001b[0;30;48;2;141;160;203m*\u001b[0m \u001b[0;30;48;2;231;138;195m50\u001b[0m \u001b[0;30;48;2;166;216;84m=\u001b[0m \u001b[0;30;48;2;255;217;47m600\u001b[0m \u001b[0;30;48;2;102;194;165m\n",
            "\u001b[0m "
          ]
        }
      ],
      "source": [
        "show_tokens(text, \"gpt2\")"
      ]
    },
    {
      "cell_type": "code",
      "execution_count": null,
      "metadata": {
        "colab": {
          "base_uri": "https://localhost:8080/"
        },
        "id": "EJn5nf3c5H2_",
        "outputId": "77005333-7437-4d9b-f37b-776d19957f5d"
      },
      "outputs": [
        {
          "output_type": "stream",
          "name": "stdout",
          "text": [
            "\u001b[0;30;48;2;102;194;165mEnglish\u001b[0m \u001b[0;30;48;2;252;141;98mand\u001b[0m \u001b[0;30;48;2;141;160;203mCA\u001b[0m \u001b[0;30;48;2;231;138;195mPI\u001b[0m \u001b[0;30;48;2;166;216;84mTAL\u001b[0m \u001b[0;30;48;2;255;217;47mIZ\u001b[0m \u001b[0;30;48;2;102;194;165mATION\u001b[0m \u001b[0;30;48;2;252;141;98m\u001b[0m \u001b[0;30;48;2;141;160;203m<unk>\u001b[0m \u001b[0;30;48;2;231;138;195m\u001b[0m \u001b[0;30;48;2;166;216;84m<unk>\u001b[0m \u001b[0;30;48;2;255;217;47mshow\u001b[0m \u001b[0;30;48;2;102;194;165m_\u001b[0m \u001b[0;30;48;2;252;141;98mto\u001b[0m \u001b[0;30;48;2;141;160;203mken\u001b[0m \u001b[0;30;48;2;231;138;195ms\u001b[0m \u001b[0;30;48;2;166;216;84mFal\u001b[0m \u001b[0;30;48;2;255;217;47ms\u001b[0m \u001b[0;30;48;2;102;194;165me\u001b[0m \u001b[0;30;48;2;252;141;98mNone\u001b[0m \u001b[0;30;48;2;141;160;203m\u001b[0m \u001b[0;30;48;2;231;138;195me\u001b[0m \u001b[0;30;48;2;166;216;84ml\u001b[0m \u001b[0;30;48;2;255;217;47mif\u001b[0m \u001b[0;30;48;2;102;194;165m=\u001b[0m \u001b[0;30;48;2;252;141;98m=\u001b[0m \u001b[0;30;48;2;141;160;203m>\u001b[0m \u001b[0;30;48;2;231;138;195m=\u001b[0m \u001b[0;30;48;2;166;216;84melse\u001b[0m \u001b[0;30;48;2;255;217;47m:\u001b[0m \u001b[0;30;48;2;102;194;165mtwo\u001b[0m \u001b[0;30;48;2;252;141;98mtab\u001b[0m \u001b[0;30;48;2;141;160;203ms\u001b[0m \u001b[0;30;48;2;231;138;195m:\u001b[0m \u001b[0;30;48;2;166;216;84m\"\u001b[0m \u001b[0;30;48;2;255;217;47m\"\u001b[0m \u001b[0;30;48;2;102;194;165mThree\u001b[0m \u001b[0;30;48;2;252;141;98mtab\u001b[0m \u001b[0;30;48;2;141;160;203ms\u001b[0m \u001b[0;30;48;2;231;138;195m:\u001b[0m \u001b[0;30;48;2;166;216;84m\"\u001b[0m \u001b[0;30;48;2;255;217;47m\"\u001b[0m \u001b[0;30;48;2;102;194;165m12.\u001b[0m \u001b[0;30;48;2;252;141;98m0\u001b[0m \u001b[0;30;48;2;141;160;203m*\u001b[0m \u001b[0;30;48;2;231;138;195m50\u001b[0m \u001b[0;30;48;2;166;216;84m=\u001b[0m \u001b[0;30;48;2;255;217;47m600\u001b[0m \u001b[0;30;48;2;102;194;165m\u001b[0m \u001b[0;30;48;2;252;141;98m</s>\u001b[0m "
          ]
        }
      ],
      "source": [
        "show_tokens(text, \"google/flan-t5-small\")"
      ]
    },
    {
      "cell_type": "code",
      "execution_count": null,
      "metadata": {
        "colab": {
          "base_uri": "https://localhost:8080/"
        },
        "id": "1ymhAsTg5H5e",
        "outputId": "54b9661a-d673-4791-ebba-e69aca2b40f9"
      },
      "outputs": [
        {
          "output_type": "stream",
          "name": "stdout",
          "text": [
            "\u001b[0;30;48;2;102;194;165m\n",
            "\u001b[0m \u001b[0;30;48;2;252;141;98mEnglish\u001b[0m \u001b[0;30;48;2;141;160;203m and\u001b[0m \u001b[0;30;48;2;231;138;195m CAPITAL\u001b[0m \u001b[0;30;48;2;166;216;84mIZATION\u001b[0m \u001b[0;30;48;2;255;217;47m\n",
            "\u001b[0m \u001b[0;30;48;2;102;194;165m�\u001b[0m \u001b[0;30;48;2;252;141;98m�\u001b[0m \u001b[0;30;48;2;141;160;203m�\u001b[0m \u001b[0;30;48;2;231;138;195m �\u001b[0m \u001b[0;30;48;2;166;216;84m�\u001b[0m \u001b[0;30;48;2;255;217;47m�\u001b[0m \u001b[0;30;48;2;102;194;165m\n",
            "\u001b[0m \u001b[0;30;48;2;252;141;98mshow\u001b[0m \u001b[0;30;48;2;141;160;203m_tokens\u001b[0m \u001b[0;30;48;2;231;138;195m False\u001b[0m \u001b[0;30;48;2;166;216;84m None\u001b[0m \u001b[0;30;48;2;255;217;47m elif\u001b[0m \u001b[0;30;48;2;102;194;165m ==\u001b[0m \u001b[0;30;48;2;252;141;98m >=\u001b[0m \u001b[0;30;48;2;141;160;203m else\u001b[0m \u001b[0;30;48;2;231;138;195m:\u001b[0m \u001b[0;30;48;2;166;216;84m two\u001b[0m \u001b[0;30;48;2;255;217;47m tabs\u001b[0m \u001b[0;30;48;2;102;194;165m:\"\u001b[0m \u001b[0;30;48;2;252;141;98m   \u001b[0m \u001b[0;30;48;2;141;160;203m \"\u001b[0m \u001b[0;30;48;2;231;138;195m Three\u001b[0m \u001b[0;30;48;2;166;216;84m tabs\u001b[0m \u001b[0;30;48;2;255;217;47m:\u001b[0m \u001b[0;30;48;2;102;194;165m \"\u001b[0m \u001b[0;30;48;2;252;141;98m      \u001b[0m \u001b[0;30;48;2;141;160;203m \"\n",
            "\u001b[0m \u001b[0;30;48;2;231;138;195m12\u001b[0m \u001b[0;30;48;2;166;216;84m.\u001b[0m \u001b[0;30;48;2;255;217;47m0\u001b[0m \u001b[0;30;48;2;102;194;165m*\u001b[0m \u001b[0;30;48;2;252;141;98m50\u001b[0m \u001b[0;30;48;2;141;160;203m=\u001b[0m \u001b[0;30;48;2;231;138;195m600\u001b[0m \u001b[0;30;48;2;166;216;84m\n",
            "\u001b[0m "
          ]
        }
      ],
      "source": [
        "# The official is `tiktoken` but this the same tokenizer on the HF platform\n",
        "show_tokens(text, \"Xenova/gpt-4\")"
      ]
    },
    {
      "cell_type": "code",
      "execution_count": null,
      "metadata": {
        "colab": {
          "base_uri": "https://localhost:8080/"
        },
        "id": "3_vAyeTy5H7_",
        "outputId": "02b3b01f-b920-4eef-f787-44f894466f9b"
      },
      "outputs": [
        {
          "output_type": "stream",
          "name": "stdout",
          "text": [
            "\u001b[0;30;48;2;102;194;165m\n",
            "\u001b[0m \u001b[0;30;48;2;252;141;98mEnglish\u001b[0m \u001b[0;30;48;2;141;160;203m and\u001b[0m \u001b[0;30;48;2;231;138;195m CAPITAL\u001b[0m \u001b[0;30;48;2;166;216;84mIZATION\u001b[0m \u001b[0;30;48;2;255;217;47m\n",
            "\u001b[0m \u001b[0;30;48;2;102;194;165m�\u001b[0m \u001b[0;30;48;2;252;141;98m�\u001b[0m \u001b[0;30;48;2;141;160;203m�\u001b[0m \u001b[0;30;48;2;231;138;195m \u001b[0m \u001b[0;30;48;2;166;216;84m�\u001b[0m \u001b[0;30;48;2;255;217;47m�\u001b[0m \u001b[0;30;48;2;102;194;165m\n",
            "\u001b[0m \u001b[0;30;48;2;252;141;98mshow\u001b[0m \u001b[0;30;48;2;141;160;203m_\u001b[0m \u001b[0;30;48;2;231;138;195mtokens\u001b[0m \u001b[0;30;48;2;166;216;84m False\u001b[0m \u001b[0;30;48;2;255;217;47m None\u001b[0m \u001b[0;30;48;2;102;194;165m elif\u001b[0m \u001b[0;30;48;2;252;141;98m ==\u001b[0m \u001b[0;30;48;2;141;160;203m >=\u001b[0m \u001b[0;30;48;2;231;138;195m else\u001b[0m \u001b[0;30;48;2;166;216;84m:\u001b[0m \u001b[0;30;48;2;255;217;47m two\u001b[0m \u001b[0;30;48;2;102;194;165m tabs\u001b[0m \u001b[0;30;48;2;252;141;98m:\"\u001b[0m \u001b[0;30;48;2;141;160;203m   \u001b[0m \u001b[0;30;48;2;231;138;195m \"\u001b[0m \u001b[0;30;48;2;166;216;84m Three\u001b[0m \u001b[0;30;48;2;255;217;47m tabs\u001b[0m \u001b[0;30;48;2;102;194;165m:\u001b[0m \u001b[0;30;48;2;252;141;98m \"\u001b[0m \u001b[0;30;48;2;141;160;203m      \u001b[0m \u001b[0;30;48;2;231;138;195m \"\u001b[0m \u001b[0;30;48;2;166;216;84m\n",
            "\u001b[0m \u001b[0;30;48;2;255;217;47m1\u001b[0m \u001b[0;30;48;2;102;194;165m2\u001b[0m \u001b[0;30;48;2;252;141;98m.\u001b[0m \u001b[0;30;48;2;141;160;203m0\u001b[0m \u001b[0;30;48;2;231;138;195m*\u001b[0m \u001b[0;30;48;2;166;216;84m5\u001b[0m \u001b[0;30;48;2;255;217;47m0\u001b[0m \u001b[0;30;48;2;102;194;165m=\u001b[0m \u001b[0;30;48;2;252;141;98m6\u001b[0m \u001b[0;30;48;2;141;160;203m0\u001b[0m \u001b[0;30;48;2;231;138;195m0\u001b[0m \u001b[0;30;48;2;166;216;84m\n",
            "\u001b[0m "
          ]
        }
      ],
      "source": [
        "# You need to request access before being able to use this tokenizer\n",
        "show_tokens(text, \"bigcode/starcoder2-15b\")"
      ]
    },
    {
      "cell_type": "code",
      "execution_count": null,
      "metadata": {
        "colab": {
          "base_uri": "https://localhost:8080/"
        },
        "id": "KeWcUdxY6I3u",
        "outputId": "186e2168-25be-479f-c740-a6bf09ee8665"
      },
      "outputs": [
        {
          "output_type": "stream",
          "name": "stdout",
          "text": [
            "\u001b[0;30;48;2;102;194;165m\n",
            "\u001b[0m \u001b[0;30;48;2;252;141;98mEnglish\u001b[0m \u001b[0;30;48;2;141;160;203m and\u001b[0m \u001b[0;30;48;2;231;138;195m CAP\u001b[0m \u001b[0;30;48;2;166;216;84mITAL\u001b[0m \u001b[0;30;48;2;255;217;47mIZATION\u001b[0m \u001b[0;30;48;2;102;194;165m\n",
            "\u001b[0m \u001b[0;30;48;2;252;141;98m�\u001b[0m \u001b[0;30;48;2;141;160;203m�\u001b[0m \u001b[0;30;48;2;231;138;195m�\u001b[0m \u001b[0;30;48;2;166;216;84m�\u001b[0m \u001b[0;30;48;2;255;217;47m �\u001b[0m \u001b[0;30;48;2;102;194;165m�\u001b[0m \u001b[0;30;48;2;252;141;98m�\u001b[0m \u001b[0;30;48;2;141;160;203m\n",
            "\u001b[0m \u001b[0;30;48;2;231;138;195mshow\u001b[0m \u001b[0;30;48;2;166;216;84m_\u001b[0m \u001b[0;30;48;2;255;217;47mtokens\u001b[0m \u001b[0;30;48;2;102;194;165m False\u001b[0m \u001b[0;30;48;2;252;141;98m None\u001b[0m \u001b[0;30;48;2;141;160;203m elif\u001b[0m \u001b[0;30;48;2;231;138;195m \u001b[0m \u001b[0;30;48;2;166;216;84m==\u001b[0m \u001b[0;30;48;2;255;217;47m \u001b[0m \u001b[0;30;48;2;102;194;165m>\u001b[0m \u001b[0;30;48;2;252;141;98m=\u001b[0m \u001b[0;30;48;2;141;160;203m else\u001b[0m \u001b[0;30;48;2;231;138;195m:\u001b[0m \u001b[0;30;48;2;166;216;84m two\u001b[0m \u001b[0;30;48;2;255;217;47m t\u001b[0m \u001b[0;30;48;2;102;194;165mabs\u001b[0m \u001b[0;30;48;2;252;141;98m:\u001b[0m \u001b[0;30;48;2;141;160;203m\"\u001b[0m \u001b[0;30;48;2;231;138;195m    \u001b[0m \u001b[0;30;48;2;166;216;84m\"\u001b[0m \u001b[0;30;48;2;255;217;47m Three\u001b[0m \u001b[0;30;48;2;102;194;165m t\u001b[0m \u001b[0;30;48;2;252;141;98mabs\u001b[0m \u001b[0;30;48;2;141;160;203m:\u001b[0m \u001b[0;30;48;2;231;138;195m \u001b[0m \u001b[0;30;48;2;166;216;84m\"\u001b[0m \u001b[0;30;48;2;255;217;47m       \u001b[0m \u001b[0;30;48;2;102;194;165m\"\u001b[0m \u001b[0;30;48;2;252;141;98m\n",
            "\u001b[0m \u001b[0;30;48;2;141;160;203m1\u001b[0m \u001b[0;30;48;2;231;138;195m2\u001b[0m \u001b[0;30;48;2;166;216;84m.\u001b[0m \u001b[0;30;48;2;255;217;47m0\u001b[0m \u001b[0;30;48;2;102;194;165m*\u001b[0m \u001b[0;30;48;2;252;141;98m5\u001b[0m \u001b[0;30;48;2;141;160;203m0\u001b[0m \u001b[0;30;48;2;231;138;195m=\u001b[0m \u001b[0;30;48;2;166;216;84m6\u001b[0m \u001b[0;30;48;2;255;217;47m0\u001b[0m \u001b[0;30;48;2;102;194;165m0\u001b[0m \u001b[0;30;48;2;252;141;98m\n",
            "\u001b[0m "
          ]
        }
      ],
      "source": [
        "show_tokens(text, \"facebook/galactica-1.3b\")"
      ]
    },
    {
      "cell_type": "code",
      "execution_count": null,
      "metadata": {
        "colab": {
          "base_uri": "https://localhost:8080/"
        },
        "id": "__QNj2Cohzz2",
        "outputId": "fee2d69a-d71a-4623-e371-388852d469e5"
      },
      "outputs": [
        {
          "output_type": "stream",
          "name": "stdout",
          "text": [
            "\u001b[0;30;48;2;102;194;165m\u001b[0m \u001b[0;30;48;2;252;141;98m\n",
            "\u001b[0m \u001b[0;30;48;2;141;160;203mEnglish\u001b[0m \u001b[0;30;48;2;231;138;195mand\u001b[0m \u001b[0;30;48;2;166;216;84mC\u001b[0m \u001b[0;30;48;2;255;217;47mAP\u001b[0m \u001b[0;30;48;2;102;194;165mIT\u001b[0m \u001b[0;30;48;2;252;141;98mAL\u001b[0m \u001b[0;30;48;2;141;160;203mIZ\u001b[0m \u001b[0;30;48;2;231;138;195mATION\u001b[0m \u001b[0;30;48;2;166;216;84m\n",
            "\u001b[0m \u001b[0;30;48;2;255;217;47m�\u001b[0m \u001b[0;30;48;2;102;194;165m�\u001b[0m \u001b[0;30;48;2;252;141;98m�\u001b[0m \u001b[0;30;48;2;141;160;203m�\u001b[0m \u001b[0;30;48;2;231;138;195m\u001b[0m \u001b[0;30;48;2;166;216;84m�\u001b[0m \u001b[0;30;48;2;255;217;47m�\u001b[0m \u001b[0;30;48;2;102;194;165m�\u001b[0m \u001b[0;30;48;2;252;141;98m\n",
            "\u001b[0m \u001b[0;30;48;2;141;160;203mshow\u001b[0m \u001b[0;30;48;2;231;138;195m_\u001b[0m \u001b[0;30;48;2;166;216;84mto\u001b[0m \u001b[0;30;48;2;255;217;47mkens\u001b[0m \u001b[0;30;48;2;102;194;165mFalse\u001b[0m \u001b[0;30;48;2;252;141;98mNone\u001b[0m \u001b[0;30;48;2;141;160;203melif\u001b[0m \u001b[0;30;48;2;231;138;195m==\u001b[0m \u001b[0;30;48;2;166;216;84m>=\u001b[0m \u001b[0;30;48;2;255;217;47melse\u001b[0m \u001b[0;30;48;2;102;194;165m:\u001b[0m \u001b[0;30;48;2;252;141;98mtwo\u001b[0m \u001b[0;30;48;2;141;160;203mtabs\u001b[0m \u001b[0;30;48;2;231;138;195m:\"\u001b[0m \u001b[0;30;48;2;166;216;84m  \u001b[0m \u001b[0;30;48;2;255;217;47m\"\u001b[0m \u001b[0;30;48;2;102;194;165mThree\u001b[0m \u001b[0;30;48;2;252;141;98mtabs\u001b[0m \u001b[0;30;48;2;141;160;203m:\u001b[0m \u001b[0;30;48;2;231;138;195m\"\u001b[0m \u001b[0;30;48;2;166;216;84m     \u001b[0m \u001b[0;30;48;2;255;217;47m\"\u001b[0m \u001b[0;30;48;2;102;194;165m\n",
            "\u001b[0m \u001b[0;30;48;2;252;141;98m1\u001b[0m \u001b[0;30;48;2;141;160;203m2\u001b[0m \u001b[0;30;48;2;231;138;195m.\u001b[0m \u001b[0;30;48;2;166;216;84m0\u001b[0m \u001b[0;30;48;2;255;217;47m*\u001b[0m \u001b[0;30;48;2;102;194;165m5\u001b[0m \u001b[0;30;48;2;252;141;98m0\u001b[0m \u001b[0;30;48;2;141;160;203m=\u001b[0m \u001b[0;30;48;2;231;138;195m6\u001b[0m \u001b[0;30;48;2;166;216;84m0\u001b[0m \u001b[0;30;48;2;255;217;47m0\u001b[0m \u001b[0;30;48;2;102;194;165m\n",
            "\u001b[0m "
          ]
        }
      ],
      "source": [
        "show_tokens(text, \"microsoft/Phi-3-mini-4k-instruct\")"
      ]
    },
    {
      "cell_type": "markdown",
      "metadata": {
        "id": "9Tu7OY4HvBEm"
      },
      "source": [
        "# Contextualized Word Embeddings From a Language Model (Like BERT)"
      ]
    },
    {
      "cell_type": "code",
      "execution_count": 15,
      "metadata": {
        "id": "nsjz-VsYu9bB",
        "outputId": "84aac16b-0b80-4593-a423-a242a6509f83",
        "colab": {
          "base_uri": "https://localhost:8080/",
          "height": 265,
          "referenced_widgets": [
            "fba9448bb76c480e9537797cd62af6a4",
            "10a9278c24f34450bd7a1effe6183f8f",
            "99ce7906e7b14d52acd07297fb72e1f4",
            "ba10e94d28cf4d8e9b2dcf7b055f1799",
            "582cc9573ab040bf9cee5c79247af7c3",
            "411b85ffd684421e8adce49bf1bca6c3",
            "fc9f700750ef435bbb94fc74cb6f3d5c",
            "a9886f659f7d4cb18ffeeae07702b22e",
            "6ab2e9474c584a4fa7993f3f2ba90448",
            "2f2be3ef4f114d848ba0e3fbf718199a",
            "bf82d02a66954d7491b4a23ec225fe3a",
            "78e713c26b824f0dbf27d0cbae9a4a95",
            "8957680fc00a454498c2bdedc96fbf2d",
            "c1819c67db0845848e5c58553416e356",
            "1c9a384280544121a3e0090314b8a422",
            "f1ec7869305e4540b895b908b13ddc84",
            "d914cb240eda4f4ea05ebb83b2678e29",
            "6b04eac57e31428fa79d3386180d42d9",
            "fd7c263ad6dd4d9bbcfbe49cd2973314",
            "196989a423ab4814b777590b0df34f36",
            "e1d06d1b8c40471387a2d64ee55d78ed",
            "4c3867fdbc22446f9df62bf4cb075b3b",
            "7cc4e12d65c64cf39d52f091c3ca05e5",
            "c5afed841eb54f27876cea876d981f65",
            "adc68913c7754680b16eeb10db0d45c9",
            "621f44c22458406eb9f7c4ec010dd652",
            "e2770e65a4f3491f8337c7c918368262",
            "01d8cdd5c1e9408a987c820cf3129e5c",
            "5cbf14478c294cbb8c94f9bddfa26ee3",
            "fd31331f51024e0f80b6f731f03e296e",
            "b4fb4b25920d440eb408832e01a5a3a7",
            "b724bb743d4a4598b2f4fee34e87da64",
            "0bd7ee0739de4c8cbefff1a63eda7d09",
            "c76c518cd4164d5ab94a85ec9775b052",
            "0a38cd52ae0f4438bf0671dced6edc97",
            "371172e7c1784591bda2fbc07d2886ce",
            "07472ae8a40e446cb1daad0235707c59",
            "110ba991df174ffe8efeefd2efe6bd3a",
            "1133b6ef1daf4e85b7545d3ce4bdff98",
            "fc0dfe7282d0407e824b6ec935529916",
            "794b8f39117940b4820ec2c9834902fe",
            "aded346e83f1415fba14d326e257a714",
            "b25d6dec6ef746c39076e8152b688cc0",
            "b7913779def7483c89a8bb76c9de214c",
            "6d2d3ff2d41648afb9cda0a4e47fc5c2",
            "368fcf6bcfce480981e29c395f4d3458",
            "c10731979e7243a1b2ea2a3bc19a8e69",
            "82b16894535c4f9b9ae48292e102a626",
            "2711254ad4df4b2fb548c5126935482a",
            "fdb3b6def76247d88cc5a2c2cbeee13a",
            "ac63415d63004b6fbaa246b3c92269b8",
            "5bf5abe813ee4b8290dc3ed258fc11fa",
            "6794807e74104f049799da84a2fad779",
            "7551c6cee16d4b6e8e2825747902d546",
            "c0a4698884fd4818b2aa5c69bfe6b9f7",
            "ab9e7827e87c4da5a369cb4ad004242c",
            "4a2556ad10434ff98f21dd6c3ac5f654",
            "0429567586674b68a49c18fb238fbe72",
            "eb08a013580f45b59983715f08f65a7f",
            "31c4e766c5b841799cb4f867cca9e820",
            "311d3a14537e4dde9cde446501967be3",
            "1f08669b51b44d56878a185da2bf4a8a",
            "72a3a4bd47d74ab6a984aa83fa8e0dc5",
            "0a44319adc7a43d9a41ebda8f9ba1b1e",
            "021b7f80220844369ca9484fbba200d9",
            "f562995079f74877b29935c8d6f34487"
          ]
        }
      },
      "outputs": [
        {
          "output_type": "display_data",
          "data": {
            "text/plain": [
              "tokenizer_config.json:   0%|          | 0.00/52.0 [00:00<?, ?B/s]"
            ],
            "application/vnd.jupyter.widget-view+json": {
              "version_major": 2,
              "version_minor": 0,
              "model_id": "fba9448bb76c480e9537797cd62af6a4"
            }
          },
          "metadata": {}
        },
        {
          "output_type": "stream",
          "name": "stderr",
          "text": [
            "/usr/local/lib/python3.11/dist-packages/huggingface_hub/file_download.py:797: FutureWarning: `resume_download` is deprecated and will be removed in version 1.0.0. Downloads always resume when possible. If you want to force a new download, use `force_download=True`.\n",
            "  warnings.warn(\n"
          ]
        },
        {
          "output_type": "display_data",
          "data": {
            "text/plain": [
              "config.json:   0%|          | 0.00/474 [00:00<?, ?B/s]"
            ],
            "application/vnd.jupyter.widget-view+json": {
              "version_major": 2,
              "version_minor": 0,
              "model_id": "78e713c26b824f0dbf27d0cbae9a4a95"
            }
          },
          "metadata": {}
        },
        {
          "output_type": "display_data",
          "data": {
            "text/plain": [
              "vocab.json:   0%|          | 0.00/899k [00:00<?, ?B/s]"
            ],
            "application/vnd.jupyter.widget-view+json": {
              "version_major": 2,
              "version_minor": 0,
              "model_id": "7cc4e12d65c64cf39d52f091c3ca05e5"
            }
          },
          "metadata": {}
        },
        {
          "output_type": "display_data",
          "data": {
            "text/plain": [
              "merges.txt:   0%|          | 0.00/456k [00:00<?, ?B/s]"
            ],
            "application/vnd.jupyter.widget-view+json": {
              "version_major": 2,
              "version_minor": 0,
              "model_id": "c76c518cd4164d5ab94a85ec9775b052"
            }
          },
          "metadata": {}
        },
        {
          "output_type": "display_data",
          "data": {
            "text/plain": [
              "config.json:   0%|          | 0.00/578 [00:00<?, ?B/s]"
            ],
            "application/vnd.jupyter.widget-view+json": {
              "version_major": 2,
              "version_minor": 0,
              "model_id": "6d2d3ff2d41648afb9cda0a4e47fc5c2"
            }
          },
          "metadata": {}
        },
        {
          "output_type": "display_data",
          "data": {
            "text/plain": [
              "pytorch_model.bin:   0%|          | 0.00/241M [00:00<?, ?B/s]"
            ],
            "application/vnd.jupyter.widget-view+json": {
              "version_major": 2,
              "version_minor": 0,
              "model_id": "ab9e7827e87c4da5a369cb4ad004242c"
            }
          },
          "metadata": {}
        }
      ],
      "source": [
        "from transformers import AutoModel, AutoTokenizer\n",
        "\n",
        "# Load a tokenizer\n",
        "tokenizer = AutoTokenizer.from_pretrained(\"microsoft/deberta-base\")\n",
        "\n",
        "# Load a language model\n",
        "model = AutoModel.from_pretrained(\"microsoft/deberta-v3-xsmall\")\n",
        "\n",
        "# Tokenize the sentence\n",
        "tokens = tokenizer('Hello world, and more', return_tensors='pt')\n",
        "\n",
        "\n",
        "# Process the tokens\n",
        "output = model(**tokens)[0]"
      ]
    },
    {
      "cell_type": "code",
      "execution_count": 16,
      "metadata": {
        "colab": {
          "base_uri": "https://localhost:8080/"
        },
        "id": "lQly_KcbvDce",
        "outputId": "34584c71-2422-4bcd-9174-5616c311e319"
      },
      "outputs": [
        {
          "output_type": "execute_result",
          "data": {
            "text/plain": [
              "torch.Size([1, 7, 384])"
            ]
          },
          "metadata": {},
          "execution_count": 16
        }
      ],
      "source": [
        "output.shape\n",
        "\n",
        "# print(output)"
      ]
    },
    {
      "cell_type": "code",
      "execution_count": null,
      "metadata": {
        "colab": {
          "base_uri": "https://localhost:8080/"
        },
        "id": "8GcRrpPV0kVj",
        "outputId": "77c7178e-6058-4927-f7b2-df7e2d19155d"
      },
      "outputs": [
        {
          "output_type": "stream",
          "name": "stdout",
          "text": [
            "[CLS]\n",
            "Hello\n",
            " world\n",
            ",\n",
            " and\n",
            " more\n",
            "[SEP]\n"
          ]
        }
      ],
      "source": [
        "#取第一个元素，相当于跳过第一个维度，是因为这里第一个维度是用于模型训练等场景的批处理，并行输入输出。\n",
        "#所以上面使用output捕获模型输出结果的时候，也跳过了第一个维度。\n",
        "for token in tokens['input_ids'][0]:\n",
        "    print(tokenizer.decode(token))"
      ]
    },
    {
      "cell_type": "code",
      "execution_count": null,
      "metadata": {
        "colab": {
          "base_uri": "https://localhost:8080/"
        },
        "id": "e8oHVC7B0lkk",
        "outputId": "03109d0f-9f37-426c-d472-2c00ff96c7a5"
      },
      "outputs": [
        {
          "output_type": "execute_result",
          "data": {
            "text/plain": [
              "tensor([[[-3.4816,  0.0861, -0.1819,  ..., -0.0612, -0.3911,  0.3017],\n",
              "         [ 0.1898,  0.3208, -0.2315,  ...,  0.3714,  0.2478,  0.8048],\n",
              "         [ 0.2071,  0.5036, -0.0485,  ...,  1.2175, -0.2292,  0.8582],\n",
              "         [-3.4278,  0.0645, -0.1427,  ...,  0.0658, -0.4367,  0.3834]]],\n",
              "       grad_fn=<NativeLayerNormBackward0>)"
            ]
          },
          "metadata": {},
          "execution_count": 49
        }
      ],
      "source": [
        "# 所以这里output是经过LLM处理后的contextual token embedding vectors，我最开始以为这是模型产出的结果，\n",
        "# 但其实是经过输入文本tokenzier变成token embedding vector之后输入LLM，处理得到的带有上下文信息的vectors\n",
        "# 于是可以注意到它的shape里面维度和input 分词之后保持一致\n",
        "output"
      ]
    },
    {
      "cell_type": "code",
      "source": [
        "# for s in output[0]:\n",
        "#   print(tokenizer.decode(s))\n",
        "\n",
        "# print(tokenizer.decode(output[0]))"
      ],
      "metadata": {
        "id": "Vzbd4pYTbT8z"
      },
      "execution_count": null,
      "outputs": []
    },
    {
      "cell_type": "markdown",
      "metadata": {
        "id": "DdEDuLWa0r4L"
      },
      "source": [
        "# Text Embeddings (For Sentences and Whole Documents)"
      ]
    },
    {
      "cell_type": "markdown",
      "source": [],
      "metadata": {
        "id": "c7Mqb3xUwjsD"
      }
    },
    {
      "cell_type": "code",
      "execution_count": 3,
      "metadata": {
        "id": "TQHWioIc0pQ8"
      },
      "outputs": [],
      "source": [
        "from sentence_transformers import SentenceTransformer\n",
        "\n",
        "# Load model\n",
        "model = SentenceTransformer('sentence-transformers/all-mpnet-base-v2')\n",
        "\n",
        "# Convert text to text embeddings\n",
        "vector = model.encode(\"Best movie ever!\")"
      ]
    },
    {
      "cell_type": "code",
      "execution_count": null,
      "metadata": {
        "colab": {
          "base_uri": "https://localhost:8080/"
        },
        "id": "PDwfmBiC0uER",
        "outputId": "db6755ce-92b2-45d1-85aa-9b53baee446e"
      },
      "outputs": [
        {
          "data": {
            "text/plain": [
              "(768,)"
            ]
          },
          "execution_count": 13,
          "metadata": {},
          "output_type": "execute_result"
        }
      ],
      "source": [
        "vector.shape"
      ]
    },
    {
      "cell_type": "markdown",
      "metadata": {
        "id": "xnuGRjo80yKj"
      },
      "source": [
        "# Word Embeddings Beyond LLMs\n"
      ]
    },
    {
      "cell_type": "markdown",
      "source": [
        "在语言模型之外，embedding或者说vector representation也非常有用：比如recommender engines和robotics。\n",
        "这里深入了解下word2vec的细节，以及如何用于推荐系统。"
      ],
      "metadata": {
        "id": "fKziZ3VKw2A4"
      }
    },
    {
      "cell_type": "code",
      "execution_count": null,
      "metadata": {
        "colab": {
          "base_uri": "https://localhost:8080/"
        },
        "id": "sKgNdnwe0vfK",
        "outputId": "50b0ff55-a211-401b-b6a1-513807ea274b"
      },
      "outputs": [
        {
          "output_type": "stream",
          "name": "stdout",
          "text": [
            "[==================================================] 100.0% 1662.8/1662.8MB downloaded\n"
          ]
        }
      ],
      "source": [
        "import gensim.downloader as api\n",
        "\n",
        "# Download embeddings (66MB, glove, trained on wikipedia, vector size: 50)\n",
        "# Other options include \"word2vec-google-news-300\"\n",
        "# More options at https://github.com/RaRe-Technologies/gensim-data\n",
        "model = api.load(\"glove-wiki-gigaword-50\")\n",
        "model2 = api.load(\"word2vec-google-news-300\")"
      ]
    },
    {
      "cell_type": "code",
      "execution_count": null,
      "metadata": {
        "colab": {
          "base_uri": "https://localhost:8080/"
        },
        "id": "u_vj5NVn01aD",
        "outputId": "3a9f30ef-b244-494e-c842-fd5ac06a282e"
      },
      "outputs": [
        {
          "output_type": "stream",
          "name": "stdout",
          "text": [
            "('king', 1.0000001192092896)\n",
            "('prince', 0.8236179351806641)\n",
            "('queen', 0.7839043140411377)\n",
            "('ii', 0.7746230363845825)\n",
            "('emperor', 0.7736247777938843)\n",
            "('son', 0.766719400882721)\n",
            "('uncle', 0.7627150416374207)\n",
            "('kingdom', 0.7542161345481873)\n",
            "('throne', 0.7539914846420288)\n",
            "('brother', 0.7492411136627197)\n",
            "('ruler', 0.7434253692626953)\n",
            "------\n",
            "('king', 1.0)\n",
            "('kings', 0.7138044834136963)\n",
            "('queen', 0.6510956883430481)\n",
            "('monarch', 0.6413194537162781)\n",
            "('crown_prince', 0.6204220056533813)\n",
            "('prince', 0.6159993410110474)\n",
            "('sultan', 0.5864824056625366)\n",
            "('ruler', 0.5797566771507263)\n",
            "('princes', 0.5646551847457886)\n",
            "('Prince_Paras', 0.543294370174408)\n",
            "('throne', 0.5422105193138123)\n"
          ]
        }
      ],
      "source": [
        "for x in model.most_similar([model['king']], topn=11):\n",
        "  print(x)\n",
        "\n",
        "print(\"------\")\n",
        "\n",
        "for x in model2.most_similar([model2['king']], topn=11):\n",
        "  print(x)"
      ]
    },
    {
      "cell_type": "markdown",
      "source": [
        "## Word2Vec Algorithmm and Contrastive Training\n",
        "与LLM类似，word2vec是在文本例子上训练的。![Snipaste_2025-03-20_21-51-38.png](data:image/png;base64,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)\n",
        "![image.png](data:image/png;base64,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)"
      ],
      "metadata": {
        "id": "jeFql2GMx_CI"
      }
    },
    {
      "cell_type": "markdown",
      "source": [
        "如果只有postive的例子，那模型会学习成只输出1.所以你必须添加相应的negative example。事实上negative example并不需要精心选取，只需要从dataset中随机采样即可。这是word2vec的核心概念之一：negative sampling， 另一个是skip-gram（也就是选取neighboring words）\n",
        "\n",
        "在训练开始之前，把单词本中的所有token对应的embedding也就是向量值进行随机的初始化。然后训练的过程本质上是：使用两个token的embedding作为输入，模型输出他们的相关性决定他们是不是neighbors，然后根据之前sample的结果，使用机器学习技术对模型权重进行更新，大致如下图："
      ],
      "metadata": {
        "id": "eJXHeHiR1E1i"
      }
    },
    {
      "cell_type": "markdown",
      "source": [
        "![image.png](data:image/png;base64,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)"
      ],
      "metadata": {
        "id": "RTLeHtF9bI07"
      }
    },
    {
      "cell_type": "markdown",
      "source": [
        "\n",
        "This idea of a model that takes two vectors and predicts if they have a certain relation is one of the most powerful ideas in machine learning, and time after time has proven to work very well with language models\n",
        "后面chap10会详细介绍这个理念，以及它如何用于llm在特定任务上的优化\n"
      ],
      "metadata": {
        "id": "4C0uPBeU1o8j"
      }
    },
    {
      "cell_type": "markdown",
      "source": [],
      "metadata": {
        "id": "yj-pPVQk1G8c"
      }
    },
    {
      "cell_type": "markdown",
      "metadata": {
        "id": "QMSgyKKS4xUx"
      },
      "source": [
        "# Recommending songs by embeddings"
      ]
    },
    {
      "cell_type": "code",
      "execution_count": 5,
      "metadata": {
        "id": "3dJdWzT67nDL"
      },
      "outputs": [],
      "source": [
        "import pandas as pd\n",
        "from urllib import request\n",
        "\n",
        "# Get the playlist dataset file\n",
        "data = request.urlopen('https://storage.googleapis.com/maps-premium/dataset/yes_complete/train.txt')\n",
        "\n",
        "# Parse the playlist dataset file. Skip the first two lines as\n",
        "# they only contain metadata\n",
        "lines = data.read().decode(\"utf-8\").split('\\n')[2:]\n",
        "\n",
        "# Remove playlists with only one song\n",
        "playlists = [s.rstrip().split() for s in lines if len(s.split()) > 1]\n",
        "\n",
        "# Load song metadata\n",
        "songs_file = request.urlopen('https://storage.googleapis.com/maps-premium/dataset/yes_complete/song_hash.txt')\n",
        "songs_file = songs_file.read().decode(\"utf-8\").split('\\n')\n",
        "songs = [s.rstrip().split('\\t') for s in songs_file]\n",
        "songs_df = pd.DataFrame(data=songs, columns = ['id', 'title', 'artist'])\n",
        "songs_df = songs_df.set_index('id')"
      ]
    },
    {
      "cell_type": "code",
      "execution_count": 5,
      "metadata": {
        "colab": {
          "base_uri": "https://localhost:8080/"
        },
        "id": "Q3zirG-lo3H8",
        "outputId": "d3578230-48ff-480e-c51f-205f2efe8336"
      },
      "outputs": [
        {
          "output_type": "stream",
          "name": "stdout",
          "text": [
            "Playlist #1:\n",
            "  ['0', '1', '2', '3', '4', '5', '6', '7', '8', '9', '10', '11', '12', '13', '14', '15', '16', '17', '18', '19', '20', '21', '22', '23', '24', '25', '26', '27', '28', '29', '30', '31', '32', '33', '34', '35', '36', '37', '38', '39', '40', '41', '2', '42', '43', '44', '45', '46', '47', '48', '20', '49', '8', '50', '51', '52', '53', '54', '55', '56', '57', '25', '58', '59', '60', '61', '62', '3', '63', '64', '65', '66', '46', '47', '67', '2', '48', '68', '69', '70', '57', '50', '71', '72', '53', '73', '25', '74', '59', '20', '46', '75', '76', '77', '59', '20', '43'] \n",
            "\n",
            "Playlist #2:\n",
            "  ['78', '79', '80', '3', '62', '81', '14', '82', '48', '83', '84', '17', '85', '86', '87', '88', '74', '89', '90', '91', '4', '73', '62', '92', '17', '53', '59', '93', '94', '51', '50', '27', '95', '48', '96', '97', '98', '99', '100', '57', '101', '102', '25', '103', '3', '104', '105', '106', '107', '47', '108', '109', '110', '111', '112', '113', '25', '63', '62', '114', '115', '84', '116', '117', '118', '119', '120', '121', '122', '123', '50', '70', '71', '124', '17', '85', '14', '82', '48', '125', '47', '46', '72', '53', '25', '73', '4', '126', '59', '74', '20', '43', '127', '128', '129', '13', '82', '48', '130', '131', '132', '133', '134', '135', '136', '137', '59', '46', '138', '43', '20', '139', '140', '73', '57', '70', '141', '3', '1', '74', '142', '143', '144', '145', '48', '13', '25', '146', '50', '147', '126', '59', '20', '148', '149', '150', '151', '152', '56', '153', '154', '155', '156', '157', '158', '159', '160', '161', '162', '163', '164', '165', '166', '167', '168', '169', '170', '171', '172', '173', '174', '175', '60', '176', '51', '177', '178', '179', '180', '181', '182', '183', '184', '185', '57', '186', '187', '188', '189', '190', '191', '46', '192', '193', '194', '195', '196', '197', '198', '25', '199', '200', '49', '201', '100', '202', '203', '204', '205', '206', '207', '32', '208', '209', '210']\n"
          ]
        }
      ],
      "source": [
        "print( 'Playlist #1:\\n ', playlists[0], '\\n')\n",
        "print( 'Playlist #2:\\n ', playlists[1])"
      ]
    },
    {
      "cell_type": "code",
      "source": [
        "!pip install scipy==1.10.1"
      ],
      "metadata": {
        "id": "CpC7aBYbULhA",
        "outputId": "cb13f080-c24c-48ac-c0a2-1c6a37cb3d95",
        "colab": {
          "base_uri": "https://localhost:8080/"
        }
      },
      "execution_count": 15,
      "outputs": [
        {
          "output_type": "stream",
          "name": "stdout",
          "text": [
            "Requirement already satisfied: scipy==1.10.1 in /usr/local/lib/python3.11/dist-packages (1.10.1)\n",
            "Requirement already satisfied: numpy<1.27.0,>=1.19.5 in /usr/local/lib/python3.11/dist-packages (from scipy==1.10.1) (1.26.4)\n"
          ]
        }
      ]
    },
    {
      "cell_type": "code",
      "execution_count": 6,
      "metadata": {
        "id": "EaUz3E0P7sJs"
      },
      "outputs": [],
      "source": [
        "from gensim.models import Word2Vec\n",
        "\n",
        "# Train our Word2Vec model\n",
        "model = Word2Vec(\n",
        "    playlists, vector_size=32, window=20, negative=50, min_count=1, workers=4\n",
        ")"
      ]
    },
    {
      "cell_type": "code",
      "execution_count": null,
      "metadata": {
        "colab": {
          "base_uri": "https://localhost:8080/"
        },
        "id": "9EFGWesO8rOJ",
        "outputId": "1e46ce56-7b14-4268-a38a-c328e0f52943"
      },
      "outputs": [
        {
          "data": {
            "text/plain": [
              "[('2849', 0.9979680776596069),\n",
              " ('2640', 0.9964019060134888),\n",
              " ('3167', 0.9963980317115784),\n",
              " ('5549', 0.9959008693695068),\n",
              " ('2715', 0.9958351850509644),\n",
              " ('3117', 0.9954560995101929),\n",
              " ('2987', 0.9953479766845703),\n",
              " ('2881', 0.9951083660125732),\n",
              " ('2886', 0.9950577616691589),\n",
              " ('3094', 0.994985044002533)]"
            ]
          },
          "execution_count": 23,
          "metadata": {},
          "output_type": "execute_result"
        }
      ],
      "source": [
        "song_id = 2172\n",
        "\n",
        "# Ask the model for songs similar to song #2172\n",
        "model.wv.most_similar(positive=str(song_id))"
      ]
    },
    {
      "cell_type": "code",
      "execution_count": null,
      "metadata": {
        "colab": {
          "base_uri": "https://localhost:8080/"
        },
        "id": "AMiY6isXqKk4",
        "outputId": "0f465f20-ada8-4fa8-92d6-f72966d03aa4"
      },
      "outputs": [
        {
          "name": "stdout",
          "output_type": "stream",
          "text": [
            "title     Fade To Black\n",
            "artist        Metallica\n",
            "Name: 2172 , dtype: object\n"
          ]
        }
      ],
      "source": [
        "print(songs_df.iloc[2172])"
      ]
    },
    {
      "cell_type": "code",
      "execution_count": 7,
      "metadata": {
        "colab": {
          "base_uri": "https://localhost:8080/",
          "height": 305
        },
        "id": "aOzWENxr2Fl3",
        "outputId": "823f4f38-f991-42bc-d626-be8e7159fb90"
      },
      "outputs": [
        {
          "output_type": "error",
          "ename": "NameError",
          "evalue": "name 'model' is not defined",
          "traceback": [
            "\u001b[0;31m---------------------------------------------------------------------------\u001b[0m",
            "\u001b[0;31mNameError\u001b[0m                                 Traceback (most recent call last)",
            "\u001b[0;32m<ipython-input-7-b0607a0e8b83>\u001b[0m in \u001b[0;36m<cell line: 0>\u001b[0;34m()\u001b[0m\n\u001b[1;32m      8\u001b[0m \u001b[0;34m\u001b[0m\u001b[0m\n\u001b[1;32m      9\u001b[0m \u001b[0;31m# Extract recommendations\u001b[0m\u001b[0;34m\u001b[0m\u001b[0;34m\u001b[0m\u001b[0m\n\u001b[0;32m---> 10\u001b[0;31m \u001b[0mprint_recommendations\u001b[0m\u001b[0;34m(\u001b[0m\u001b[0;36m2172\u001b[0m\u001b[0;34m)\u001b[0m\u001b[0;34m\u001b[0m\u001b[0;34m\u001b[0m\u001b[0m\n\u001b[0m",
            "\u001b[0;32m<ipython-input-7-b0607a0e8b83>\u001b[0m in \u001b[0;36mprint_recommendations\u001b[0;34m(song_id)\u001b[0m\n\u001b[1;32m      3\u001b[0m \u001b[0;32mdef\u001b[0m \u001b[0mprint_recommendations\u001b[0m\u001b[0;34m(\u001b[0m\u001b[0msong_id\u001b[0m\u001b[0;34m)\u001b[0m\u001b[0;34m:\u001b[0m\u001b[0;34m\u001b[0m\u001b[0;34m\u001b[0m\u001b[0m\n\u001b[1;32m      4\u001b[0m     similar_songs = np.array(\n\u001b[0;32m----> 5\u001b[0;31m         \u001b[0mmodel\u001b[0m\u001b[0;34m.\u001b[0m\u001b[0mwv\u001b[0m\u001b[0;34m.\u001b[0m\u001b[0mmost_similar\u001b[0m\u001b[0;34m(\u001b[0m\u001b[0mpositive\u001b[0m\u001b[0;34m=\u001b[0m\u001b[0mstr\u001b[0m\u001b[0;34m(\u001b[0m\u001b[0msong_id\u001b[0m\u001b[0;34m)\u001b[0m\u001b[0;34m,\u001b[0m\u001b[0mtopn\u001b[0m\u001b[0;34m=\u001b[0m\u001b[0;36m5\u001b[0m\u001b[0;34m)\u001b[0m\u001b[0;34m\u001b[0m\u001b[0;34m\u001b[0m\u001b[0m\n\u001b[0m\u001b[1;32m      6\u001b[0m     )[:,0]\n\u001b[1;32m      7\u001b[0m     \u001b[0;32mreturn\u001b[0m  \u001b[0msongs_df\u001b[0m\u001b[0;34m.\u001b[0m\u001b[0miloc\u001b[0m\u001b[0;34m[\u001b[0m\u001b[0msimilar_songs\u001b[0m\u001b[0;34m]\u001b[0m\u001b[0;34m\u001b[0m\u001b[0;34m\u001b[0m\u001b[0m\n",
            "\u001b[0;31mNameError\u001b[0m: name 'model' is not defined"
          ]
        }
      ],
      "source": [
        "import numpy as np\n",
        "\n",
        "def print_recommendations(song_id):\n",
        "    similar_songs = np.array(\n",
        "        model.wv.most_similar(positive=str(song_id),topn=5)\n",
        "    )[:,0]\n",
        "    return  songs_df.iloc[similar_songs]\n",
        "\n",
        "# Extract recommendations\n",
        "print_recommendations(2172)"
      ]
    },
    {
      "cell_type": "code",
      "execution_count": null,
      "metadata": {
        "colab": {
          "base_uri": "https://localhost:8080/",
          "height": 310
        },
        "id": "xqrzQQ-m1EJ5",
        "outputId": "3cf4967d-f510-4772-cb11-4166d16c6956"
      },
      "outputs": [
        {
          "name": "stdout",
          "output_type": "stream",
          "text": [
            "title     Fade To Black\n",
            "artist        Metallica\n",
            "Name: 2172 , dtype: object\n",
            "['2849' '2640' '3167' '5549' '2715']\n"
          ]
        },
        {
          "data": {
            "application/vnd.google.colaboratory.intrinsic+json": {
              "summary": "{\n  \"name\": \"print_recommendations(2172)\",\n  \"rows\": 5,\n  \"fields\": [\n    {\n      \"column\": \"id\",\n      \"properties\": {\n        \"dtype\": \"string\",\n        \"num_unique_values\": 5,\n        \"samples\": [\n          \"2640 \",\n          \"2715 \",\n          \"3167 \"\n        ],\n        \"semantic_type\": \"\",\n        \"description\": \"\"\n      }\n    },\n    {\n      \"column\": \"title\",\n      \"properties\": {\n        \"dtype\": \"string\",\n        \"num_unique_values\": 5,\n        \"samples\": [\n          \"Red Barchetta\",\n          \"Rainbow In The Dark\",\n          \"Unchained\"\n        ],\n        \"semantic_type\": \"\",\n        \"description\": \"\"\n      }\n    },\n    {\n      \"column\": \"artist\",\n      \"properties\": {\n        \"dtype\": \"string\",\n        \"num_unique_values\": 5,\n        \"samples\": [\n          \"Rush\",\n          \"Dio\",\n          \"Van Halen\"\n        ],\n        \"semantic_type\": \"\",\n        \"description\": \"\"\n      }\n    }\n  ]\n}",
              "type": "dataframe"
            },
            "text/html": [
              "\n",
              "  <div id=\"df-c38e0eb4-9c39-45f5-aa32-dbd65ad89576\" class=\"colab-df-container\">\n",
              "    <div>\n",
              "<style scoped>\n",
              "    .dataframe tbody tr th:only-of-type {\n",
              "        vertical-align: middle;\n",
              "    }\n",
              "\n",
              "    .dataframe tbody tr th {\n",
              "        vertical-align: top;\n",
              "    }\n",
              "\n",
              "    .dataframe thead th {\n",
              "        text-align: right;\n",
              "    }\n",
              "</style>\n",
              "<table border=\"1\" class=\"dataframe\">\n",
              "  <thead>\n",
              "    <tr style=\"text-align: right;\">\n",
              "      <th></th>\n",
              "      <th>title</th>\n",
              "      <th>artist</th>\n",
              "    </tr>\n",
              "    <tr>\n",
              "      <th>id</th>\n",
              "      <th></th>\n",
              "      <th></th>\n",
              "    </tr>\n",
              "  </thead>\n",
              "  <tbody>\n",
              "    <tr>\n",
              "      <th>2849</th>\n",
              "      <td>Run To The Hills</td>\n",
              "      <td>Iron Maiden</td>\n",
              "    </tr>\n",
              "    <tr>\n",
              "      <th>2640</th>\n",
              "      <td>Red Barchetta</td>\n",
              "      <td>Rush</td>\n",
              "    </tr>\n",
              "    <tr>\n",
              "      <th>3167</th>\n",
              "      <td>Unchained</td>\n",
              "      <td>Van Halen</td>\n",
              "    </tr>\n",
              "    <tr>\n",
              "      <th>5549</th>\n",
              "      <td>November Rain</td>\n",
              "      <td>Guns N' Roses</td>\n",
              "    </tr>\n",
              "    <tr>\n",
              "      <th>2715</th>\n",
              "      <td>Rainbow In The Dark</td>\n",
              "      <td>Dio</td>\n",
              "    </tr>\n",
              "  </tbody>\n",
              "</table>\n",
              "</div>\n",
              "    <div class=\"colab-df-buttons\">\n",
              "\n",
              "  <div class=\"colab-df-container\">\n",
              "    <button class=\"colab-df-convert\" onclick=\"convertToInteractive('df-c38e0eb4-9c39-45f5-aa32-dbd65ad89576')\"\n",
              "            title=\"Convert this dataframe to an interactive table.\"\n",
              "            style=\"display:none;\">\n",
              "\n",
              "  <svg xmlns=\"http://www.w3.org/2000/svg\" height=\"24px\" viewBox=\"0 -960 960 960\">\n",
              "    <path d=\"M120-120v-720h720v720H120Zm60-500h600v-160H180v160Zm220 220h160v-160H400v160Zm0 220h160v-160H400v160ZM180-400h160v-160H180v160Zm440 0h160v-160H620v160ZM180-180h160v-160H180v160Zm440 0h160v-160H620v160Z\"/>\n",
              "  </svg>\n",
              "    </button>\n",
              "\n",
              "  <style>\n",
              "    .colab-df-container {\n",
              "      display:flex;\n",
              "      gap: 12px;\n",
              "    }\n",
              "\n",
              "    .colab-df-convert {\n",
              "      background-color: #E8F0FE;\n",
              "      border: none;\n",
              "      border-radius: 50%;\n",
              "      cursor: pointer;\n",
              "      display: none;\n",
              "      fill: #1967D2;\n",
              "      height: 32px;\n",
              "      padding: 0 0 0 0;\n",
              "      width: 32px;\n",
              "    }\n",
              "\n",
              "    .colab-df-convert:hover {\n",
              "      background-color: #E2EBFA;\n",
              "      box-shadow: 0px 1px 2px rgba(60, 64, 67, 0.3), 0px 1px 3px 1px rgba(60, 64, 67, 0.15);\n",
              "      fill: #174EA6;\n",
              "    }\n",
              "\n",
              "    .colab-df-buttons div {\n",
              "      margin-bottom: 4px;\n",
              "    }\n",
              "\n",
              "    [theme=dark] .colab-df-convert {\n",
              "      background-color: #3B4455;\n",
              "      fill: #D2E3FC;\n",
              "    }\n",
              "\n",
              "    [theme=dark] .colab-df-convert:hover {\n",
              "      background-color: #434B5C;\n",
              "      box-shadow: 0px 1px 3px 1px rgba(0, 0, 0, 0.15);\n",
              "      filter: drop-shadow(0px 1px 2px rgba(0, 0, 0, 0.3));\n",
              "      fill: #FFFFFF;\n",
              "    }\n",
              "  </style>\n",
              "\n",
              "    <script>\n",
              "      const buttonEl =\n",
              "        document.querySelector('#df-c38e0eb4-9c39-45f5-aa32-dbd65ad89576 button.colab-df-convert');\n",
              "      buttonEl.style.display =\n",
              "        google.colab.kernel.accessAllowed ? 'block' : 'none';\n",
              "\n",
              "      async function convertToInteractive(key) {\n",
              "        const element = document.querySelector('#df-c38e0eb4-9c39-45f5-aa32-dbd65ad89576');\n",
              "        const dataTable =\n",
              "          await google.colab.kernel.invokeFunction('convertToInteractive',\n",
              "                                                    [key], {});\n",
              "        if (!dataTable) return;\n",
              "\n",
              "        const docLinkHtml = 'Like what you see? Visit the ' +\n",
              "          '<a target=\"_blank\" href=https://colab.research.google.com/notebooks/data_table.ipynb>data table notebook</a>'\n",
              "          + ' to learn more about interactive tables.';\n",
              "        element.innerHTML = '';\n",
              "        dataTable['output_type'] = 'display_data';\n",
              "        await google.colab.output.renderOutput(dataTable, element);\n",
              "        const docLink = document.createElement('div');\n",
              "        docLink.innerHTML = docLinkHtml;\n",
              "        element.appendChild(docLink);\n",
              "      }\n",
              "    </script>\n",
              "  </div>\n",
              "\n",
              "\n",
              "<div id=\"df-dbb90c85-6dc6-4ec9-a4c5-ebcbdb0a5897\">\n",
              "  <button class=\"colab-df-quickchart\" onclick=\"quickchart('df-dbb90c85-6dc6-4ec9-a4c5-ebcbdb0a5897')\"\n",
              "            title=\"Suggest charts\"\n",
              "            style=\"display:none;\">\n",
              "\n",
              "<svg xmlns=\"http://www.w3.org/2000/svg\" height=\"24px\"viewBox=\"0 0 24 24\"\n",
              "     width=\"24px\">\n",
              "    <g>\n",
              "        <path d=\"M19 3H5c-1.1 0-2 .9-2 2v14c0 1.1.9 2 2 2h14c1.1 0 2-.9 2-2V5c0-1.1-.9-2-2-2zM9 17H7v-7h2v7zm4 0h-2V7h2v10zm4 0h-2v-4h2v4z\"/>\n",
              "    </g>\n",
              "</svg>\n",
              "  </button>\n",
              "\n",
              "<style>\n",
              "  .colab-df-quickchart {\n",
              "      --bg-color: #E8F0FE;\n",
              "      --fill-color: #1967D2;\n",
              "      --hover-bg-color: #E2EBFA;\n",
              "      --hover-fill-color: #174EA6;\n",
              "      --disabled-fill-color: #AAA;\n",
              "      --disabled-bg-color: #DDD;\n",
              "  }\n",
              "\n",
              "  [theme=dark] .colab-df-quickchart {\n",
              "      --bg-color: #3B4455;\n",
              "      --fill-color: #D2E3FC;\n",
              "      --hover-bg-color: #434B5C;\n",
              "      --hover-fill-color: #FFFFFF;\n",
              "      --disabled-bg-color: #3B4455;\n",
              "      --disabled-fill-color: #666;\n",
              "  }\n",
              "\n",
              "  .colab-df-quickchart {\n",
              "    background-color: var(--bg-color);\n",
              "    border: none;\n",
              "    border-radius: 50%;\n",
              "    cursor: pointer;\n",
              "    display: none;\n",
              "    fill: var(--fill-color);\n",
              "    height: 32px;\n",
              "    padding: 0;\n",
              "    width: 32px;\n",
              "  }\n",
              "\n",
              "  .colab-df-quickchart:hover {\n",
              "    background-color: var(--hover-bg-color);\n",
              "    box-shadow: 0 1px 2px rgba(60, 64, 67, 0.3), 0 1px 3px 1px rgba(60, 64, 67, 0.15);\n",
              "    fill: var(--button-hover-fill-color);\n",
              "  }\n",
              "\n",
              "  .colab-df-quickchart-complete:disabled,\n",
              "  .colab-df-quickchart-complete:disabled:hover {\n",
              "    background-color: var(--disabled-bg-color);\n",
              "    fill: var(--disabled-fill-color);\n",
              "    box-shadow: none;\n",
              "  }\n",
              "\n",
              "  .colab-df-spinner {\n",
              "    border: 2px solid var(--fill-color);\n",
              "    border-color: transparent;\n",
              "    border-bottom-color: var(--fill-color);\n",
              "    animation:\n",
              "      spin 1s steps(1) infinite;\n",
              "  }\n",
              "\n",
              "  @keyframes spin {\n",
              "    0% {\n",
              "      border-color: transparent;\n",
              "      border-bottom-color: var(--fill-color);\n",
              "      border-left-color: var(--fill-color);\n",
              "    }\n",
              "    20% {\n",
              "      border-color: transparent;\n",
              "      border-left-color: var(--fill-color);\n",
              "      border-top-color: var(--fill-color);\n",
              "    }\n",
              "    30% {\n",
              "      border-color: transparent;\n",
              "      border-left-color: var(--fill-color);\n",
              "      border-top-color: var(--fill-color);\n",
              "      border-right-color: var(--fill-color);\n",
              "    }\n",
              "    40% {\n",
              "      border-color: transparent;\n",
              "      border-right-color: var(--fill-color);\n",
              "      border-top-color: var(--fill-color);\n",
              "    }\n",
              "    60% {\n",
              "      border-color: transparent;\n",
              "      border-right-color: var(--fill-color);\n",
              "    }\n",
              "    80% {\n",
              "      border-color: transparent;\n",
              "      border-right-color: var(--fill-color);\n",
              "      border-bottom-color: var(--fill-color);\n",
              "    }\n",
              "    90% {\n",
              "      border-color: transparent;\n",
              "      border-bottom-color: var(--fill-color);\n",
              "    }\n",
              "  }\n",
              "</style>\n",
              "\n",
              "  <script>\n",
              "    async function quickchart(key) {\n",
              "      const quickchartButtonEl =\n",
              "        document.querySelector('#' + key + ' button');\n",
              "      quickchartButtonEl.disabled = true;  // To prevent multiple clicks.\n",
              "      quickchartButtonEl.classList.add('colab-df-spinner');\n",
              "      try {\n",
              "        const charts = await google.colab.kernel.invokeFunction(\n",
              "            'suggestCharts', [key], {});\n",
              "      } catch (error) {\n",
              "        console.error('Error during call to suggestCharts:', error);\n",
              "      }\n",
              "      quickchartButtonEl.classList.remove('colab-df-spinner');\n",
              "      quickchartButtonEl.classList.add('colab-df-quickchart-complete');\n",
              "    }\n",
              "    (() => {\n",
              "      let quickchartButtonEl =\n",
              "        document.querySelector('#df-dbb90c85-6dc6-4ec9-a4c5-ebcbdb0a5897 button');\n",
              "      quickchartButtonEl.style.display =\n",
              "        google.colab.kernel.accessAllowed ? 'block' : 'none';\n",
              "    })();\n",
              "  </script>\n",
              "</div>\n",
              "\n",
              "    </div>\n",
              "  </div>\n"
            ],
            "text/plain": [
              "                     title         artist\n",
              "id                                       \n",
              "2849      Run To The Hills    Iron Maiden\n",
              "2640         Red Barchetta           Rush\n",
              "3167             Unchained      Van Halen\n",
              "5549         November Rain  Guns N' Roses\n",
              "2715   Rainbow In The Dark            Dio"
            ]
          },
          "execution_count": 31,
          "metadata": {},
          "output_type": "execute_result"
        }
      ],
      "source": [
        "print_recommendations(2172)"
      ]
    },
    {
      "cell_type": "code",
      "execution_count": null,
      "metadata": {
        "colab": {
          "base_uri": "https://localhost:8080/",
          "height": 310
        },
        "id": "TIHiN62g1NMi",
        "outputId": "c548f528-6e2e-4a46-89e0-6599395d6419"
      },
      "outputs": [
        {
          "name": "stdout",
          "output_type": "stream",
          "text": [
            "title     California Love (w\\/ Dr. Dre & Roger Troutman)\n",
            "artist                                              2Pac\n",
            "Name: 842 , dtype: object\n",
            "['5668' '413' '5661' '330' '886']\n"
          ]
        },
        {
          "data": {
            "application/vnd.google.colaboratory.intrinsic+json": {
              "summary": "{\n  \"name\": \"print_recommendations(842)\",\n  \"rows\": 5,\n  \"fields\": [\n    {\n      \"column\": \"id\",\n      \"properties\": {\n        \"dtype\": \"string\",\n        \"num_unique_values\": 5,\n        \"samples\": [\n          \"413 \",\n          \"886 \",\n          \"5661 \"\n        ],\n        \"semantic_type\": \"\",\n        \"description\": \"\"\n      }\n    },\n    {\n      \"column\": \"title\",\n      \"properties\": {\n        \"dtype\": \"string\",\n        \"num_unique_values\": 5,\n        \"samples\": [\n          \"If I Ruled The World (Imagine That) (w\\\\/ Lauryn Hill)\",\n          \"Heartless\",\n          \"Sweet Dreams\"\n        ],\n        \"semantic_type\": \"\",\n        \"description\": \"\"\n      }\n    },\n    {\n      \"column\": \"artist\",\n      \"properties\": {\n        \"dtype\": \"string\",\n        \"num_unique_values\": 4,\n        \"samples\": [\n          \"Nas\",\n          \"Kanye West\",\n          \"The Game\"\n        ],\n        \"semantic_type\": \"\",\n        \"description\": \"\"\n      }\n    }\n  ]\n}",
              "type": "dataframe"
            },
            "text/html": [
              "\n",
              "  <div id=\"df-1afa899d-2db1-434a-a095-9b7ade3d2589\" class=\"colab-df-container\">\n",
              "    <div>\n",
              "<style scoped>\n",
              "    .dataframe tbody tr th:only-of-type {\n",
              "        vertical-align: middle;\n",
              "    }\n",
              "\n",
              "    .dataframe tbody tr th {\n",
              "        vertical-align: top;\n",
              "    }\n",
              "\n",
              "    .dataframe thead th {\n",
              "        text-align: right;\n",
              "    }\n",
              "</style>\n",
              "<table border=\"1\" class=\"dataframe\">\n",
              "  <thead>\n",
              "    <tr style=\"text-align: right;\">\n",
              "      <th></th>\n",
              "      <th>title</th>\n",
              "      <th>artist</th>\n",
              "    </tr>\n",
              "    <tr>\n",
              "      <th>id</th>\n",
              "      <th></th>\n",
              "      <th></th>\n",
              "    </tr>\n",
              "  </thead>\n",
              "  <tbody>\n",
              "    <tr>\n",
              "      <th>5668</th>\n",
              "      <td>How We Do (w\\/ 50 Cent)</td>\n",
              "      <td>The Game</td>\n",
              "    </tr>\n",
              "    <tr>\n",
              "      <th>413</th>\n",
              "      <td>If I Ruled The World (Imagine That) (w\\/ Laury...</td>\n",
              "      <td>Nas</td>\n",
              "    </tr>\n",
              "    <tr>\n",
              "      <th>5661</th>\n",
              "      <td>Sweet Dreams</td>\n",
              "      <td>Beyonce</td>\n",
              "    </tr>\n",
              "    <tr>\n",
              "      <th>330</th>\n",
              "      <td>Hate It Or Love It (w\\/ 50 Cent)</td>\n",
              "      <td>The Game</td>\n",
              "    </tr>\n",
              "    <tr>\n",
              "      <th>886</th>\n",
              "      <td>Heartless</td>\n",
              "      <td>Kanye West</td>\n",
              "    </tr>\n",
              "  </tbody>\n",
              "</table>\n",
              "</div>\n",
              "    <div class=\"colab-df-buttons\">\n",
              "\n",
              "  <div class=\"colab-df-container\">\n",
              "    <button class=\"colab-df-convert\" onclick=\"convertToInteractive('df-1afa899d-2db1-434a-a095-9b7ade3d2589')\"\n",
              "            title=\"Convert this dataframe to an interactive table.\"\n",
              "            style=\"display:none;\">\n",
              "\n",
              "  <svg xmlns=\"http://www.w3.org/2000/svg\" height=\"24px\" viewBox=\"0 -960 960 960\">\n",
              "    <path d=\"M120-120v-720h720v720H120Zm60-500h600v-160H180v160Zm220 220h160v-160H400v160Zm0 220h160v-160H400v160ZM180-400h160v-160H180v160Zm440 0h160v-160H620v160ZM180-180h160v-160H180v160Zm440 0h160v-160H620v160Z\"/>\n",
              "  </svg>\n",
              "    </button>\n",
              "\n",
              "  <style>\n",
              "    .colab-df-container {\n",
              "      display:flex;\n",
              "      gap: 12px;\n",
              "    }\n",
              "\n",
              "    .colab-df-convert {\n",
              "      background-color: #E8F0FE;\n",
              "      border: none;\n",
              "      border-radius: 50%;\n",
              "      cursor: pointer;\n",
              "      display: none;\n",
              "      fill: #1967D2;\n",
              "      height: 32px;\n",
              "      padding: 0 0 0 0;\n",
              "      width: 32px;\n",
              "    }\n",
              "\n",
              "    .colab-df-convert:hover {\n",
              "      background-color: #E2EBFA;\n",
              "      box-shadow: 0px 1px 2px rgba(60, 64, 67, 0.3), 0px 1px 3px 1px rgba(60, 64, 67, 0.15);\n",
              "      fill: #174EA6;\n",
              "    }\n",
              "\n",
              "    .colab-df-buttons div {\n",
              "      margin-bottom: 4px;\n",
              "    }\n",
              "\n",
              "    [theme=dark] .colab-df-convert {\n",
              "      background-color: #3B4455;\n",
              "      fill: #D2E3FC;\n",
              "    }\n",
              "\n",
              "    [theme=dark] .colab-df-convert:hover {\n",
              "      background-color: #434B5C;\n",
              "      box-shadow: 0px 1px 3px 1px rgba(0, 0, 0, 0.15);\n",
              "      filter: drop-shadow(0px 1px 2px rgba(0, 0, 0, 0.3));\n",
              "      fill: #FFFFFF;\n",
              "    }\n",
              "  </style>\n",
              "\n",
              "    <script>\n",
              "      const buttonEl =\n",
              "        document.querySelector('#df-1afa899d-2db1-434a-a095-9b7ade3d2589 button.colab-df-convert');\n",
              "      buttonEl.style.display =\n",
              "        google.colab.kernel.accessAllowed ? 'block' : 'none';\n",
              "\n",
              "      async function convertToInteractive(key) {\n",
              "        const element = document.querySelector('#df-1afa899d-2db1-434a-a095-9b7ade3d2589');\n",
              "        const dataTable =\n",
              "          await google.colab.kernel.invokeFunction('convertToInteractive',\n",
              "                                                    [key], {});\n",
              "        if (!dataTable) return;\n",
              "\n",
              "        const docLinkHtml = 'Like what you see? Visit the ' +\n",
              "          '<a target=\"_blank\" href=https://colab.research.google.com/notebooks/data_table.ipynb>data table notebook</a>'\n",
              "          + ' to learn more about interactive tables.';\n",
              "        element.innerHTML = '';\n",
              "        dataTable['output_type'] = 'display_data';\n",
              "        await google.colab.output.renderOutput(dataTable, element);\n",
              "        const docLink = document.createElement('div');\n",
              "        docLink.innerHTML = docLinkHtml;\n",
              "        element.appendChild(docLink);\n",
              "      }\n",
              "    </script>\n",
              "  </div>\n",
              "\n",
              "\n",
              "<div id=\"df-a8ceaf3a-b291-4c01-adfc-895ceccda974\">\n",
              "  <button class=\"colab-df-quickchart\" onclick=\"quickchart('df-a8ceaf3a-b291-4c01-adfc-895ceccda974')\"\n",
              "            title=\"Suggest charts\"\n",
              "            style=\"display:none;\">\n",
              "\n",
              "<svg xmlns=\"http://www.w3.org/2000/svg\" height=\"24px\"viewBox=\"0 0 24 24\"\n",
              "     width=\"24px\">\n",
              "    <g>\n",
              "        <path d=\"M19 3H5c-1.1 0-2 .9-2 2v14c0 1.1.9 2 2 2h14c1.1 0 2-.9 2-2V5c0-1.1-.9-2-2-2zM9 17H7v-7h2v7zm4 0h-2V7h2v10zm4 0h-2v-4h2v4z\"/>\n",
              "    </g>\n",
              "</svg>\n",
              "  </button>\n",
              "\n",
              "<style>\n",
              "  .colab-df-quickchart {\n",
              "      --bg-color: #E8F0FE;\n",
              "      --fill-color: #1967D2;\n",
              "      --hover-bg-color: #E2EBFA;\n",
              "      --hover-fill-color: #174EA6;\n",
              "      --disabled-fill-color: #AAA;\n",
              "      --disabled-bg-color: #DDD;\n",
              "  }\n",
              "\n",
              "  [theme=dark] .colab-df-quickchart {\n",
              "      --bg-color: #3B4455;\n",
              "      --fill-color: #D2E3FC;\n",
              "      --hover-bg-color: #434B5C;\n",
              "      --hover-fill-color: #FFFFFF;\n",
              "      --disabled-bg-color: #3B4455;\n",
              "      --disabled-fill-color: #666;\n",
              "  }\n",
              "\n",
              "  .colab-df-quickchart {\n",
              "    background-color: var(--bg-color);\n",
              "    border: none;\n",
              "    border-radius: 50%;\n",
              "    cursor: pointer;\n",
              "    display: none;\n",
              "    fill: var(--fill-color);\n",
              "    height: 32px;\n",
              "    padding: 0;\n",
              "    width: 32px;\n",
              "  }\n",
              "\n",
              "  .colab-df-quickchart:hover {\n",
              "    background-color: var(--hover-bg-color);\n",
              "    box-shadow: 0 1px 2px rgba(60, 64, 67, 0.3), 0 1px 3px 1px rgba(60, 64, 67, 0.15);\n",
              "    fill: var(--button-hover-fill-color);\n",
              "  }\n",
              "\n",
              "  .colab-df-quickchart-complete:disabled,\n",
              "  .colab-df-quickchart-complete:disabled:hover {\n",
              "    background-color: var(--disabled-bg-color);\n",
              "    fill: var(--disabled-fill-color);\n",
              "    box-shadow: none;\n",
              "  }\n",
              "\n",
              "  .colab-df-spinner {\n",
              "    border: 2px solid var(--fill-color);\n",
              "    border-color: transparent;\n",
              "    border-bottom-color: var(--fill-color);\n",
              "    animation:\n",
              "      spin 1s steps(1) infinite;\n",
              "  }\n",
              "\n",
              "  @keyframes spin {\n",
              "    0% {\n",
              "      border-color: transparent;\n",
              "      border-bottom-color: var(--fill-color);\n",
              "      border-left-color: var(--fill-color);\n",
              "    }\n",
              "    20% {\n",
              "      border-color: transparent;\n",
              "      border-left-color: var(--fill-color);\n",
              "      border-top-color: var(--fill-color);\n",
              "    }\n",
              "    30% {\n",
              "      border-color: transparent;\n",
              "      border-left-color: var(--fill-color);\n",
              "      border-top-color: var(--fill-color);\n",
              "      border-right-color: var(--fill-color);\n",
              "    }\n",
              "    40% {\n",
              "      border-color: transparent;\n",
              "      border-right-color: var(--fill-color);\n",
              "      border-top-color: var(--fill-color);\n",
              "    }\n",
              "    60% {\n",
              "      border-color: transparent;\n",
              "      border-right-color: var(--fill-color);\n",
              "    }\n",
              "    80% {\n",
              "      border-color: transparent;\n",
              "      border-right-color: var(--fill-color);\n",
              "      border-bottom-color: var(--fill-color);\n",
              "    }\n",
              "    90% {\n",
              "      border-color: transparent;\n",
              "      border-bottom-color: var(--fill-color);\n",
              "    }\n",
              "  }\n",
              "</style>\n",
              "\n",
              "  <script>\n",
              "    async function quickchart(key) {\n",
              "      const quickchartButtonEl =\n",
              "        document.querySelector('#' + key + ' button');\n",
              "      quickchartButtonEl.disabled = true;  // To prevent multiple clicks.\n",
              "      quickchartButtonEl.classList.add('colab-df-spinner');\n",
              "      try {\n",
              "        const charts = await google.colab.kernel.invokeFunction(\n",
              "            'suggestCharts', [key], {});\n",
              "      } catch (error) {\n",
              "        console.error('Error during call to suggestCharts:', error);\n",
              "      }\n",
              "      quickchartButtonEl.classList.remove('colab-df-spinner');\n",
              "      quickchartButtonEl.classList.add('colab-df-quickchart-complete');\n",
              "    }\n",
              "    (() => {\n",
              "      let quickchartButtonEl =\n",
              "        document.querySelector('#df-a8ceaf3a-b291-4c01-adfc-895ceccda974 button');\n",
              "      quickchartButtonEl.style.display =\n",
              "        google.colab.kernel.accessAllowed ? 'block' : 'none';\n",
              "    })();\n",
              "  </script>\n",
              "</div>\n",
              "\n",
              "    </div>\n",
              "  </div>\n"
            ],
            "text/plain": [
              "                                                   title      artist\n",
              "id                                                                  \n",
              "5668                             How We Do (w\\/ 50 Cent)    The Game\n",
              "413    If I Ruled The World (Imagine That) (w\\/ Laury...         Nas\n",
              "5661                                        Sweet Dreams     Beyonce\n",
              "330                     Hate It Or Love It (w\\/ 50 Cent)    The Game\n",
              "886                                            Heartless  Kanye West"
            ]
          },
          "execution_count": 32,
          "metadata": {},
          "output_type": "execute_result"
        }
      ],
      "source": [
        "print_recommendations(842)"
      ]
    }
  ],
  "metadata": {
    "accelerator": "GPU",
    "colab": {
      "gpuType": "T4",
      "provenance": [],
      "include_colab_link": true
    },
    "kernelspec": {
      "display_name": "Python 3 (ipykernel)",
      "language": "python",
      "name": "python3"
    },
    "language_info": {
      "codemirror_mode": {
        "name": "ipython",
        "version": 3
      },
      "file_extension": ".py",
      "mimetype": "text/x-python",
      "name": "python",
      "nbconvert_exporter": "python",
      "pygments_lexer": "ipython3",
      "version": "3.10.14"
    },
    "widgets": {
      "application/vnd.jupyter.widget-state+json": {
        "4078671133954494b00bf72a1d0db905": {
          "model_module": "@jupyter-widgets/controls",
          "model_name": "HBoxModel",
          "model_module_version": "1.5.0",
          "state": {
            "_dom_classes": [],
            "_model_module": "@jupyter-widgets/controls",
            "_model_module_version": "1.5.0",
            "_model_name": "HBoxModel",
            "_view_count": null,
            "_view_module": "@jupyter-widgets/controls",
            "_view_module_version": "1.5.0",
            "_view_name": "HBoxView",
            "box_style": "",
            "children": [
              "IPY_MODEL_1584b10a64be4f00b28c89b707f69142",
              "IPY_MODEL_5402f658bc7a448fa46d1841ffffe0ad",
              "IPY_MODEL_53eb676952984330a4b3083f06424afd"
            ],
            "layout": "IPY_MODEL_e5c9d1383b5040ac8b4cdd8ef09237c0"
          }
        },
        "1584b10a64be4f00b28c89b707f69142": {
          "model_module": "@jupyter-widgets/controls",
          "model_name": "HTMLModel",
          "model_module_version": "1.5.0",
          "state": {
            "_dom_classes": [],
            "_model_module": "@jupyter-widgets/controls",
            "_model_module_version": "1.5.0",
            "_model_name": "HTMLModel",
            "_view_count": null,
            "_view_module": "@jupyter-widgets/controls",
            "_view_module_version": "1.5.0",
            "_view_name": "HTMLView",
            "description": "",
            "description_tooltip": null,
            "layout": "IPY_MODEL_98e0172692354b3f812f7d031e656c52",
            "placeholder": "​",
            "style": "IPY_MODEL_df7b7a89467348809f7fa5621763979f",
            "value": "tokenizer_config.json: 100%"
          }
        },
        "5402f658bc7a448fa46d1841ffffe0ad": {
          "model_module": "@jupyter-widgets/controls",
          "model_name": "FloatProgressModel",
          "model_module_version": "1.5.0",
          "state": {
            "_dom_classes": [],
            "_model_module": "@jupyter-widgets/controls",
            "_model_module_version": "1.5.0",
            "_model_name": "FloatProgressModel",
            "_view_count": null,
            "_view_module": "@jupyter-widgets/controls",
            "_view_module_version": "1.5.0",
            "_view_name": "ProgressView",
            "bar_style": "success",
            "description": "",
            "description_tooltip": null,
            "layout": "IPY_MODEL_58b02eb2057d42269c4e9fe48ddee9f2",
            "max": 48,
            "min": 0,
            "orientation": "horizontal",
            "style": "IPY_MODEL_5f647adf06e1445c95a671d56174d40c",
            "value": 48
          }
        },
        "53eb676952984330a4b3083f06424afd": {
          "model_module": "@jupyter-widgets/controls",
          "model_name": "HTMLModel",
          "model_module_version": "1.5.0",
          "state": {
            "_dom_classes": [],
            "_model_module": "@jupyter-widgets/controls",
            "_model_module_version": "1.5.0",
            "_model_name": "HTMLModel",
            "_view_count": null,
            "_view_module": "@jupyter-widgets/controls",
            "_view_module_version": "1.5.0",
            "_view_name": "HTMLView",
            "description": "",
            "description_tooltip": null,
            "layout": "IPY_MODEL_7602478ad14547ea95b4d5cbf856b3c9",
            "placeholder": "​",
            "style": "IPY_MODEL_25d4971a73234179b122b2eb35b874b3",
            "value": " 48.0/48.0 [00:00&lt;00:00, 4.13kB/s]"
          }
        },
        "e5c9d1383b5040ac8b4cdd8ef09237c0": {
          "model_module": "@jupyter-widgets/base",
          "model_name": "LayoutModel",
          "model_module_version": "1.2.0",
          "state": {
            "_model_module": "@jupyter-widgets/base",
            "_model_module_version": "1.2.0",
            "_model_name": "LayoutModel",
            "_view_count": null,
            "_view_module": "@jupyter-widgets/base",
            "_view_module_version": "1.2.0",
            "_view_name": "LayoutView",
            "align_content": null,
            "align_items": null,
            "align_self": null,
            "border": null,
            "bottom": null,
            "display": null,
            "flex": null,
            "flex_flow": null,
            "grid_area": null,
            "grid_auto_columns": null,
            "grid_auto_flow": null,
            "grid_auto_rows": null,
            "grid_column": null,
            "grid_gap": null,
            "grid_row": null,
            "grid_template_areas": null,
            "grid_template_columns": null,
            "grid_template_rows": null,
            "height": null,
            "justify_content": null,
            "justify_items": null,
            "left": null,
            "margin": null,
            "max_height": null,
            "max_width": null,
            "min_height": null,
            "min_width": null,
            "object_fit": null,
            "object_position": null,
            "order": null,
            "overflow": null,
            "overflow_x": null,
            "overflow_y": null,
            "padding": null,
            "right": null,
            "top": null,
            "visibility": null,
            "width": null
          }
        },
        "98e0172692354b3f812f7d031e656c52": {
          "model_module": "@jupyter-widgets/base",
          "model_name": "LayoutModel",
          "model_module_version": "1.2.0",
          "state": {
            "_model_module": "@jupyter-widgets/base",
            "_model_module_version": "1.2.0",
            "_model_name": "LayoutModel",
            "_view_count": null,
            "_view_module": "@jupyter-widgets/base",
            "_view_module_version": "1.2.0",
            "_view_name": "LayoutView",
            "align_content": null,
            "align_items": null,
            "align_self": null,
            "border": null,
            "bottom": null,
            "display": null,
            "flex": null,
            "flex_flow": null,
            "grid_area": null,
            "grid_auto_columns": null,
            "grid_auto_flow": null,
            "grid_auto_rows": null,
            "grid_column": null,
            "grid_gap": null,
            "grid_row": null,
            "grid_template_areas": null,
            "grid_template_columns": null,
            "grid_template_rows": null,
            "height": null,
            "justify_content": null,
            "justify_items": null,
            "left": null,
            "margin": null,
            "max_height": null,
            "max_width": null,
            "min_height": null,
            "min_width": null,
            "object_fit": null,
            "object_position": null,
            "order": null,
            "overflow": null,
            "overflow_x": null,
            "overflow_y": null,
            "padding": null,
            "right": null,
            "top": null,
            "visibility": null,
            "width": null
          }
        },
        "df7b7a89467348809f7fa5621763979f": {
          "model_module": "@jupyter-widgets/controls",
          "model_name": "DescriptionStyleModel",
          "model_module_version": "1.5.0",
          "state": {
            "_model_module": "@jupyter-widgets/controls",
            "_model_module_version": "1.5.0",
            "_model_name": "DescriptionStyleModel",
            "_view_count": null,
            "_view_module": "@jupyter-widgets/base",
            "_view_module_version": "1.2.0",
            "_view_name": "StyleView",
            "description_width": ""
          }
        },
        "58b02eb2057d42269c4e9fe48ddee9f2": {
          "model_module": "@jupyter-widgets/base",
          "model_name": "LayoutModel",
          "model_module_version": "1.2.0",
          "state": {
            "_model_module": "@jupyter-widgets/base",
            "_model_module_version": "1.2.0",
            "_model_name": "LayoutModel",
            "_view_count": null,
            "_view_module": "@jupyter-widgets/base",
            "_view_module_version": "1.2.0",
            "_view_name": "LayoutView",
            "align_content": null,
            "align_items": null,
            "align_self": null,
            "border": null,
            "bottom": null,
            "display": null,
            "flex": null,
            "flex_flow": null,
            "grid_area": null,
            "grid_auto_columns": null,
            "grid_auto_flow": null,
            "grid_auto_rows": null,
            "grid_column": null,
            "grid_gap": null,
            "grid_row": null,
            "grid_template_areas": null,
            "grid_template_columns": null,
            "grid_template_rows": null,
            "height": null,
            "justify_content": null,
            "justify_items": null,
            "left": null,
            "margin": null,
            "max_height": null,
            "max_width": null,
            "min_height": null,
            "min_width": null,
            "object_fit": null,
            "object_position": null,
            "order": null,
            "overflow": null,
            "overflow_x": null,
            "overflow_y": null,
            "padding": null,
            "right": null,
            "top": null,
            "visibility": null,
            "width": null
          }
        },
        "5f647adf06e1445c95a671d56174d40c": {
          "model_module": "@jupyter-widgets/controls",
          "model_name": "ProgressStyleModel",
          "model_module_version": "1.5.0",
          "state": {
            "_model_module": "@jupyter-widgets/controls",
            "_model_module_version": "1.5.0",
            "_model_name": "ProgressStyleModel",
            "_view_count": null,
            "_view_module": "@jupyter-widgets/base",
            "_view_module_version": "1.2.0",
            "_view_name": "StyleView",
            "bar_color": null,
            "description_width": ""
          }
        },
        "7602478ad14547ea95b4d5cbf856b3c9": {
          "model_module": "@jupyter-widgets/base",
          "model_name": "LayoutModel",
          "model_module_version": "1.2.0",
          "state": {
            "_model_module": "@jupyter-widgets/base",
            "_model_module_version": "1.2.0",
            "_model_name": "LayoutModel",
            "_view_count": null,
            "_view_module": "@jupyter-widgets/base",
            "_view_module_version": "1.2.0",
            "_view_name": "LayoutView",
            "align_content": null,
            "align_items": null,
            "align_self": null,
            "border": null,
            "bottom": null,
            "display": null,
            "flex": null,
            "flex_flow": null,
            "grid_area": null,
            "grid_auto_columns": null,
            "grid_auto_flow": null,
            "grid_auto_rows": null,
            "grid_column": null,
            "grid_gap": null,
            "grid_row": null,
            "grid_template_areas": null,
            "grid_template_columns": null,
            "grid_template_rows": null,
            "height": null,
            "justify_content": null,
            "justify_items": null,
            "left": null,
            "margin": null,
            "max_height": null,
            "max_width": null,
            "min_height": null,
            "min_width": null,
            "object_fit": null,
            "object_position": null,
            "order": null,
            "overflow": null,
            "overflow_x": null,
            "overflow_y": null,
            "padding": null,
            "right": null,
            "top": null,
            "visibility": null,
            "width": null
          }
        },
        "25d4971a73234179b122b2eb35b874b3": {
          "model_module": "@jupyter-widgets/controls",
          "model_name": "DescriptionStyleModel",
          "model_module_version": "1.5.0",
          "state": {
            "_model_module": "@jupyter-widgets/controls",
            "_model_module_version": "1.5.0",
            "_model_name": "DescriptionStyleModel",
            "_view_count": null,
            "_view_module": "@jupyter-widgets/base",
            "_view_module_version": "1.2.0",
            "_view_name": "StyleView",
            "description_width": ""
          }
        },
        "ab4189ba84534f18bb119af7e70b11bb": {
          "model_module": "@jupyter-widgets/controls",
          "model_name": "HBoxModel",
          "model_module_version": "1.5.0",
          "state": {
            "_dom_classes": [],
            "_model_module": "@jupyter-widgets/controls",
            "_model_module_version": "1.5.0",
            "_model_name": "HBoxModel",
            "_view_count": null,
            "_view_module": "@jupyter-widgets/controls",
            "_view_module_version": "1.5.0",
            "_view_name": "HBoxView",
            "box_style": "",
            "children": [
              "IPY_MODEL_35717d80ddc248458d3be595aaf86283",
              "IPY_MODEL_de0895f726794d168cd8da3f702174e3",
              "IPY_MODEL_0b772da378b44175bb422fc21aa6abf7"
            ],
            "layout": "IPY_MODEL_38997bc7718647fd81dcfa171e1b8d6c"
          }
        },
        "35717d80ddc248458d3be595aaf86283": {
          "model_module": "@jupyter-widgets/controls",
          "model_name": "HTMLModel",
          "model_module_version": "1.5.0",
          "state": {
            "_dom_classes": [],
            "_model_module": "@jupyter-widgets/controls",
            "_model_module_version": "1.5.0",
            "_model_name": "HTMLModel",
            "_view_count": null,
            "_view_module": "@jupyter-widgets/controls",
            "_view_module_version": "1.5.0",
            "_view_name": "HTMLView",
            "description": "",
            "description_tooltip": null,
            "layout": "IPY_MODEL_2578e39cd53c4b679fc23e6dbd786130",
            "placeholder": "​",
            "style": "IPY_MODEL_2e85ace692aa472c8e9d2eca0fd701f4",
            "value": "config.json: 100%"
          }
        },
        "de0895f726794d168cd8da3f702174e3": {
          "model_module": "@jupyter-widgets/controls",
          "model_name": "FloatProgressModel",
          "model_module_version": "1.5.0",
          "state": {
            "_dom_classes": [],
            "_model_module": "@jupyter-widgets/controls",
            "_model_module_version": "1.5.0",
            "_model_name": "FloatProgressModel",
            "_view_count": null,
            "_view_module": "@jupyter-widgets/controls",
            "_view_module_version": "1.5.0",
            "_view_name": "ProgressView",
            "bar_style": "success",
            "description": "",
            "description_tooltip": null,
            "layout": "IPY_MODEL_77007db778374d71a3fbed501f8217c7",
            "max": 570,
            "min": 0,
            "orientation": "horizontal",
            "style": "IPY_MODEL_ccff306828974381ad2d6c62c88773b2",
            "value": 570
          }
        },
        "0b772da378b44175bb422fc21aa6abf7": {
          "model_module": "@jupyter-widgets/controls",
          "model_name": "HTMLModel",
          "model_module_version": "1.5.0",
          "state": {
            "_dom_classes": [],
            "_model_module": "@jupyter-widgets/controls",
            "_model_module_version": "1.5.0",
            "_model_name": "HTMLModel",
            "_view_count": null,
            "_view_module": "@jupyter-widgets/controls",
            "_view_module_version": "1.5.0",
            "_view_name": "HTMLView",
            "description": "",
            "description_tooltip": null,
            "layout": "IPY_MODEL_96950b07a1804c66995dcc8d1e506485",
            "placeholder": "​",
            "style": "IPY_MODEL_ceb2e1a220474905a11ec3b4830781b4",
            "value": " 570/570 [00:00&lt;00:00, 58.7kB/s]"
          }
        },
        "38997bc7718647fd81dcfa171e1b8d6c": {
          "model_module": "@jupyter-widgets/base",
          "model_name": "LayoutModel",
          "model_module_version": "1.2.0",
          "state": {
            "_model_module": "@jupyter-widgets/base",
            "_model_module_version": "1.2.0",
            "_model_name": "LayoutModel",
            "_view_count": null,
            "_view_module": "@jupyter-widgets/base",
            "_view_module_version": "1.2.0",
            "_view_name": "LayoutView",
            "align_content": null,
            "align_items": null,
            "align_self": null,
            "border": null,
            "bottom": null,
            "display": null,
            "flex": null,
            "flex_flow": null,
            "grid_area": null,
            "grid_auto_columns": null,
            "grid_auto_flow": null,
            "grid_auto_rows": null,
            "grid_column": null,
            "grid_gap": null,
            "grid_row": null,
            "grid_template_areas": null,
            "grid_template_columns": null,
            "grid_template_rows": null,
            "height": null,
            "justify_content": null,
            "justify_items": null,
            "left": null,
            "margin": null,
            "max_height": null,
            "max_width": null,
            "min_height": null,
            "min_width": null,
            "object_fit": null,
            "object_position": null,
            "order": null,
            "overflow": null,
            "overflow_x": null,
            "overflow_y": null,
            "padding": null,
            "right": null,
            "top": null,
            "visibility": null,
            "width": null
          }
        },
        "2578e39cd53c4b679fc23e6dbd786130": {
          "model_module": "@jupyter-widgets/base",
          "model_name": "LayoutModel",
          "model_module_version": "1.2.0",
          "state": {
            "_model_module": "@jupyter-widgets/base",
            "_model_module_version": "1.2.0",
            "_model_name": "LayoutModel",
            "_view_count": null,
            "_view_module": "@jupyter-widgets/base",
            "_view_module_version": "1.2.0",
            "_view_name": "LayoutView",
            "align_content": null,
            "align_items": null,
            "align_self": null,
            "border": null,
            "bottom": null,
            "display": null,
            "flex": null,
            "flex_flow": null,
            "grid_area": null,
            "grid_auto_columns": null,
            "grid_auto_flow": null,
            "grid_auto_rows": null,
            "grid_column": null,
            "grid_gap": null,
            "grid_row": null,
            "grid_template_areas": null,
            "grid_template_columns": null,
            "grid_template_rows": null,
            "height": null,
            "justify_content": null,
            "justify_items": null,
            "left": null,
            "margin": null,
            "max_height": null,
            "max_width": null,
            "min_height": null,
            "min_width": null,
            "object_fit": null,
            "object_position": null,
            "order": null,
            "overflow": null,
            "overflow_x": null,
            "overflow_y": null,
            "padding": null,
            "right": null,
            "top": null,
            "visibility": null,
            "width": null
          }
        },
        "2e85ace692aa472c8e9d2eca0fd701f4": {
          "model_module": "@jupyter-widgets/controls",
          "model_name": "DescriptionStyleModel",
          "model_module_version": "1.5.0",
          "state": {
            "_model_module": "@jupyter-widgets/controls",
            "_model_module_version": "1.5.0",
            "_model_name": "DescriptionStyleModel",
            "_view_count": null,
            "_view_module": "@jupyter-widgets/base",
            "_view_module_version": "1.2.0",
            "_view_name": "StyleView",
            "description_width": ""
          }
        },
        "77007db778374d71a3fbed501f8217c7": {
          "model_module": "@jupyter-widgets/base",
          "model_name": "LayoutModel",
          "model_module_version": "1.2.0",
          "state": {
            "_model_module": "@jupyter-widgets/base",
            "_model_module_version": "1.2.0",
            "_model_name": "LayoutModel",
            "_view_count": null,
            "_view_module": "@jupyter-widgets/base",
            "_view_module_version": "1.2.0",
            "_view_name": "LayoutView",
            "align_content": null,
            "align_items": null,
            "align_self": null,
            "border": null,
            "bottom": null,
            "display": null,
            "flex": null,
            "flex_flow": null,
            "grid_area": null,
            "grid_auto_columns": null,
            "grid_auto_flow": null,
            "grid_auto_rows": null,
            "grid_column": null,
            "grid_gap": null,
            "grid_row": null,
            "grid_template_areas": null,
            "grid_template_columns": null,
            "grid_template_rows": null,
            "height": null,
            "justify_content": null,
            "justify_items": null,
            "left": null,
            "margin": null,
            "max_height": null,
            "max_width": null,
            "min_height": null,
            "min_width": null,
            "object_fit": null,
            "object_position": null,
            "order": null,
            "overflow": null,
            "overflow_x": null,
            "overflow_y": null,
            "padding": null,
            "right": null,
            "top": null,
            "visibility": null,
            "width": null
          }
        },
        "ccff306828974381ad2d6c62c88773b2": {
          "model_module": "@jupyter-widgets/controls",
          "model_name": "ProgressStyleModel",
          "model_module_version": "1.5.0",
          "state": {
            "_model_module": "@jupyter-widgets/controls",
            "_model_module_version": "1.5.0",
            "_model_name": "ProgressStyleModel",
            "_view_count": null,
            "_view_module": "@jupyter-widgets/base",
            "_view_module_version": "1.2.0",
            "_view_name": "StyleView",
            "bar_color": null,
            "description_width": ""
          }
        },
        "96950b07a1804c66995dcc8d1e506485": {
          "model_module": "@jupyter-widgets/base",
          "model_name": "LayoutModel",
          "model_module_version": "1.2.0",
          "state": {
            "_model_module": "@jupyter-widgets/base",
            "_model_module_version": "1.2.0",
            "_model_name": "LayoutModel",
            "_view_count": null,
            "_view_module": "@jupyter-widgets/base",
            "_view_module_version": "1.2.0",
            "_view_name": "LayoutView",
            "align_content": null,
            "align_items": null,
            "align_self": null,
            "border": null,
            "bottom": null,
            "display": null,
            "flex": null,
            "flex_flow": null,
            "grid_area": null,
            "grid_auto_columns": null,
            "grid_auto_flow": null,
            "grid_auto_rows": null,
            "grid_column": null,
            "grid_gap": null,
            "grid_row": null,
            "grid_template_areas": null,
            "grid_template_columns": null,
            "grid_template_rows": null,
            "height": null,
            "justify_content": null,
            "justify_items": null,
            "left": null,
            "margin": null,
            "max_height": null,
            "max_width": null,
            "min_height": null,
            "min_width": null,
            "object_fit": null,
            "object_position": null,
            "order": null,
            "overflow": null,
            "overflow_x": null,
            "overflow_y": null,
            "padding": null,
            "right": null,
            "top": null,
            "visibility": null,
            "width": null
          }
        },
        "ceb2e1a220474905a11ec3b4830781b4": {
          "model_module": "@jupyter-widgets/controls",
          "model_name": "DescriptionStyleModel",
          "model_module_version": "1.5.0",
          "state": {
            "_model_module": "@jupyter-widgets/controls",
            "_model_module_version": "1.5.0",
            "_model_name": "DescriptionStyleModel",
            "_view_count": null,
            "_view_module": "@jupyter-widgets/base",
            "_view_module_version": "1.2.0",
            "_view_name": "StyleView",
            "description_width": ""
          }
        },
        "0fd130450edc4b8d91512f56c090bca7": {
          "model_module": "@jupyter-widgets/controls",
          "model_name": "HBoxModel",
          "model_module_version": "1.5.0",
          "state": {
            "_dom_classes": [],
            "_model_module": "@jupyter-widgets/controls",
            "_model_module_version": "1.5.0",
            "_model_name": "HBoxModel",
            "_view_count": null,
            "_view_module": "@jupyter-widgets/controls",
            "_view_module_version": "1.5.0",
            "_view_name": "HBoxView",
            "box_style": "",
            "children": [
              "IPY_MODEL_028cfa04547448b8afb5020f3bb3c0c8",
              "IPY_MODEL_64ae710ff60a498c8c5cc36ea64870f9",
              "IPY_MODEL_fe61cede01104d92b682a51ce51e4a28"
            ],
            "layout": "IPY_MODEL_7e3360ca16ad4a8aa9a0e5ce4fcdd4b3"
          }
        },
        "028cfa04547448b8afb5020f3bb3c0c8": {
          "model_module": "@jupyter-widgets/controls",
          "model_name": "HTMLModel",
          "model_module_version": "1.5.0",
          "state": {
            "_dom_classes": [],
            "_model_module": "@jupyter-widgets/controls",
            "_model_module_version": "1.5.0",
            "_model_name": "HTMLModel",
            "_view_count": null,
            "_view_module": "@jupyter-widgets/controls",
            "_view_module_version": "1.5.0",
            "_view_name": "HTMLView",
            "description": "",
            "description_tooltip": null,
            "layout": "IPY_MODEL_1ce41b5a4df5470882df29a3a7ea6724",
            "placeholder": "​",
            "style": "IPY_MODEL_250b9bca9e7c4ca2ab8882811dfa5358",
            "value": "vocab.txt: 100%"
          }
        },
        "64ae710ff60a498c8c5cc36ea64870f9": {
          "model_module": "@jupyter-widgets/controls",
          "model_name": "FloatProgressModel",
          "model_module_version": "1.5.0",
          "state": {
            "_dom_classes": [],
            "_model_module": "@jupyter-widgets/controls",
            "_model_module_version": "1.5.0",
            "_model_name": "FloatProgressModel",
            "_view_count": null,
            "_view_module": "@jupyter-widgets/controls",
            "_view_module_version": "1.5.0",
            "_view_name": "ProgressView",
            "bar_style": "success",
            "description": "",
            "description_tooltip": null,
            "layout": "IPY_MODEL_583e896bc3db4909ae31dbdca00f9483",
            "max": 231508,
            "min": 0,
            "orientation": "horizontal",
            "style": "IPY_MODEL_0b4c94dbc112494a9e64952b7293d03b",
            "value": 231508
          }
        },
        "fe61cede01104d92b682a51ce51e4a28": {
          "model_module": "@jupyter-widgets/controls",
          "model_name": "HTMLModel",
          "model_module_version": "1.5.0",
          "state": {
            "_dom_classes": [],
            "_model_module": "@jupyter-widgets/controls",
            "_model_module_version": "1.5.0",
            "_model_name": "HTMLModel",
            "_view_count": null,
            "_view_module": "@jupyter-widgets/controls",
            "_view_module_version": "1.5.0",
            "_view_name": "HTMLView",
            "description": "",
            "description_tooltip": null,
            "layout": "IPY_MODEL_a4bb320248b64011acd4bd8efa684a88",
            "placeholder": "​",
            "style": "IPY_MODEL_301956f09f054d9880b2983270ae9f49",
            "value": " 232k/232k [00:00&lt;00:00, 1.85MB/s]"
          }
        },
        "7e3360ca16ad4a8aa9a0e5ce4fcdd4b3": {
          "model_module": "@jupyter-widgets/base",
          "model_name": "LayoutModel",
          "model_module_version": "1.2.0",
          "state": {
            "_model_module": "@jupyter-widgets/base",
            "_model_module_version": "1.2.0",
            "_model_name": "LayoutModel",
            "_view_count": null,
            "_view_module": "@jupyter-widgets/base",
            "_view_module_version": "1.2.0",
            "_view_name": "LayoutView",
            "align_content": null,
            "align_items": null,
            "align_self": null,
            "border": null,
            "bottom": null,
            "display": null,
            "flex": null,
            "flex_flow": null,
            "grid_area": null,
            "grid_auto_columns": null,
            "grid_auto_flow": null,
            "grid_auto_rows": null,
            "grid_column": null,
            "grid_gap": null,
            "grid_row": null,
            "grid_template_areas": null,
            "grid_template_columns": null,
            "grid_template_rows": null,
            "height": null,
            "justify_content": null,
            "justify_items": null,
            "left": null,
            "margin": null,
            "max_height": null,
            "max_width": null,
            "min_height": null,
            "min_width": null,
            "object_fit": null,
            "object_position": null,
            "order": null,
            "overflow": null,
            "overflow_x": null,
            "overflow_y": null,
            "padding": null,
            "right": null,
            "top": null,
            "visibility": null,
            "width": null
          }
        },
        "1ce41b5a4df5470882df29a3a7ea6724": {
          "model_module": "@jupyter-widgets/base",
          "model_name": "LayoutModel",
          "model_module_version": "1.2.0",
          "state": {
            "_model_module": "@jupyter-widgets/base",
            "_model_module_version": "1.2.0",
            "_model_name": "LayoutModel",
            "_view_count": null,
            "_view_module": "@jupyter-widgets/base",
            "_view_module_version": "1.2.0",
            "_view_name": "LayoutView",
            "align_content": null,
            "align_items": null,
            "align_self": null,
            "border": null,
            "bottom": null,
            "display": null,
            "flex": null,
            "flex_flow": null,
            "grid_area": null,
            "grid_auto_columns": null,
            "grid_auto_flow": null,
            "grid_auto_rows": null,
            "grid_column": null,
            "grid_gap": null,
            "grid_row": null,
            "grid_template_areas": null,
            "grid_template_columns": null,
            "grid_template_rows": null,
            "height": null,
            "justify_content": null,
            "justify_items": null,
            "left": null,
            "margin": null,
            "max_height": null,
            "max_width": null,
            "min_height": null,
            "min_width": null,
            "object_fit": null,
            "object_position": null,
            "order": null,
            "overflow": null,
            "overflow_x": null,
            "overflow_y": null,
            "padding": null,
            "right": null,
            "top": null,
            "visibility": null,
            "width": null
          }
        },
        "250b9bca9e7c4ca2ab8882811dfa5358": {
          "model_module": "@jupyter-widgets/controls",
          "model_name": "DescriptionStyleModel",
          "model_module_version": "1.5.0",
          "state": {
            "_model_module": "@jupyter-widgets/controls",
            "_model_module_version": "1.5.0",
            "_model_name": "DescriptionStyleModel",
            "_view_count": null,
            "_view_module": "@jupyter-widgets/base",
            "_view_module_version": "1.2.0",
            "_view_name": "StyleView",
            "description_width": ""
          }
        },
        "583e896bc3db4909ae31dbdca00f9483": {
          "model_module": "@jupyter-widgets/base",
          "model_name": "LayoutModel",
          "model_module_version": "1.2.0",
          "state": {
            "_model_module": "@jupyter-widgets/base",
            "_model_module_version": "1.2.0",
            "_model_name": "LayoutModel",
            "_view_count": null,
            "_view_module": "@jupyter-widgets/base",
            "_view_module_version": "1.2.0",
            "_view_name": "LayoutView",
            "align_content": null,
            "align_items": null,
            "align_self": null,
            "border": null,
            "bottom": null,
            "display": null,
            "flex": null,
            "flex_flow": null,
            "grid_area": null,
            "grid_auto_columns": null,
            "grid_auto_flow": null,
            "grid_auto_rows": null,
            "grid_column": null,
            "grid_gap": null,
            "grid_row": null,
            "grid_template_areas": null,
            "grid_template_columns": null,
            "grid_template_rows": null,
            "height": null,
            "justify_content": null,
            "justify_items": null,
            "left": null,
            "margin": null,
            "max_height": null,
            "max_width": null,
            "min_height": null,
            "min_width": null,
            "object_fit": null,
            "object_position": null,
            "order": null,
            "overflow": null,
            "overflow_x": null,
            "overflow_y": null,
            "padding": null,
            "right": null,
            "top": null,
            "visibility": null,
            "width": null
          }
        },
        "0b4c94dbc112494a9e64952b7293d03b": {
          "model_module": "@jupyter-widgets/controls",
          "model_name": "ProgressStyleModel",
          "model_module_version": "1.5.0",
          "state": {
            "_model_module": "@jupyter-widgets/controls",
            "_model_module_version": "1.5.0",
            "_model_name": "ProgressStyleModel",
            "_view_count": null,
            "_view_module": "@jupyter-widgets/base",
            "_view_module_version": "1.2.0",
            "_view_name": "StyleView",
            "bar_color": null,
            "description_width": ""
          }
        },
        "a4bb320248b64011acd4bd8efa684a88": {
          "model_module": "@jupyter-widgets/base",
          "model_name": "LayoutModel",
          "model_module_version": "1.2.0",
          "state": {
            "_model_module": "@jupyter-widgets/base",
            "_model_module_version": "1.2.0",
            "_model_name": "LayoutModel",
            "_view_count": null,
            "_view_module": "@jupyter-widgets/base",
            "_view_module_version": "1.2.0",
            "_view_name": "LayoutView",
            "align_content": null,
            "align_items": null,
            "align_self": null,
            "border": null,
            "bottom": null,
            "display": null,
            "flex": null,
            "flex_flow": null,
            "grid_area": null,
            "grid_auto_columns": null,
            "grid_auto_flow": null,
            "grid_auto_rows": null,
            "grid_column": null,
            "grid_gap": null,
            "grid_row": null,
            "grid_template_areas": null,
            "grid_template_columns": null,
            "grid_template_rows": null,
            "height": null,
            "justify_content": null,
            "justify_items": null,
            "left": null,
            "margin": null,
            "max_height": null,
            "max_width": null,
            "min_height": null,
            "min_width": null,
            "object_fit": null,
            "object_position": null,
            "order": null,
            "overflow": null,
            "overflow_x": null,
            "overflow_y": null,
            "padding": null,
            "right": null,
            "top": null,
            "visibility": null,
            "width": null
          }
        },
        "301956f09f054d9880b2983270ae9f49": {
          "model_module": "@jupyter-widgets/controls",
          "model_name": "DescriptionStyleModel",
          "model_module_version": "1.5.0",
          "state": {
            "_model_module": "@jupyter-widgets/controls",
            "_model_module_version": "1.5.0",
            "_model_name": "DescriptionStyleModel",
            "_view_count": null,
            "_view_module": "@jupyter-widgets/base",
            "_view_module_version": "1.2.0",
            "_view_name": "StyleView",
            "description_width": ""
          }
        },
        "ce0d7c764f14475a84eda4258e02ab9b": {
          "model_module": "@jupyter-widgets/controls",
          "model_name": "HBoxModel",
          "model_module_version": "1.5.0",
          "state": {
            "_dom_classes": [],
            "_model_module": "@jupyter-widgets/controls",
            "_model_module_version": "1.5.0",
            "_model_name": "HBoxModel",
            "_view_count": null,
            "_view_module": "@jupyter-widgets/controls",
            "_view_module_version": "1.5.0",
            "_view_name": "HBoxView",
            "box_style": "",
            "children": [
              "IPY_MODEL_d3c172c7de7c4429b8c6ab044a0a0e72",
              "IPY_MODEL_9f9a4cff19ae48ceb73f07da3ae11132",
              "IPY_MODEL_9242595ac80e4dce956960015e8e3f4a"
            ],
            "layout": "IPY_MODEL_fc2eb177417e42ecbc5e03752e359669"
          }
        },
        "d3c172c7de7c4429b8c6ab044a0a0e72": {
          "model_module": "@jupyter-widgets/controls",
          "model_name": "HTMLModel",
          "model_module_version": "1.5.0",
          "state": {
            "_dom_classes": [],
            "_model_module": "@jupyter-widgets/controls",
            "_model_module_version": "1.5.0",
            "_model_name": "HTMLModel",
            "_view_count": null,
            "_view_module": "@jupyter-widgets/controls",
            "_view_module_version": "1.5.0",
            "_view_name": "HTMLView",
            "description": "",
            "description_tooltip": null,
            "layout": "IPY_MODEL_04ae4bf20bdd4bd8be7bd78449c21e2d",
            "placeholder": "​",
            "style": "IPY_MODEL_3a407a02cd9d4bf492bc193fab8e50a6",
            "value": "tokenizer.json: 100%"
          }
        },
        "9f9a4cff19ae48ceb73f07da3ae11132": {
          "model_module": "@jupyter-widgets/controls",
          "model_name": "FloatProgressModel",
          "model_module_version": "1.5.0",
          "state": {
            "_dom_classes": [],
            "_model_module": "@jupyter-widgets/controls",
            "_model_module_version": "1.5.0",
            "_model_name": "FloatProgressModel",
            "_view_count": null,
            "_view_module": "@jupyter-widgets/controls",
            "_view_module_version": "1.5.0",
            "_view_name": "ProgressView",
            "bar_style": "success",
            "description": "",
            "description_tooltip": null,
            "layout": "IPY_MODEL_81dd463a93c148ecba817711dbe99b22",
            "max": 466062,
            "min": 0,
            "orientation": "horizontal",
            "style": "IPY_MODEL_99f5f3b168b84b10834d371eb592311a",
            "value": 466062
          }
        },
        "9242595ac80e4dce956960015e8e3f4a": {
          "model_module": "@jupyter-widgets/controls",
          "model_name": "HTMLModel",
          "model_module_version": "1.5.0",
          "state": {
            "_dom_classes": [],
            "_model_module": "@jupyter-widgets/controls",
            "_model_module_version": "1.5.0",
            "_model_name": "HTMLModel",
            "_view_count": null,
            "_view_module": "@jupyter-widgets/controls",
            "_view_module_version": "1.5.0",
            "_view_name": "HTMLView",
            "description": "",
            "description_tooltip": null,
            "layout": "IPY_MODEL_f838b33fba37470587163ab0a6945541",
            "placeholder": "​",
            "style": "IPY_MODEL_d1a73c1fc71a4351924a7c9d76074d54",
            "value": " 466k/466k [00:00&lt;00:00, 7.14MB/s]"
          }
        },
        "fc2eb177417e42ecbc5e03752e359669": {
          "model_module": "@jupyter-widgets/base",
          "model_name": "LayoutModel",
          "model_module_version": "1.2.0",
          "state": {
            "_model_module": "@jupyter-widgets/base",
            "_model_module_version": "1.2.0",
            "_model_name": "LayoutModel",
            "_view_count": null,
            "_view_module": "@jupyter-widgets/base",
            "_view_module_version": "1.2.0",
            "_view_name": "LayoutView",
            "align_content": null,
            "align_items": null,
            "align_self": null,
            "border": null,
            "bottom": null,
            "display": null,
            "flex": null,
            "flex_flow": null,
            "grid_area": null,
            "grid_auto_columns": null,
            "grid_auto_flow": null,
            "grid_auto_rows": null,
            "grid_column": null,
            "grid_gap": null,
            "grid_row": null,
            "grid_template_areas": null,
            "grid_template_columns": null,
            "grid_template_rows": null,
            "height": null,
            "justify_content": null,
            "justify_items": null,
            "left": null,
            "margin": null,
            "max_height": null,
            "max_width": null,
            "min_height": null,
            "min_width": null,
            "object_fit": null,
            "object_position": null,
            "order": null,
            "overflow": null,
            "overflow_x": null,
            "overflow_y": null,
            "padding": null,
            "right": null,
            "top": null,
            "visibility": null,
            "width": null
          }
        },
        "04ae4bf20bdd4bd8be7bd78449c21e2d": {
          "model_module": "@jupyter-widgets/base",
          "model_name": "LayoutModel",
          "model_module_version": "1.2.0",
          "state": {
            "_model_module": "@jupyter-widgets/base",
            "_model_module_version": "1.2.0",
            "_model_name": "LayoutModel",
            "_view_count": null,
            "_view_module": "@jupyter-widgets/base",
            "_view_module_version": "1.2.0",
            "_view_name": "LayoutView",
            "align_content": null,
            "align_items": null,
            "align_self": null,
            "border": null,
            "bottom": null,
            "display": null,
            "flex": null,
            "flex_flow": null,
            "grid_area": null,
            "grid_auto_columns": null,
            "grid_auto_flow": null,
            "grid_auto_rows": null,
            "grid_column": null,
            "grid_gap": null,
            "grid_row": null,
            "grid_template_areas": null,
            "grid_template_columns": null,
            "grid_template_rows": null,
            "height": null,
            "justify_content": null,
            "justify_items": null,
            "left": null,
            "margin": null,
            "max_height": null,
            "max_width": null,
            "min_height": null,
            "min_width": null,
            "object_fit": null,
            "object_position": null,
            "order": null,
            "overflow": null,
            "overflow_x": null,
            "overflow_y": null,
            "padding": null,
            "right": null,
            "top": null,
            "visibility": null,
            "width": null
          }
        },
        "3a407a02cd9d4bf492bc193fab8e50a6": {
          "model_module": "@jupyter-widgets/controls",
          "model_name": "DescriptionStyleModel",
          "model_module_version": "1.5.0",
          "state": {
            "_model_module": "@jupyter-widgets/controls",
            "_model_module_version": "1.5.0",
            "_model_name": "DescriptionStyleModel",
            "_view_count": null,
            "_view_module": "@jupyter-widgets/base",
            "_view_module_version": "1.2.0",
            "_view_name": "StyleView",
            "description_width": ""
          }
        },
        "81dd463a93c148ecba817711dbe99b22": {
          "model_module": "@jupyter-widgets/base",
          "model_name": "LayoutModel",
          "model_module_version": "1.2.0",
          "state": {
            "_model_module": "@jupyter-widgets/base",
            "_model_module_version": "1.2.0",
            "_model_name": "LayoutModel",
            "_view_count": null,
            "_view_module": "@jupyter-widgets/base",
            "_view_module_version": "1.2.0",
            "_view_name": "LayoutView",
            "align_content": null,
            "align_items": null,
            "align_self": null,
            "border": null,
            "bottom": null,
            "display": null,
            "flex": null,
            "flex_flow": null,
            "grid_area": null,
            "grid_auto_columns": null,
            "grid_auto_flow": null,
            "grid_auto_rows": null,
            "grid_column": null,
            "grid_gap": null,
            "grid_row": null,
            "grid_template_areas": null,
            "grid_template_columns": null,
            "grid_template_rows": null,
            "height": null,
            "justify_content": null,
            "justify_items": null,
            "left": null,
            "margin": null,
            "max_height": null,
            "max_width": null,
            "min_height": null,
            "min_width": null,
            "object_fit": null,
            "object_position": null,
            "order": null,
            "overflow": null,
            "overflow_x": null,
            "overflow_y": null,
            "padding": null,
            "right": null,
            "top": null,
            "visibility": null,
            "width": null
          }
        },
        "99f5f3b168b84b10834d371eb592311a": {
          "model_module": "@jupyter-widgets/controls",
          "model_name": "ProgressStyleModel",
          "model_module_version": "1.5.0",
          "state": {
            "_model_module": "@jupyter-widgets/controls",
            "_model_module_version": "1.5.0",
            "_model_name": "ProgressStyleModel",
            "_view_count": null,
            "_view_module": "@jupyter-widgets/base",
            "_view_module_version": "1.2.0",
            "_view_name": "StyleView",
            "bar_color": null,
            "description_width": ""
          }
        },
        "f838b33fba37470587163ab0a6945541": {
          "model_module": "@jupyter-widgets/base",
          "model_name": "LayoutModel",
          "model_module_version": "1.2.0",
          "state": {
            "_model_module": "@jupyter-widgets/base",
            "_model_module_version": "1.2.0",
            "_model_name": "LayoutModel",
            "_view_count": null,
            "_view_module": "@jupyter-widgets/base",
            "_view_module_version": "1.2.0",
            "_view_name": "LayoutView",
            "align_content": null,
            "align_items": null,
            "align_self": null,
            "border": null,
            "bottom": null,
            "display": null,
            "flex": null,
            "flex_flow": null,
            "grid_area": null,
            "grid_auto_columns": null,
            "grid_auto_flow": null,
            "grid_auto_rows": null,
            "grid_column": null,
            "grid_gap": null,
            "grid_row": null,
            "grid_template_areas": null,
            "grid_template_columns": null,
            "grid_template_rows": null,
            "height": null,
            "justify_content": null,
            "justify_items": null,
            "left": null,
            "margin": null,
            "max_height": null,
            "max_width": null,
            "min_height": null,
            "min_width": null,
            "object_fit": null,
            "object_position": null,
            "order": null,
            "overflow": null,
            "overflow_x": null,
            "overflow_y": null,
            "padding": null,
            "right": null,
            "top": null,
            "visibility": null,
            "width": null
          }
        },
        "d1a73c1fc71a4351924a7c9d76074d54": {
          "model_module": "@jupyter-widgets/controls",
          "model_name": "DescriptionStyleModel",
          "model_module_version": "1.5.0",
          "state": {
            "_model_module": "@jupyter-widgets/controls",
            "_model_module_version": "1.5.0",
            "_model_name": "DescriptionStyleModel",
            "_view_count": null,
            "_view_module": "@jupyter-widgets/base",
            "_view_module_version": "1.2.0",
            "_view_name": "StyleView",
            "description_width": ""
          }
        },
        "88e84f2385d64bf0ac5fe339aa3840ba": {
          "model_module": "@jupyter-widgets/controls",
          "model_name": "HBoxModel",
          "model_module_version": "1.5.0",
          "state": {
            "_dom_classes": [],
            "_model_module": "@jupyter-widgets/controls",
            "_model_module_version": "1.5.0",
            "_model_name": "HBoxModel",
            "_view_count": null,
            "_view_module": "@jupyter-widgets/controls",
            "_view_module_version": "1.5.0",
            "_view_name": "HBoxView",
            "box_style": "",
            "children": [
              "IPY_MODEL_121d400961124a53b2e69090f163086c",
              "IPY_MODEL_30db8ac60e2841e99734d0df26695f97",
              "IPY_MODEL_b809e55af9904c9fa047698ffa3946b7"
            ],
            "layout": "IPY_MODEL_f845bf06f91641aa9a5d168fe2ade8c2"
          }
        },
        "121d400961124a53b2e69090f163086c": {
          "model_module": "@jupyter-widgets/controls",
          "model_name": "HTMLModel",
          "model_module_version": "1.5.0",
          "state": {
            "_dom_classes": [],
            "_model_module": "@jupyter-widgets/controls",
            "_model_module_version": "1.5.0",
            "_model_name": "HTMLModel",
            "_view_count": null,
            "_view_module": "@jupyter-widgets/controls",
            "_view_module_version": "1.5.0",
            "_view_name": "HTMLView",
            "description": "",
            "description_tooltip": null,
            "layout": "IPY_MODEL_be22179b26dc421b96eab7c72999a4ef",
            "placeholder": "​",
            "style": "IPY_MODEL_d798872ef7774088b48f89d3e9063c05",
            "value": "Loading checkpoint shards: 100%"
          }
        },
        "30db8ac60e2841e99734d0df26695f97": {
          "model_module": "@jupyter-widgets/controls",
          "model_name": "FloatProgressModel",
          "model_module_version": "1.5.0",
          "state": {
            "_dom_classes": [],
            "_model_module": "@jupyter-widgets/controls",
            "_model_module_version": "1.5.0",
            "_model_name": "FloatProgressModel",
            "_view_count": null,
            "_view_module": "@jupyter-widgets/controls",
            "_view_module_version": "1.5.0",
            "_view_name": "ProgressView",
            "bar_style": "success",
            "description": "",
            "description_tooltip": null,
            "layout": "IPY_MODEL_3705491808004a1f972f316daa119f0f",
            "max": 2,
            "min": 0,
            "orientation": "horizontal",
            "style": "IPY_MODEL_d9a7a254e3244a6d97a81196df25b41f",
            "value": 2
          }
        },
        "b809e55af9904c9fa047698ffa3946b7": {
          "model_module": "@jupyter-widgets/controls",
          "model_name": "HTMLModel",
          "model_module_version": "1.5.0",
          "state": {
            "_dom_classes": [],
            "_model_module": "@jupyter-widgets/controls",
            "_model_module_version": "1.5.0",
            "_model_name": "HTMLModel",
            "_view_count": null,
            "_view_module": "@jupyter-widgets/controls",
            "_view_module_version": "1.5.0",
            "_view_name": "HTMLView",
            "description": "",
            "description_tooltip": null,
            "layout": "IPY_MODEL_81ee702d11fa49a2b34b59f299aae9c5",
            "placeholder": "​",
            "style": "IPY_MODEL_3cb61fc146d143bba439a291e3018b95",
            "value": " 2/2 [00:38&lt;00:00, 18.19s/it]"
          }
        },
        "f845bf06f91641aa9a5d168fe2ade8c2": {
          "model_module": "@jupyter-widgets/base",
          "model_name": "LayoutModel",
          "model_module_version": "1.2.0",
          "state": {
            "_model_module": "@jupyter-widgets/base",
            "_model_module_version": "1.2.0",
            "_model_name": "LayoutModel",
            "_view_count": null,
            "_view_module": "@jupyter-widgets/base",
            "_view_module_version": "1.2.0",
            "_view_name": "LayoutView",
            "align_content": null,
            "align_items": null,
            "align_self": null,
            "border": null,
            "bottom": null,
            "display": null,
            "flex": null,
            "flex_flow": null,
            "grid_area": null,
            "grid_auto_columns": null,
            "grid_auto_flow": null,
            "grid_auto_rows": null,
            "grid_column": null,
            "grid_gap": null,
            "grid_row": null,
            "grid_template_areas": null,
            "grid_template_columns": null,
            "grid_template_rows": null,
            "height": null,
            "justify_content": null,
            "justify_items": null,
            "left": null,
            "margin": null,
            "max_height": null,
            "max_width": null,
            "min_height": null,
            "min_width": null,
            "object_fit": null,
            "object_position": null,
            "order": null,
            "overflow": null,
            "overflow_x": null,
            "overflow_y": null,
            "padding": null,
            "right": null,
            "top": null,
            "visibility": null,
            "width": null
          }
        },
        "be22179b26dc421b96eab7c72999a4ef": {
          "model_module": "@jupyter-widgets/base",
          "model_name": "LayoutModel",
          "model_module_version": "1.2.0",
          "state": {
            "_model_module": "@jupyter-widgets/base",
            "_model_module_version": "1.2.0",
            "_model_name": "LayoutModel",
            "_view_count": null,
            "_view_module": "@jupyter-widgets/base",
            "_view_module_version": "1.2.0",
            "_view_name": "LayoutView",
            "align_content": null,
            "align_items": null,
            "align_self": null,
            "border": null,
            "bottom": null,
            "display": null,
            "flex": null,
            "flex_flow": null,
            "grid_area": null,
            "grid_auto_columns": null,
            "grid_auto_flow": null,
            "grid_auto_rows": null,
            "grid_column": null,
            "grid_gap": null,
            "grid_row": null,
            "grid_template_areas": null,
            "grid_template_columns": null,
            "grid_template_rows": null,
            "height": null,
            "justify_content": null,
            "justify_items": null,
            "left": null,
            "margin": null,
            "max_height": null,
            "max_width": null,
            "min_height": null,
            "min_width": null,
            "object_fit": null,
            "object_position": null,
            "order": null,
            "overflow": null,
            "overflow_x": null,
            "overflow_y": null,
            "padding": null,
            "right": null,
            "top": null,
            "visibility": null,
            "width": null
          }
        },
        "d798872ef7774088b48f89d3e9063c05": {
          "model_module": "@jupyter-widgets/controls",
          "model_name": "DescriptionStyleModel",
          "model_module_version": "1.5.0",
          "state": {
            "_model_module": "@jupyter-widgets/controls",
            "_model_module_version": "1.5.0",
            "_model_name": "DescriptionStyleModel",
            "_view_count": null,
            "_view_module": "@jupyter-widgets/base",
            "_view_module_version": "1.2.0",
            "_view_name": "StyleView",
            "description_width": ""
          }
        },
        "3705491808004a1f972f316daa119f0f": {
          "model_module": "@jupyter-widgets/base",
          "model_name": "LayoutModel",
          "model_module_version": "1.2.0",
          "state": {
            "_model_module": "@jupyter-widgets/base",
            "_model_module_version": "1.2.0",
            "_model_name": "LayoutModel",
            "_view_count": null,
            "_view_module": "@jupyter-widgets/base",
            "_view_module_version": "1.2.0",
            "_view_name": "LayoutView",
            "align_content": null,
            "align_items": null,
            "align_self": null,
            "border": null,
            "bottom": null,
            "display": null,
            "flex": null,
            "flex_flow": null,
            "grid_area": null,
            "grid_auto_columns": null,
            "grid_auto_flow": null,
            "grid_auto_rows": null,
            "grid_column": null,
            "grid_gap": null,
            "grid_row": null,
            "grid_template_areas": null,
            "grid_template_columns": null,
            "grid_template_rows": null,
            "height": null,
            "justify_content": null,
            "justify_items": null,
            "left": null,
            "margin": null,
            "max_height": null,
            "max_width": null,
            "min_height": null,
            "min_width": null,
            "object_fit": null,
            "object_position": null,
            "order": null,
            "overflow": null,
            "overflow_x": null,
            "overflow_y": null,
            "padding": null,
            "right": null,
            "top": null,
            "visibility": null,
            "width": null
          }
        },
        "d9a7a254e3244a6d97a81196df25b41f": {
          "model_module": "@jupyter-widgets/controls",
          "model_name": "ProgressStyleModel",
          "model_module_version": "1.5.0",
          "state": {
            "_model_module": "@jupyter-widgets/controls",
            "_model_module_version": "1.5.0",
            "_model_name": "ProgressStyleModel",
            "_view_count": null,
            "_view_module": "@jupyter-widgets/base",
            "_view_module_version": "1.2.0",
            "_view_name": "StyleView",
            "bar_color": null,
            "description_width": ""
          }
        },
        "81ee702d11fa49a2b34b59f299aae9c5": {
          "model_module": "@jupyter-widgets/base",
          "model_name": "LayoutModel",
          "model_module_version": "1.2.0",
          "state": {
            "_model_module": "@jupyter-widgets/base",
            "_model_module_version": "1.2.0",
            "_model_name": "LayoutModel",
            "_view_count": null,
            "_view_module": "@jupyter-widgets/base",
            "_view_module_version": "1.2.0",
            "_view_name": "LayoutView",
            "align_content": null,
            "align_items": null,
            "align_self": null,
            "border": null,
            "bottom": null,
            "display": null,
            "flex": null,
            "flex_flow": null,
            "grid_area": null,
            "grid_auto_columns": null,
            "grid_auto_flow": null,
            "grid_auto_rows": null,
            "grid_column": null,
            "grid_gap": null,
            "grid_row": null,
            "grid_template_areas": null,
            "grid_template_columns": null,
            "grid_template_rows": null,
            "height": null,
            "justify_content": null,
            "justify_items": null,
            "left": null,
            "margin": null,
            "max_height": null,
            "max_width": null,
            "min_height": null,
            "min_width": null,
            "object_fit": null,
            "object_position": null,
            "order": null,
            "overflow": null,
            "overflow_x": null,
            "overflow_y": null,
            "padding": null,
            "right": null,
            "top": null,
            "visibility": null,
            "width": null
          }
        },
        "3cb61fc146d143bba439a291e3018b95": {
          "model_module": "@jupyter-widgets/controls",
          "model_name": "DescriptionStyleModel",
          "model_module_version": "1.5.0",
          "state": {
            "_model_module": "@jupyter-widgets/controls",
            "_model_module_version": "1.5.0",
            "_model_name": "DescriptionStyleModel",
            "_view_count": null,
            "_view_module": "@jupyter-widgets/base",
            "_view_module_version": "1.2.0",
            "_view_name": "StyleView",
            "description_width": ""
          }
        },
        "fba9448bb76c480e9537797cd62af6a4": {
          "model_module": "@jupyter-widgets/controls",
          "model_name": "HBoxModel",
          "model_module_version": "1.5.0",
          "state": {
            "_dom_classes": [],
            "_model_module": "@jupyter-widgets/controls",
            "_model_module_version": "1.5.0",
            "_model_name": "HBoxModel",
            "_view_count": null,
            "_view_module": "@jupyter-widgets/controls",
            "_view_module_version": "1.5.0",
            "_view_name": "HBoxView",
            "box_style": "",
            "children": [
              "IPY_MODEL_10a9278c24f34450bd7a1effe6183f8f",
              "IPY_MODEL_99ce7906e7b14d52acd07297fb72e1f4",
              "IPY_MODEL_ba10e94d28cf4d8e9b2dcf7b055f1799"
            ],
            "layout": "IPY_MODEL_582cc9573ab040bf9cee5c79247af7c3"
          }
        },
        "10a9278c24f34450bd7a1effe6183f8f": {
          "model_module": "@jupyter-widgets/controls",
          "model_name": "HTMLModel",
          "model_module_version": "1.5.0",
          "state": {
            "_dom_classes": [],
            "_model_module": "@jupyter-widgets/controls",
            "_model_module_version": "1.5.0",
            "_model_name": "HTMLModel",
            "_view_count": null,
            "_view_module": "@jupyter-widgets/controls",
            "_view_module_version": "1.5.0",
            "_view_name": "HTMLView",
            "description": "",
            "description_tooltip": null,
            "layout": "IPY_MODEL_411b85ffd684421e8adce49bf1bca6c3",
            "placeholder": "​",
            "style": "IPY_MODEL_fc9f700750ef435bbb94fc74cb6f3d5c",
            "value": "tokenizer_config.json: 100%"
          }
        },
        "99ce7906e7b14d52acd07297fb72e1f4": {
          "model_module": "@jupyter-widgets/controls",
          "model_name": "FloatProgressModel",
          "model_module_version": "1.5.0",
          "state": {
            "_dom_classes": [],
            "_model_module": "@jupyter-widgets/controls",
            "_model_module_version": "1.5.0",
            "_model_name": "FloatProgressModel",
            "_view_count": null,
            "_view_module": "@jupyter-widgets/controls",
            "_view_module_version": "1.5.0",
            "_view_name": "ProgressView",
            "bar_style": "success",
            "description": "",
            "description_tooltip": null,
            "layout": "IPY_MODEL_a9886f659f7d4cb18ffeeae07702b22e",
            "max": 52,
            "min": 0,
            "orientation": "horizontal",
            "style": "IPY_MODEL_6ab2e9474c584a4fa7993f3f2ba90448",
            "value": 52
          }
        },
        "ba10e94d28cf4d8e9b2dcf7b055f1799": {
          "model_module": "@jupyter-widgets/controls",
          "model_name": "HTMLModel",
          "model_module_version": "1.5.0",
          "state": {
            "_dom_classes": [],
            "_model_module": "@jupyter-widgets/controls",
            "_model_module_version": "1.5.0",
            "_model_name": "HTMLModel",
            "_view_count": null,
            "_view_module": "@jupyter-widgets/controls",
            "_view_module_version": "1.5.0",
            "_view_name": "HTMLView",
            "description": "",
            "description_tooltip": null,
            "layout": "IPY_MODEL_2f2be3ef4f114d848ba0e3fbf718199a",
            "placeholder": "​",
            "style": "IPY_MODEL_bf82d02a66954d7491b4a23ec225fe3a",
            "value": " 52.0/52.0 [00:00&lt;00:00, 3.22kB/s]"
          }
        },
        "582cc9573ab040bf9cee5c79247af7c3": {
          "model_module": "@jupyter-widgets/base",
          "model_name": "LayoutModel",
          "model_module_version": "1.2.0",
          "state": {
            "_model_module": "@jupyter-widgets/base",
            "_model_module_version": "1.2.0",
            "_model_name": "LayoutModel",
            "_view_count": null,
            "_view_module": "@jupyter-widgets/base",
            "_view_module_version": "1.2.0",
            "_view_name": "LayoutView",
            "align_content": null,
            "align_items": null,
            "align_self": null,
            "border": null,
            "bottom": null,
            "display": null,
            "flex": null,
            "flex_flow": null,
            "grid_area": null,
            "grid_auto_columns": null,
            "grid_auto_flow": null,
            "grid_auto_rows": null,
            "grid_column": null,
            "grid_gap": null,
            "grid_row": null,
            "grid_template_areas": null,
            "grid_template_columns": null,
            "grid_template_rows": null,
            "height": null,
            "justify_content": null,
            "justify_items": null,
            "left": null,
            "margin": null,
            "max_height": null,
            "max_width": null,
            "min_height": null,
            "min_width": null,
            "object_fit": null,
            "object_position": null,
            "order": null,
            "overflow": null,
            "overflow_x": null,
            "overflow_y": null,
            "padding": null,
            "right": null,
            "top": null,
            "visibility": null,
            "width": null
          }
        },
        "411b85ffd684421e8adce49bf1bca6c3": {
          "model_module": "@jupyter-widgets/base",
          "model_name": "LayoutModel",
          "model_module_version": "1.2.0",
          "state": {
            "_model_module": "@jupyter-widgets/base",
            "_model_module_version": "1.2.0",
            "_model_name": "LayoutModel",
            "_view_count": null,
            "_view_module": "@jupyter-widgets/base",
            "_view_module_version": "1.2.0",
            "_view_name": "LayoutView",
            "align_content": null,
            "align_items": null,
            "align_self": null,
            "border": null,
            "bottom": null,
            "display": null,
            "flex": null,
            "flex_flow": null,
            "grid_area": null,
            "grid_auto_columns": null,
            "grid_auto_flow": null,
            "grid_auto_rows": null,
            "grid_column": null,
            "grid_gap": null,
            "grid_row": null,
            "grid_template_areas": null,
            "grid_template_columns": null,
            "grid_template_rows": null,
            "height": null,
            "justify_content": null,
            "justify_items": null,
            "left": null,
            "margin": null,
            "max_height": null,
            "max_width": null,
            "min_height": null,
            "min_width": null,
            "object_fit": null,
            "object_position": null,
            "order": null,
            "overflow": null,
            "overflow_x": null,
            "overflow_y": null,
            "padding": null,
            "right": null,
            "top": null,
            "visibility": null,
            "width": null
          }
        },
        "fc9f700750ef435bbb94fc74cb6f3d5c": {
          "model_module": "@jupyter-widgets/controls",
          "model_name": "DescriptionStyleModel",
          "model_module_version": "1.5.0",
          "state": {
            "_model_module": "@jupyter-widgets/controls",
            "_model_module_version": "1.5.0",
            "_model_name": "DescriptionStyleModel",
            "_view_count": null,
            "_view_module": "@jupyter-widgets/base",
            "_view_module_version": "1.2.0",
            "_view_name": "StyleView",
            "description_width": ""
          }
        },
        "a9886f659f7d4cb18ffeeae07702b22e": {
          "model_module": "@jupyter-widgets/base",
          "model_name": "LayoutModel",
          "model_module_version": "1.2.0",
          "state": {
            "_model_module": "@jupyter-widgets/base",
            "_model_module_version": "1.2.0",
            "_model_name": "LayoutModel",
            "_view_count": null,
            "_view_module": "@jupyter-widgets/base",
            "_view_module_version": "1.2.0",
            "_view_name": "LayoutView",
            "align_content": null,
            "align_items": null,
            "align_self": null,
            "border": null,
            "bottom": null,
            "display": null,
            "flex": null,
            "flex_flow": null,
            "grid_area": null,
            "grid_auto_columns": null,
            "grid_auto_flow": null,
            "grid_auto_rows": null,
            "grid_column": null,
            "grid_gap": null,
            "grid_row": null,
            "grid_template_areas": null,
            "grid_template_columns": null,
            "grid_template_rows": null,
            "height": null,
            "justify_content": null,
            "justify_items": null,
            "left": null,
            "margin": null,
            "max_height": null,
            "max_width": null,
            "min_height": null,
            "min_width": null,
            "object_fit": null,
            "object_position": null,
            "order": null,
            "overflow": null,
            "overflow_x": null,
            "overflow_y": null,
            "padding": null,
            "right": null,
            "top": null,
            "visibility": null,
            "width": null
          }
        },
        "6ab2e9474c584a4fa7993f3f2ba90448": {
          "model_module": "@jupyter-widgets/controls",
          "model_name": "ProgressStyleModel",
          "model_module_version": "1.5.0",
          "state": {
            "_model_module": "@jupyter-widgets/controls",
            "_model_module_version": "1.5.0",
            "_model_name": "ProgressStyleModel",
            "_view_count": null,
            "_view_module": "@jupyter-widgets/base",
            "_view_module_version": "1.2.0",
            "_view_name": "StyleView",
            "bar_color": null,
            "description_width": ""
          }
        },
        "2f2be3ef4f114d848ba0e3fbf718199a": {
          "model_module": "@jupyter-widgets/base",
          "model_name": "LayoutModel",
          "model_module_version": "1.2.0",
          "state": {
            "_model_module": "@jupyter-widgets/base",
            "_model_module_version": "1.2.0",
            "_model_name": "LayoutModel",
            "_view_count": null,
            "_view_module": "@jupyter-widgets/base",
            "_view_module_version": "1.2.0",
            "_view_name": "LayoutView",
            "align_content": null,
            "align_items": null,
            "align_self": null,
            "border": null,
            "bottom": null,
            "display": null,
            "flex": null,
            "flex_flow": null,
            "grid_area": null,
            "grid_auto_columns": null,
            "grid_auto_flow": null,
            "grid_auto_rows": null,
            "grid_column": null,
            "grid_gap": null,
            "grid_row": null,
            "grid_template_areas": null,
            "grid_template_columns": null,
            "grid_template_rows": null,
            "height": null,
            "justify_content": null,
            "justify_items": null,
            "left": null,
            "margin": null,
            "max_height": null,
            "max_width": null,
            "min_height": null,
            "min_width": null,
            "object_fit": null,
            "object_position": null,
            "order": null,
            "overflow": null,
            "overflow_x": null,
            "overflow_y": null,
            "padding": null,
            "right": null,
            "top": null,
            "visibility": null,
            "width": null
          }
        },
        "bf82d02a66954d7491b4a23ec225fe3a": {
          "model_module": "@jupyter-widgets/controls",
          "model_name": "DescriptionStyleModel",
          "model_module_version": "1.5.0",
          "state": {
            "_model_module": "@jupyter-widgets/controls",
            "_model_module_version": "1.5.0",
            "_model_name": "DescriptionStyleModel",
            "_view_count": null,
            "_view_module": "@jupyter-widgets/base",
            "_view_module_version": "1.2.0",
            "_view_name": "StyleView",
            "description_width": ""
          }
        },
        "78e713c26b824f0dbf27d0cbae9a4a95": {
          "model_module": "@jupyter-widgets/controls",
          "model_name": "HBoxModel",
          "model_module_version": "1.5.0",
          "state": {
            "_dom_classes": [],
            "_model_module": "@jupyter-widgets/controls",
            "_model_module_version": "1.5.0",
            "_model_name": "HBoxModel",
            "_view_count": null,
            "_view_module": "@jupyter-widgets/controls",
            "_view_module_version": "1.5.0",
            "_view_name": "HBoxView",
            "box_style": "",
            "children": [
              "IPY_MODEL_8957680fc00a454498c2bdedc96fbf2d",
              "IPY_MODEL_c1819c67db0845848e5c58553416e356",
              "IPY_MODEL_1c9a384280544121a3e0090314b8a422"
            ],
            "layout": "IPY_MODEL_f1ec7869305e4540b895b908b13ddc84"
          }
        },
        "8957680fc00a454498c2bdedc96fbf2d": {
          "model_module": "@jupyter-widgets/controls",
          "model_name": "HTMLModel",
          "model_module_version": "1.5.0",
          "state": {
            "_dom_classes": [],
            "_model_module": "@jupyter-widgets/controls",
            "_model_module_version": "1.5.0",
            "_model_name": "HTMLModel",
            "_view_count": null,
            "_view_module": "@jupyter-widgets/controls",
            "_view_module_version": "1.5.0",
            "_view_name": "HTMLView",
            "description": "",
            "description_tooltip": null,
            "layout": "IPY_MODEL_d914cb240eda4f4ea05ebb83b2678e29",
            "placeholder": "​",
            "style": "IPY_MODEL_6b04eac57e31428fa79d3386180d42d9",
            "value": "config.json: 100%"
          }
        },
        "c1819c67db0845848e5c58553416e356": {
          "model_module": "@jupyter-widgets/controls",
          "model_name": "FloatProgressModel",
          "model_module_version": "1.5.0",
          "state": {
            "_dom_classes": [],
            "_model_module": "@jupyter-widgets/controls",
            "_model_module_version": "1.5.0",
            "_model_name": "FloatProgressModel",
            "_view_count": null,
            "_view_module": "@jupyter-widgets/controls",
            "_view_module_version": "1.5.0",
            "_view_name": "ProgressView",
            "bar_style": "success",
            "description": "",
            "description_tooltip": null,
            "layout": "IPY_MODEL_fd7c263ad6dd4d9bbcfbe49cd2973314",
            "max": 474,
            "min": 0,
            "orientation": "horizontal",
            "style": "IPY_MODEL_196989a423ab4814b777590b0df34f36",
            "value": 474
          }
        },
        "1c9a384280544121a3e0090314b8a422": {
          "model_module": "@jupyter-widgets/controls",
          "model_name": "HTMLModel",
          "model_module_version": "1.5.0",
          "state": {
            "_dom_classes": [],
            "_model_module": "@jupyter-widgets/controls",
            "_model_module_version": "1.5.0",
            "_model_name": "HTMLModel",
            "_view_count": null,
            "_view_module": "@jupyter-widgets/controls",
            "_view_module_version": "1.5.0",
            "_view_name": "HTMLView",
            "description": "",
            "description_tooltip": null,
            "layout": "IPY_MODEL_e1d06d1b8c40471387a2d64ee55d78ed",
            "placeholder": "​",
            "style": "IPY_MODEL_4c3867fdbc22446f9df62bf4cb075b3b",
            "value": " 474/474 [00:00&lt;00:00, 37.3kB/s]"
          }
        },
        "f1ec7869305e4540b895b908b13ddc84": {
          "model_module": "@jupyter-widgets/base",
          "model_name": "LayoutModel",
          "model_module_version": "1.2.0",
          "state": {
            "_model_module": "@jupyter-widgets/base",
            "_model_module_version": "1.2.0",
            "_model_name": "LayoutModel",
            "_view_count": null,
            "_view_module": "@jupyter-widgets/base",
            "_view_module_version": "1.2.0",
            "_view_name": "LayoutView",
            "align_content": null,
            "align_items": null,
            "align_self": null,
            "border": null,
            "bottom": null,
            "display": null,
            "flex": null,
            "flex_flow": null,
            "grid_area": null,
            "grid_auto_columns": null,
            "grid_auto_flow": null,
            "grid_auto_rows": null,
            "grid_column": null,
            "grid_gap": null,
            "grid_row": null,
            "grid_template_areas": null,
            "grid_template_columns": null,
            "grid_template_rows": null,
            "height": null,
            "justify_content": null,
            "justify_items": null,
            "left": null,
            "margin": null,
            "max_height": null,
            "max_width": null,
            "min_height": null,
            "min_width": null,
            "object_fit": null,
            "object_position": null,
            "order": null,
            "overflow": null,
            "overflow_x": null,
            "overflow_y": null,
            "padding": null,
            "right": null,
            "top": null,
            "visibility": null,
            "width": null
          }
        },
        "d914cb240eda4f4ea05ebb83b2678e29": {
          "model_module": "@jupyter-widgets/base",
          "model_name": "LayoutModel",
          "model_module_version": "1.2.0",
          "state": {
            "_model_module": "@jupyter-widgets/base",
            "_model_module_version": "1.2.0",
            "_model_name": "LayoutModel",
            "_view_count": null,
            "_view_module": "@jupyter-widgets/base",
            "_view_module_version": "1.2.0",
            "_view_name": "LayoutView",
            "align_content": null,
            "align_items": null,
            "align_self": null,
            "border": null,
            "bottom": null,
            "display": null,
            "flex": null,
            "flex_flow": null,
            "grid_area": null,
            "grid_auto_columns": null,
            "grid_auto_flow": null,
            "grid_auto_rows": null,
            "grid_column": null,
            "grid_gap": null,
            "grid_row": null,
            "grid_template_areas": null,
            "grid_template_columns": null,
            "grid_template_rows": null,
            "height": null,
            "justify_content": null,
            "justify_items": null,
            "left": null,
            "margin": null,
            "max_height": null,
            "max_width": null,
            "min_height": null,
            "min_width": null,
            "object_fit": null,
            "object_position": null,
            "order": null,
            "overflow": null,
            "overflow_x": null,
            "overflow_y": null,
            "padding": null,
            "right": null,
            "top": null,
            "visibility": null,
            "width": null
          }
        },
        "6b04eac57e31428fa79d3386180d42d9": {
          "model_module": "@jupyter-widgets/controls",
          "model_name": "DescriptionStyleModel",
          "model_module_version": "1.5.0",
          "state": {
            "_model_module": "@jupyter-widgets/controls",
            "_model_module_version": "1.5.0",
            "_model_name": "DescriptionStyleModel",
            "_view_count": null,
            "_view_module": "@jupyter-widgets/base",
            "_view_module_version": "1.2.0",
            "_view_name": "StyleView",
            "description_width": ""
          }
        },
        "fd7c263ad6dd4d9bbcfbe49cd2973314": {
          "model_module": "@jupyter-widgets/base",
          "model_name": "LayoutModel",
          "model_module_version": "1.2.0",
          "state": {
            "_model_module": "@jupyter-widgets/base",
            "_model_module_version": "1.2.0",
            "_model_name": "LayoutModel",
            "_view_count": null,
            "_view_module": "@jupyter-widgets/base",
            "_view_module_version": "1.2.0",
            "_view_name": "LayoutView",
            "align_content": null,
            "align_items": null,
            "align_self": null,
            "border": null,
            "bottom": null,
            "display": null,
            "flex": null,
            "flex_flow": null,
            "grid_area": null,
            "grid_auto_columns": null,
            "grid_auto_flow": null,
            "grid_auto_rows": null,
            "grid_column": null,
            "grid_gap": null,
            "grid_row": null,
            "grid_template_areas": null,
            "grid_template_columns": null,
            "grid_template_rows": null,
            "height": null,
            "justify_content": null,
            "justify_items": null,
            "left": null,
            "margin": null,
            "max_height": null,
            "max_width": null,
            "min_height": null,
            "min_width": null,
            "object_fit": null,
            "object_position": null,
            "order": null,
            "overflow": null,
            "overflow_x": null,
            "overflow_y": null,
            "padding": null,
            "right": null,
            "top": null,
            "visibility": null,
            "width": null
          }
        },
        "196989a423ab4814b777590b0df34f36": {
          "model_module": "@jupyter-widgets/controls",
          "model_name": "ProgressStyleModel",
          "model_module_version": "1.5.0",
          "state": {
            "_model_module": "@jupyter-widgets/controls",
            "_model_module_version": "1.5.0",
            "_model_name": "ProgressStyleModel",
            "_view_count": null,
            "_view_module": "@jupyter-widgets/base",
            "_view_module_version": "1.2.0",
            "_view_name": "StyleView",
            "bar_color": null,
            "description_width": ""
          }
        },
        "e1d06d1b8c40471387a2d64ee55d78ed": {
          "model_module": "@jupyter-widgets/base",
          "model_name": "LayoutModel",
          "model_module_version": "1.2.0",
          "state": {
            "_model_module": "@jupyter-widgets/base",
            "_model_module_version": "1.2.0",
            "_model_name": "LayoutModel",
            "_view_count": null,
            "_view_module": "@jupyter-widgets/base",
            "_view_module_version": "1.2.0",
            "_view_name": "LayoutView",
            "align_content": null,
            "align_items": null,
            "align_self": null,
            "border": null,
            "bottom": null,
            "display": null,
            "flex": null,
            "flex_flow": null,
            "grid_area": null,
            "grid_auto_columns": null,
            "grid_auto_flow": null,
            "grid_auto_rows": null,
            "grid_column": null,
            "grid_gap": null,
            "grid_row": null,
            "grid_template_areas": null,
            "grid_template_columns": null,
            "grid_template_rows": null,
            "height": null,
            "justify_content": null,
            "justify_items": null,
            "left": null,
            "margin": null,
            "max_height": null,
            "max_width": null,
            "min_height": null,
            "min_width": null,
            "object_fit": null,
            "object_position": null,
            "order": null,
            "overflow": null,
            "overflow_x": null,
            "overflow_y": null,
            "padding": null,
            "right": null,
            "top": null,
            "visibility": null,
            "width": null
          }
        },
        "4c3867fdbc22446f9df62bf4cb075b3b": {
          "model_module": "@jupyter-widgets/controls",
          "model_name": "DescriptionStyleModel",
          "model_module_version": "1.5.0",
          "state": {
            "_model_module": "@jupyter-widgets/controls",
            "_model_module_version": "1.5.0",
            "_model_name": "DescriptionStyleModel",
            "_view_count": null,
            "_view_module": "@jupyter-widgets/base",
            "_view_module_version": "1.2.0",
            "_view_name": "StyleView",
            "description_width": ""
          }
        },
        "7cc4e12d65c64cf39d52f091c3ca05e5": {
          "model_module": "@jupyter-widgets/controls",
          "model_name": "HBoxModel",
          "model_module_version": "1.5.0",
          "state": {
            "_dom_classes": [],
            "_model_module": "@jupyter-widgets/controls",
            "_model_module_version": "1.5.0",
            "_model_name": "HBoxModel",
            "_view_count": null,
            "_view_module": "@jupyter-widgets/controls",
            "_view_module_version": "1.5.0",
            "_view_name": "HBoxView",
            "box_style": "",
            "children": [
              "IPY_MODEL_c5afed841eb54f27876cea876d981f65",
              "IPY_MODEL_adc68913c7754680b16eeb10db0d45c9",
              "IPY_MODEL_621f44c22458406eb9f7c4ec010dd652"
            ],
            "layout": "IPY_MODEL_e2770e65a4f3491f8337c7c918368262"
          }
        },
        "c5afed841eb54f27876cea876d981f65": {
          "model_module": "@jupyter-widgets/controls",
          "model_name": "HTMLModel",
          "model_module_version": "1.5.0",
          "state": {
            "_dom_classes": [],
            "_model_module": "@jupyter-widgets/controls",
            "_model_module_version": "1.5.0",
            "_model_name": "HTMLModel",
            "_view_count": null,
            "_view_module": "@jupyter-widgets/controls",
            "_view_module_version": "1.5.0",
            "_view_name": "HTMLView",
            "description": "",
            "description_tooltip": null,
            "layout": "IPY_MODEL_01d8cdd5c1e9408a987c820cf3129e5c",
            "placeholder": "​",
            "style": "IPY_MODEL_5cbf14478c294cbb8c94f9bddfa26ee3",
            "value": "vocab.json: 100%"
          }
        },
        "adc68913c7754680b16eeb10db0d45c9": {
          "model_module": "@jupyter-widgets/controls",
          "model_name": "FloatProgressModel",
          "model_module_version": "1.5.0",
          "state": {
            "_dom_classes": [],
            "_model_module": "@jupyter-widgets/controls",
            "_model_module_version": "1.5.0",
            "_model_name": "FloatProgressModel",
            "_view_count": null,
            "_view_module": "@jupyter-widgets/controls",
            "_view_module_version": "1.5.0",
            "_view_name": "ProgressView",
            "bar_style": "success",
            "description": "",
            "description_tooltip": null,
            "layout": "IPY_MODEL_fd31331f51024e0f80b6f731f03e296e",
            "max": 898825,
            "min": 0,
            "orientation": "horizontal",
            "style": "IPY_MODEL_b4fb4b25920d440eb408832e01a5a3a7",
            "value": 898825
          }
        },
        "621f44c22458406eb9f7c4ec010dd652": {
          "model_module": "@jupyter-widgets/controls",
          "model_name": "HTMLModel",
          "model_module_version": "1.5.0",
          "state": {
            "_dom_classes": [],
            "_model_module": "@jupyter-widgets/controls",
            "_model_module_version": "1.5.0",
            "_model_name": "HTMLModel",
            "_view_count": null,
            "_view_module": "@jupyter-widgets/controls",
            "_view_module_version": "1.5.0",
            "_view_name": "HTMLView",
            "description": "",
            "description_tooltip": null,
            "layout": "IPY_MODEL_b724bb743d4a4598b2f4fee34e87da64",
            "placeholder": "​",
            "style": "IPY_MODEL_0bd7ee0739de4c8cbefff1a63eda7d09",
            "value": " 899k/899k [00:00&lt;00:00, 4.94MB/s]"
          }
        },
        "e2770e65a4f3491f8337c7c918368262": {
          "model_module": "@jupyter-widgets/base",
          "model_name": "LayoutModel",
          "model_module_version": "1.2.0",
          "state": {
            "_model_module": "@jupyter-widgets/base",
            "_model_module_version": "1.2.0",
            "_model_name": "LayoutModel",
            "_view_count": null,
            "_view_module": "@jupyter-widgets/base",
            "_view_module_version": "1.2.0",
            "_view_name": "LayoutView",
            "align_content": null,
            "align_items": null,
            "align_self": null,
            "border": null,
            "bottom": null,
            "display": null,
            "flex": null,
            "flex_flow": null,
            "grid_area": null,
            "grid_auto_columns": null,
            "grid_auto_flow": null,
            "grid_auto_rows": null,
            "grid_column": null,
            "grid_gap": null,
            "grid_row": null,
            "grid_template_areas": null,
            "grid_template_columns": null,
            "grid_template_rows": null,
            "height": null,
            "justify_content": null,
            "justify_items": null,
            "left": null,
            "margin": null,
            "max_height": null,
            "max_width": null,
            "min_height": null,
            "min_width": null,
            "object_fit": null,
            "object_position": null,
            "order": null,
            "overflow": null,
            "overflow_x": null,
            "overflow_y": null,
            "padding": null,
            "right": null,
            "top": null,
            "visibility": null,
            "width": null
          }
        },
        "01d8cdd5c1e9408a987c820cf3129e5c": {
          "model_module": "@jupyter-widgets/base",
          "model_name": "LayoutModel",
          "model_module_version": "1.2.0",
          "state": {
            "_model_module": "@jupyter-widgets/base",
            "_model_module_version": "1.2.0",
            "_model_name": "LayoutModel",
            "_view_count": null,
            "_view_module": "@jupyter-widgets/base",
            "_view_module_version": "1.2.0",
            "_view_name": "LayoutView",
            "align_content": null,
            "align_items": null,
            "align_self": null,
            "border": null,
            "bottom": null,
            "display": null,
            "flex": null,
            "flex_flow": null,
            "grid_area": null,
            "grid_auto_columns": null,
            "grid_auto_flow": null,
            "grid_auto_rows": null,
            "grid_column": null,
            "grid_gap": null,
            "grid_row": null,
            "grid_template_areas": null,
            "grid_template_columns": null,
            "grid_template_rows": null,
            "height": null,
            "justify_content": null,
            "justify_items": null,
            "left": null,
            "margin": null,
            "max_height": null,
            "max_width": null,
            "min_height": null,
            "min_width": null,
            "object_fit": null,
            "object_position": null,
            "order": null,
            "overflow": null,
            "overflow_x": null,
            "overflow_y": null,
            "padding": null,
            "right": null,
            "top": null,
            "visibility": null,
            "width": null
          }
        },
        "5cbf14478c294cbb8c94f9bddfa26ee3": {
          "model_module": "@jupyter-widgets/controls",
          "model_name": "DescriptionStyleModel",
          "model_module_version": "1.5.0",
          "state": {
            "_model_module": "@jupyter-widgets/controls",
            "_model_module_version": "1.5.0",
            "_model_name": "DescriptionStyleModel",
            "_view_count": null,
            "_view_module": "@jupyter-widgets/base",
            "_view_module_version": "1.2.0",
            "_view_name": "StyleView",
            "description_width": ""
          }
        },
        "fd31331f51024e0f80b6f731f03e296e": {
          "model_module": "@jupyter-widgets/base",
          "model_name": "LayoutModel",
          "model_module_version": "1.2.0",
          "state": {
            "_model_module": "@jupyter-widgets/base",
            "_model_module_version": "1.2.0",
            "_model_name": "LayoutModel",
            "_view_count": null,
            "_view_module": "@jupyter-widgets/base",
            "_view_module_version": "1.2.0",
            "_view_name": "LayoutView",
            "align_content": null,
            "align_items": null,
            "align_self": null,
            "border": null,
            "bottom": null,
            "display": null,
            "flex": null,
            "flex_flow": null,
            "grid_area": null,
            "grid_auto_columns": null,
            "grid_auto_flow": null,
            "grid_auto_rows": null,
            "grid_column": null,
            "grid_gap": null,
            "grid_row": null,
            "grid_template_areas": null,
            "grid_template_columns": null,
            "grid_template_rows": null,
            "height": null,
            "justify_content": null,
            "justify_items": null,
            "left": null,
            "margin": null,
            "max_height": null,
            "max_width": null,
            "min_height": null,
            "min_width": null,
            "object_fit": null,
            "object_position": null,
            "order": null,
            "overflow": null,
            "overflow_x": null,
            "overflow_y": null,
            "padding": null,
            "right": null,
            "top": null,
            "visibility": null,
            "width": null
          }
        },
        "b4fb4b25920d440eb408832e01a5a3a7": {
          "model_module": "@jupyter-widgets/controls",
          "model_name": "ProgressStyleModel",
          "model_module_version": "1.5.0",
          "state": {
            "_model_module": "@jupyter-widgets/controls",
            "_model_module_version": "1.5.0",
            "_model_name": "ProgressStyleModel",
            "_view_count": null,
            "_view_module": "@jupyter-widgets/base",
            "_view_module_version": "1.2.0",
            "_view_name": "StyleView",
            "bar_color": null,
            "description_width": ""
          }
        },
        "b724bb743d4a4598b2f4fee34e87da64": {
          "model_module": "@jupyter-widgets/base",
          "model_name": "LayoutModel",
          "model_module_version": "1.2.0",
          "state": {
            "_model_module": "@jupyter-widgets/base",
            "_model_module_version": "1.2.0",
            "_model_name": "LayoutModel",
            "_view_count": null,
            "_view_module": "@jupyter-widgets/base",
            "_view_module_version": "1.2.0",
            "_view_name": "LayoutView",
            "align_content": null,
            "align_items": null,
            "align_self": null,
            "border": null,
            "bottom": null,
            "display": null,
            "flex": null,
            "flex_flow": null,
            "grid_area": null,
            "grid_auto_columns": null,
            "grid_auto_flow": null,
            "grid_auto_rows": null,
            "grid_column": null,
            "grid_gap": null,
            "grid_row": null,
            "grid_template_areas": null,
            "grid_template_columns": null,
            "grid_template_rows": null,
            "height": null,
            "justify_content": null,
            "justify_items": null,
            "left": null,
            "margin": null,
            "max_height": null,
            "max_width": null,
            "min_height": null,
            "min_width": null,
            "object_fit": null,
            "object_position": null,
            "order": null,
            "overflow": null,
            "overflow_x": null,
            "overflow_y": null,
            "padding": null,
            "right": null,
            "top": null,
            "visibility": null,
            "width": null
          }
        },
        "0bd7ee0739de4c8cbefff1a63eda7d09": {
          "model_module": "@jupyter-widgets/controls",
          "model_name": "DescriptionStyleModel",
          "model_module_version": "1.5.0",
          "state": {
            "_model_module": "@jupyter-widgets/controls",
            "_model_module_version": "1.5.0",
            "_model_name": "DescriptionStyleModel",
            "_view_count": null,
            "_view_module": "@jupyter-widgets/base",
            "_view_module_version": "1.2.0",
            "_view_name": "StyleView",
            "description_width": ""
          }
        },
        "c76c518cd4164d5ab94a85ec9775b052": {
          "model_module": "@jupyter-widgets/controls",
          "model_name": "HBoxModel",
          "model_module_version": "1.5.0",
          "state": {
            "_dom_classes": [],
            "_model_module": "@jupyter-widgets/controls",
            "_model_module_version": "1.5.0",
            "_model_name": "HBoxModel",
            "_view_count": null,
            "_view_module": "@jupyter-widgets/controls",
            "_view_module_version": "1.5.0",
            "_view_name": "HBoxView",
            "box_style": "",
            "children": [
              "IPY_MODEL_0a38cd52ae0f4438bf0671dced6edc97",
              "IPY_MODEL_371172e7c1784591bda2fbc07d2886ce",
              "IPY_MODEL_07472ae8a40e446cb1daad0235707c59"
            ],
            "layout": "IPY_MODEL_110ba991df174ffe8efeefd2efe6bd3a"
          }
        },
        "0a38cd52ae0f4438bf0671dced6edc97": {
          "model_module": "@jupyter-widgets/controls",
          "model_name": "HTMLModel",
          "model_module_version": "1.5.0",
          "state": {
            "_dom_classes": [],
            "_model_module": "@jupyter-widgets/controls",
            "_model_module_version": "1.5.0",
            "_model_name": "HTMLModel",
            "_view_count": null,
            "_view_module": "@jupyter-widgets/controls",
            "_view_module_version": "1.5.0",
            "_view_name": "HTMLView",
            "description": "",
            "description_tooltip": null,
            "layout": "IPY_MODEL_1133b6ef1daf4e85b7545d3ce4bdff98",
            "placeholder": "​",
            "style": "IPY_MODEL_fc0dfe7282d0407e824b6ec935529916",
            "value": "merges.txt: 100%"
          }
        },
        "371172e7c1784591bda2fbc07d2886ce": {
          "model_module": "@jupyter-widgets/controls",
          "model_name": "FloatProgressModel",
          "model_module_version": "1.5.0",
          "state": {
            "_dom_classes": [],
            "_model_module": "@jupyter-widgets/controls",
            "_model_module_version": "1.5.0",
            "_model_name": "FloatProgressModel",
            "_view_count": null,
            "_view_module": "@jupyter-widgets/controls",
            "_view_module_version": "1.5.0",
            "_view_name": "ProgressView",
            "bar_style": "success",
            "description": "",
            "description_tooltip": null,
            "layout": "IPY_MODEL_794b8f39117940b4820ec2c9834902fe",
            "max": 456318,
            "min": 0,
            "orientation": "horizontal",
            "style": "IPY_MODEL_aded346e83f1415fba14d326e257a714",
            "value": 456318
          }
        },
        "07472ae8a40e446cb1daad0235707c59": {
          "model_module": "@jupyter-widgets/controls",
          "model_name": "HTMLModel",
          "model_module_version": "1.5.0",
          "state": {
            "_dom_classes": [],
            "_model_module": "@jupyter-widgets/controls",
            "_model_module_version": "1.5.0",
            "_model_name": "HTMLModel",
            "_view_count": null,
            "_view_module": "@jupyter-widgets/controls",
            "_view_module_version": "1.5.0",
            "_view_name": "HTMLView",
            "description": "",
            "description_tooltip": null,
            "layout": "IPY_MODEL_b25d6dec6ef746c39076e8152b688cc0",
            "placeholder": "​",
            "style": "IPY_MODEL_b7913779def7483c89a8bb76c9de214c",
            "value": " 456k/456k [00:00&lt;00:00, 3.68MB/s]"
          }
        },
        "110ba991df174ffe8efeefd2efe6bd3a": {
          "model_module": "@jupyter-widgets/base",
          "model_name": "LayoutModel",
          "model_module_version": "1.2.0",
          "state": {
            "_model_module": "@jupyter-widgets/base",
            "_model_module_version": "1.2.0",
            "_model_name": "LayoutModel",
            "_view_count": null,
            "_view_module": "@jupyter-widgets/base",
            "_view_module_version": "1.2.0",
            "_view_name": "LayoutView",
            "align_content": null,
            "align_items": null,
            "align_self": null,
            "border": null,
            "bottom": null,
            "display": null,
            "flex": null,
            "flex_flow": null,
            "grid_area": null,
            "grid_auto_columns": null,
            "grid_auto_flow": null,
            "grid_auto_rows": null,
            "grid_column": null,
            "grid_gap": null,
            "grid_row": null,
            "grid_template_areas": null,
            "grid_template_columns": null,
            "grid_template_rows": null,
            "height": null,
            "justify_content": null,
            "justify_items": null,
            "left": null,
            "margin": null,
            "max_height": null,
            "max_width": null,
            "min_height": null,
            "min_width": null,
            "object_fit": null,
            "object_position": null,
            "order": null,
            "overflow": null,
            "overflow_x": null,
            "overflow_y": null,
            "padding": null,
            "right": null,
            "top": null,
            "visibility": null,
            "width": null
          }
        },
        "1133b6ef1daf4e85b7545d3ce4bdff98": {
          "model_module": "@jupyter-widgets/base",
          "model_name": "LayoutModel",
          "model_module_version": "1.2.0",
          "state": {
            "_model_module": "@jupyter-widgets/base",
            "_model_module_version": "1.2.0",
            "_model_name": "LayoutModel",
            "_view_count": null,
            "_view_module": "@jupyter-widgets/base",
            "_view_module_version": "1.2.0",
            "_view_name": "LayoutView",
            "align_content": null,
            "align_items": null,
            "align_self": null,
            "border": null,
            "bottom": null,
            "display": null,
            "flex": null,
            "flex_flow": null,
            "grid_area": null,
            "grid_auto_columns": null,
            "grid_auto_flow": null,
            "grid_auto_rows": null,
            "grid_column": null,
            "grid_gap": null,
            "grid_row": null,
            "grid_template_areas": null,
            "grid_template_columns": null,
            "grid_template_rows": null,
            "height": null,
            "justify_content": null,
            "justify_items": null,
            "left": null,
            "margin": null,
            "max_height": null,
            "max_width": null,
            "min_height": null,
            "min_width": null,
            "object_fit": null,
            "object_position": null,
            "order": null,
            "overflow": null,
            "overflow_x": null,
            "overflow_y": null,
            "padding": null,
            "right": null,
            "top": null,
            "visibility": null,
            "width": null
          }
        },
        "fc0dfe7282d0407e824b6ec935529916": {
          "model_module": "@jupyter-widgets/controls",
          "model_name": "DescriptionStyleModel",
          "model_module_version": "1.5.0",
          "state": {
            "_model_module": "@jupyter-widgets/controls",
            "_model_module_version": "1.5.0",
            "_model_name": "DescriptionStyleModel",
            "_view_count": null,
            "_view_module": "@jupyter-widgets/base",
            "_view_module_version": "1.2.0",
            "_view_name": "StyleView",
            "description_width": ""
          }
        },
        "794b8f39117940b4820ec2c9834902fe": {
          "model_module": "@jupyter-widgets/base",
          "model_name": "LayoutModel",
          "model_module_version": "1.2.0",
          "state": {
            "_model_module": "@jupyter-widgets/base",
            "_model_module_version": "1.2.0",
            "_model_name": "LayoutModel",
            "_view_count": null,
            "_view_module": "@jupyter-widgets/base",
            "_view_module_version": "1.2.0",
            "_view_name": "LayoutView",
            "align_content": null,
            "align_items": null,
            "align_self": null,
            "border": null,
            "bottom": null,
            "display": null,
            "flex": null,
            "flex_flow": null,
            "grid_area": null,
            "grid_auto_columns": null,
            "grid_auto_flow": null,
            "grid_auto_rows": null,
            "grid_column": null,
            "grid_gap": null,
            "grid_row": null,
            "grid_template_areas": null,
            "grid_template_columns": null,
            "grid_template_rows": null,
            "height": null,
            "justify_content": null,
            "justify_items": null,
            "left": null,
            "margin": null,
            "max_height": null,
            "max_width": null,
            "min_height": null,
            "min_width": null,
            "object_fit": null,
            "object_position": null,
            "order": null,
            "overflow": null,
            "overflow_x": null,
            "overflow_y": null,
            "padding": null,
            "right": null,
            "top": null,
            "visibility": null,
            "width": null
          }
        },
        "aded346e83f1415fba14d326e257a714": {
          "model_module": "@jupyter-widgets/controls",
          "model_name": "ProgressStyleModel",
          "model_module_version": "1.5.0",
          "state": {
            "_model_module": "@jupyter-widgets/controls",
            "_model_module_version": "1.5.0",
            "_model_name": "ProgressStyleModel",
            "_view_count": null,
            "_view_module": "@jupyter-widgets/base",
            "_view_module_version": "1.2.0",
            "_view_name": "StyleView",
            "bar_color": null,
            "description_width": ""
          }
        },
        "b25d6dec6ef746c39076e8152b688cc0": {
          "model_module": "@jupyter-widgets/base",
          "model_name": "LayoutModel",
          "model_module_version": "1.2.0",
          "state": {
            "_model_module": "@jupyter-widgets/base",
            "_model_module_version": "1.2.0",
            "_model_name": "LayoutModel",
            "_view_count": null,
            "_view_module": "@jupyter-widgets/base",
            "_view_module_version": "1.2.0",
            "_view_name": "LayoutView",
            "align_content": null,
            "align_items": null,
            "align_self": null,
            "border": null,
            "bottom": null,
            "display": null,
            "flex": null,
            "flex_flow": null,
            "grid_area": null,
            "grid_auto_columns": null,
            "grid_auto_flow": null,
            "grid_auto_rows": null,
            "grid_column": null,
            "grid_gap": null,
            "grid_row": null,
            "grid_template_areas": null,
            "grid_template_columns": null,
            "grid_template_rows": null,
            "height": null,
            "justify_content": null,
            "justify_items": null,
            "left": null,
            "margin": null,
            "max_height": null,
            "max_width": null,
            "min_height": null,
            "min_width": null,
            "object_fit": null,
            "object_position": null,
            "order": null,
            "overflow": null,
            "overflow_x": null,
            "overflow_y": null,
            "padding": null,
            "right": null,
            "top": null,
            "visibility": null,
            "width": null
          }
        },
        "b7913779def7483c89a8bb76c9de214c": {
          "model_module": "@jupyter-widgets/controls",
          "model_name": "DescriptionStyleModel",
          "model_module_version": "1.5.0",
          "state": {
            "_model_module": "@jupyter-widgets/controls",
            "_model_module_version": "1.5.0",
            "_model_name": "DescriptionStyleModel",
            "_view_count": null,
            "_view_module": "@jupyter-widgets/base",
            "_view_module_version": "1.2.0",
            "_view_name": "StyleView",
            "description_width": ""
          }
        },
        "6d2d3ff2d41648afb9cda0a4e47fc5c2": {
          "model_module": "@jupyter-widgets/controls",
          "model_name": "HBoxModel",
          "model_module_version": "1.5.0",
          "state": {
            "_dom_classes": [],
            "_model_module": "@jupyter-widgets/controls",
            "_model_module_version": "1.5.0",
            "_model_name": "HBoxModel",
            "_view_count": null,
            "_view_module": "@jupyter-widgets/controls",
            "_view_module_version": "1.5.0",
            "_view_name": "HBoxView",
            "box_style": "",
            "children": [
              "IPY_MODEL_368fcf6bcfce480981e29c395f4d3458",
              "IPY_MODEL_c10731979e7243a1b2ea2a3bc19a8e69",
              "IPY_MODEL_82b16894535c4f9b9ae48292e102a626"
            ],
            "layout": "IPY_MODEL_2711254ad4df4b2fb548c5126935482a"
          }
        },
        "368fcf6bcfce480981e29c395f4d3458": {
          "model_module": "@jupyter-widgets/controls",
          "model_name": "HTMLModel",
          "model_module_version": "1.5.0",
          "state": {
            "_dom_classes": [],
            "_model_module": "@jupyter-widgets/controls",
            "_model_module_version": "1.5.0",
            "_model_name": "HTMLModel",
            "_view_count": null,
            "_view_module": "@jupyter-widgets/controls",
            "_view_module_version": "1.5.0",
            "_view_name": "HTMLView",
            "description": "",
            "description_tooltip": null,
            "layout": "IPY_MODEL_fdb3b6def76247d88cc5a2c2cbeee13a",
            "placeholder": "​",
            "style": "IPY_MODEL_ac63415d63004b6fbaa246b3c92269b8",
            "value": "config.json: 100%"
          }
        },
        "c10731979e7243a1b2ea2a3bc19a8e69": {
          "model_module": "@jupyter-widgets/controls",
          "model_name": "FloatProgressModel",
          "model_module_version": "1.5.0",
          "state": {
            "_dom_classes": [],
            "_model_module": "@jupyter-widgets/controls",
            "_model_module_version": "1.5.0",
            "_model_name": "FloatProgressModel",
            "_view_count": null,
            "_view_module": "@jupyter-widgets/controls",
            "_view_module_version": "1.5.0",
            "_view_name": "ProgressView",
            "bar_style": "success",
            "description": "",
            "description_tooltip": null,
            "layout": "IPY_MODEL_5bf5abe813ee4b8290dc3ed258fc11fa",
            "max": 578,
            "min": 0,
            "orientation": "horizontal",
            "style": "IPY_MODEL_6794807e74104f049799da84a2fad779",
            "value": 578
          }
        },
        "82b16894535c4f9b9ae48292e102a626": {
          "model_module": "@jupyter-widgets/controls",
          "model_name": "HTMLModel",
          "model_module_version": "1.5.0",
          "state": {
            "_dom_classes": [],
            "_model_module": "@jupyter-widgets/controls",
            "_model_module_version": "1.5.0",
            "_model_name": "HTMLModel",
            "_view_count": null,
            "_view_module": "@jupyter-widgets/controls",
            "_view_module_version": "1.5.0",
            "_view_name": "HTMLView",
            "description": "",
            "description_tooltip": null,
            "layout": "IPY_MODEL_7551c6cee16d4b6e8e2825747902d546",
            "placeholder": "​",
            "style": "IPY_MODEL_c0a4698884fd4818b2aa5c69bfe6b9f7",
            "value": " 578/578 [00:00&lt;00:00, 49.7kB/s]"
          }
        },
        "2711254ad4df4b2fb548c5126935482a": {
          "model_module": "@jupyter-widgets/base",
          "model_name": "LayoutModel",
          "model_module_version": "1.2.0",
          "state": {
            "_model_module": "@jupyter-widgets/base",
            "_model_module_version": "1.2.0",
            "_model_name": "LayoutModel",
            "_view_count": null,
            "_view_module": "@jupyter-widgets/base",
            "_view_module_version": "1.2.0",
            "_view_name": "LayoutView",
            "align_content": null,
            "align_items": null,
            "align_self": null,
            "border": null,
            "bottom": null,
            "display": null,
            "flex": null,
            "flex_flow": null,
            "grid_area": null,
            "grid_auto_columns": null,
            "grid_auto_flow": null,
            "grid_auto_rows": null,
            "grid_column": null,
            "grid_gap": null,
            "grid_row": null,
            "grid_template_areas": null,
            "grid_template_columns": null,
            "grid_template_rows": null,
            "height": null,
            "justify_content": null,
            "justify_items": null,
            "left": null,
            "margin": null,
            "max_height": null,
            "max_width": null,
            "min_height": null,
            "min_width": null,
            "object_fit": null,
            "object_position": null,
            "order": null,
            "overflow": null,
            "overflow_x": null,
            "overflow_y": null,
            "padding": null,
            "right": null,
            "top": null,
            "visibility": null,
            "width": null
          }
        },
        "fdb3b6def76247d88cc5a2c2cbeee13a": {
          "model_module": "@jupyter-widgets/base",
          "model_name": "LayoutModel",
          "model_module_version": "1.2.0",
          "state": {
            "_model_module": "@jupyter-widgets/base",
            "_model_module_version": "1.2.0",
            "_model_name": "LayoutModel",
            "_view_count": null,
            "_view_module": "@jupyter-widgets/base",
            "_view_module_version": "1.2.0",
            "_view_name": "LayoutView",
            "align_content": null,
            "align_items": null,
            "align_self": null,
            "border": null,
            "bottom": null,
            "display": null,
            "flex": null,
            "flex_flow": null,
            "grid_area": null,
            "grid_auto_columns": null,
            "grid_auto_flow": null,
            "grid_auto_rows": null,
            "grid_column": null,
            "grid_gap": null,
            "grid_row": null,
            "grid_template_areas": null,
            "grid_template_columns": null,
            "grid_template_rows": null,
            "height": null,
            "justify_content": null,
            "justify_items": null,
            "left": null,
            "margin": null,
            "max_height": null,
            "max_width": null,
            "min_height": null,
            "min_width": null,
            "object_fit": null,
            "object_position": null,
            "order": null,
            "overflow": null,
            "overflow_x": null,
            "overflow_y": null,
            "padding": null,
            "right": null,
            "top": null,
            "visibility": null,
            "width": null
          }
        },
        "ac63415d63004b6fbaa246b3c92269b8": {
          "model_module": "@jupyter-widgets/controls",
          "model_name": "DescriptionStyleModel",
          "model_module_version": "1.5.0",
          "state": {
            "_model_module": "@jupyter-widgets/controls",
            "_model_module_version": "1.5.0",
            "_model_name": "DescriptionStyleModel",
            "_view_count": null,
            "_view_module": "@jupyter-widgets/base",
            "_view_module_version": "1.2.0",
            "_view_name": "StyleView",
            "description_width": ""
          }
        },
        "5bf5abe813ee4b8290dc3ed258fc11fa": {
          "model_module": "@jupyter-widgets/base",
          "model_name": "LayoutModel",
          "model_module_version": "1.2.0",
          "state": {
            "_model_module": "@jupyter-widgets/base",
            "_model_module_version": "1.2.0",
            "_model_name": "LayoutModel",
            "_view_count": null,
            "_view_module": "@jupyter-widgets/base",
            "_view_module_version": "1.2.0",
            "_view_name": "LayoutView",
            "align_content": null,
            "align_items": null,
            "align_self": null,
            "border": null,
            "bottom": null,
            "display": null,
            "flex": null,
            "flex_flow": null,
            "grid_area": null,
            "grid_auto_columns": null,
            "grid_auto_flow": null,
            "grid_auto_rows": null,
            "grid_column": null,
            "grid_gap": null,
            "grid_row": null,
            "grid_template_areas": null,
            "grid_template_columns": null,
            "grid_template_rows": null,
            "height": null,
            "justify_content": null,
            "justify_items": null,
            "left": null,
            "margin": null,
            "max_height": null,
            "max_width": null,
            "min_height": null,
            "min_width": null,
            "object_fit": null,
            "object_position": null,
            "order": null,
            "overflow": null,
            "overflow_x": null,
            "overflow_y": null,
            "padding": null,
            "right": null,
            "top": null,
            "visibility": null,
            "width": null
          }
        },
        "6794807e74104f049799da84a2fad779": {
          "model_module": "@jupyter-widgets/controls",
          "model_name": "ProgressStyleModel",
          "model_module_version": "1.5.0",
          "state": {
            "_model_module": "@jupyter-widgets/controls",
            "_model_module_version": "1.5.0",
            "_model_name": "ProgressStyleModel",
            "_view_count": null,
            "_view_module": "@jupyter-widgets/base",
            "_view_module_version": "1.2.0",
            "_view_name": "StyleView",
            "bar_color": null,
            "description_width": ""
          }
        },
        "7551c6cee16d4b6e8e2825747902d546": {
          "model_module": "@jupyter-widgets/base",
          "model_name": "LayoutModel",
          "model_module_version": "1.2.0",
          "state": {
            "_model_module": "@jupyter-widgets/base",
            "_model_module_version": "1.2.0",
            "_model_name": "LayoutModel",
            "_view_count": null,
            "_view_module": "@jupyter-widgets/base",
            "_view_module_version": "1.2.0",
            "_view_name": "LayoutView",
            "align_content": null,
            "align_items": null,
            "align_self": null,
            "border": null,
            "bottom": null,
            "display": null,
            "flex": null,
            "flex_flow": null,
            "grid_area": null,
            "grid_auto_columns": null,
            "grid_auto_flow": null,
            "grid_auto_rows": null,
            "grid_column": null,
            "grid_gap": null,
            "grid_row": null,
            "grid_template_areas": null,
            "grid_template_columns": null,
            "grid_template_rows": null,
            "height": null,
            "justify_content": null,
            "justify_items": null,
            "left": null,
            "margin": null,
            "max_height": null,
            "max_width": null,
            "min_height": null,
            "min_width": null,
            "object_fit": null,
            "object_position": null,
            "order": null,
            "overflow": null,
            "overflow_x": null,
            "overflow_y": null,
            "padding": null,
            "right": null,
            "top": null,
            "visibility": null,
            "width": null
          }
        },
        "c0a4698884fd4818b2aa5c69bfe6b9f7": {
          "model_module": "@jupyter-widgets/controls",
          "model_name": "DescriptionStyleModel",
          "model_module_version": "1.5.0",
          "state": {
            "_model_module": "@jupyter-widgets/controls",
            "_model_module_version": "1.5.0",
            "_model_name": "DescriptionStyleModel",
            "_view_count": null,
            "_view_module": "@jupyter-widgets/base",
            "_view_module_version": "1.2.0",
            "_view_name": "StyleView",
            "description_width": ""
          }
        },
        "ab9e7827e87c4da5a369cb4ad004242c": {
          "model_module": "@jupyter-widgets/controls",
          "model_name": "HBoxModel",
          "model_module_version": "1.5.0",
          "state": {
            "_dom_classes": [],
            "_model_module": "@jupyter-widgets/controls",
            "_model_module_version": "1.5.0",
            "_model_name": "HBoxModel",
            "_view_count": null,
            "_view_module": "@jupyter-widgets/controls",
            "_view_module_version": "1.5.0",
            "_view_name": "HBoxView",
            "box_style": "",
            "children": [
              "IPY_MODEL_4a2556ad10434ff98f21dd6c3ac5f654",
              "IPY_MODEL_0429567586674b68a49c18fb238fbe72",
              "IPY_MODEL_eb08a013580f45b59983715f08f65a7f"
            ],
            "layout": "IPY_MODEL_31c4e766c5b841799cb4f867cca9e820"
          }
        },
        "4a2556ad10434ff98f21dd6c3ac5f654": {
          "model_module": "@jupyter-widgets/controls",
          "model_name": "HTMLModel",
          "model_module_version": "1.5.0",
          "state": {
            "_dom_classes": [],
            "_model_module": "@jupyter-widgets/controls",
            "_model_module_version": "1.5.0",
            "_model_name": "HTMLModel",
            "_view_count": null,
            "_view_module": "@jupyter-widgets/controls",
            "_view_module_version": "1.5.0",
            "_view_name": "HTMLView",
            "description": "",
            "description_tooltip": null,
            "layout": "IPY_MODEL_311d3a14537e4dde9cde446501967be3",
            "placeholder": "​",
            "style": "IPY_MODEL_1f08669b51b44d56878a185da2bf4a8a",
            "value": "pytorch_model.bin: 100%"
          }
        },
        "0429567586674b68a49c18fb238fbe72": {
          "model_module": "@jupyter-widgets/controls",
          "model_name": "FloatProgressModel",
          "model_module_version": "1.5.0",
          "state": {
            "_dom_classes": [],
            "_model_module": "@jupyter-widgets/controls",
            "_model_module_version": "1.5.0",
            "_model_name": "FloatProgressModel",
            "_view_count": null,
            "_view_module": "@jupyter-widgets/controls",
            "_view_module_version": "1.5.0",
            "_view_name": "ProgressView",
            "bar_style": "success",
            "description": "",
            "description_tooltip": null,
            "layout": "IPY_MODEL_72a3a4bd47d74ab6a984aa83fa8e0dc5",
            "max": 241453931,
            "min": 0,
            "orientation": "horizontal",
            "style": "IPY_MODEL_0a44319adc7a43d9a41ebda8f9ba1b1e",
            "value": 241453931
          }
        },
        "eb08a013580f45b59983715f08f65a7f": {
          "model_module": "@jupyter-widgets/controls",
          "model_name": "HTMLModel",
          "model_module_version": "1.5.0",
          "state": {
            "_dom_classes": [],
            "_model_module": "@jupyter-widgets/controls",
            "_model_module_version": "1.5.0",
            "_model_name": "HTMLModel",
            "_view_count": null,
            "_view_module": "@jupyter-widgets/controls",
            "_view_module_version": "1.5.0",
            "_view_name": "HTMLView",
            "description": "",
            "description_tooltip": null,
            "layout": "IPY_MODEL_021b7f80220844369ca9484fbba200d9",
            "placeholder": "​",
            "style": "IPY_MODEL_f562995079f74877b29935c8d6f34487",
            "value": " 241M/241M [00:01&lt;00:00, 197MB/s]"
          }
        },
        "31c4e766c5b841799cb4f867cca9e820": {
          "model_module": "@jupyter-widgets/base",
          "model_name": "LayoutModel",
          "model_module_version": "1.2.0",
          "state": {
            "_model_module": "@jupyter-widgets/base",
            "_model_module_version": "1.2.0",
            "_model_name": "LayoutModel",
            "_view_count": null,
            "_view_module": "@jupyter-widgets/base",
            "_view_module_version": "1.2.0",
            "_view_name": "LayoutView",
            "align_content": null,
            "align_items": null,
            "align_self": null,
            "border": null,
            "bottom": null,
            "display": null,
            "flex": null,
            "flex_flow": null,
            "grid_area": null,
            "grid_auto_columns": null,
            "grid_auto_flow": null,
            "grid_auto_rows": null,
            "grid_column": null,
            "grid_gap": null,
            "grid_row": null,
            "grid_template_areas": null,
            "grid_template_columns": null,
            "grid_template_rows": null,
            "height": null,
            "justify_content": null,
            "justify_items": null,
            "left": null,
            "margin": null,
            "max_height": null,
            "max_width": null,
            "min_height": null,
            "min_width": null,
            "object_fit": null,
            "object_position": null,
            "order": null,
            "overflow": null,
            "overflow_x": null,
            "overflow_y": null,
            "padding": null,
            "right": null,
            "top": null,
            "visibility": null,
            "width": null
          }
        },
        "311d3a14537e4dde9cde446501967be3": {
          "model_module": "@jupyter-widgets/base",
          "model_name": "LayoutModel",
          "model_module_version": "1.2.0",
          "state": {
            "_model_module": "@jupyter-widgets/base",
            "_model_module_version": "1.2.0",
            "_model_name": "LayoutModel",
            "_view_count": null,
            "_view_module": "@jupyter-widgets/base",
            "_view_module_version": "1.2.0",
            "_view_name": "LayoutView",
            "align_content": null,
            "align_items": null,
            "align_self": null,
            "border": null,
            "bottom": null,
            "display": null,
            "flex": null,
            "flex_flow": null,
            "grid_area": null,
            "grid_auto_columns": null,
            "grid_auto_flow": null,
            "grid_auto_rows": null,
            "grid_column": null,
            "grid_gap": null,
            "grid_row": null,
            "grid_template_areas": null,
            "grid_template_columns": null,
            "grid_template_rows": null,
            "height": null,
            "justify_content": null,
            "justify_items": null,
            "left": null,
            "margin": null,
            "max_height": null,
            "max_width": null,
            "min_height": null,
            "min_width": null,
            "object_fit": null,
            "object_position": null,
            "order": null,
            "overflow": null,
            "overflow_x": null,
            "overflow_y": null,
            "padding": null,
            "right": null,
            "top": null,
            "visibility": null,
            "width": null
          }
        },
        "1f08669b51b44d56878a185da2bf4a8a": {
          "model_module": "@jupyter-widgets/controls",
          "model_name": "DescriptionStyleModel",
          "model_module_version": "1.5.0",
          "state": {
            "_model_module": "@jupyter-widgets/controls",
            "_model_module_version": "1.5.0",
            "_model_name": "DescriptionStyleModel",
            "_view_count": null,
            "_view_module": "@jupyter-widgets/base",
            "_view_module_version": "1.2.0",
            "_view_name": "StyleView",
            "description_width": ""
          }
        },
        "72a3a4bd47d74ab6a984aa83fa8e0dc5": {
          "model_module": "@jupyter-widgets/base",
          "model_name": "LayoutModel",
          "model_module_version": "1.2.0",
          "state": {
            "_model_module": "@jupyter-widgets/base",
            "_model_module_version": "1.2.0",
            "_model_name": "LayoutModel",
            "_view_count": null,
            "_view_module": "@jupyter-widgets/base",
            "_view_module_version": "1.2.0",
            "_view_name": "LayoutView",
            "align_content": null,
            "align_items": null,
            "align_self": null,
            "border": null,
            "bottom": null,
            "display": null,
            "flex": null,
            "flex_flow": null,
            "grid_area": null,
            "grid_auto_columns": null,
            "grid_auto_flow": null,
            "grid_auto_rows": null,
            "grid_column": null,
            "grid_gap": null,
            "grid_row": null,
            "grid_template_areas": null,
            "grid_template_columns": null,
            "grid_template_rows": null,
            "height": null,
            "justify_content": null,
            "justify_items": null,
            "left": null,
            "margin": null,
            "max_height": null,
            "max_width": null,
            "min_height": null,
            "min_width": null,
            "object_fit": null,
            "object_position": null,
            "order": null,
            "overflow": null,
            "overflow_x": null,
            "overflow_y": null,
            "padding": null,
            "right": null,
            "top": null,
            "visibility": null,
            "width": null
          }
        },
        "0a44319adc7a43d9a41ebda8f9ba1b1e": {
          "model_module": "@jupyter-widgets/controls",
          "model_name": "ProgressStyleModel",
          "model_module_version": "1.5.0",
          "state": {
            "_model_module": "@jupyter-widgets/controls",
            "_model_module_version": "1.5.0",
            "_model_name": "ProgressStyleModel",
            "_view_count": null,
            "_view_module": "@jupyter-widgets/base",
            "_view_module_version": "1.2.0",
            "_view_name": "StyleView",
            "bar_color": null,
            "description_width": ""
          }
        },
        "021b7f80220844369ca9484fbba200d9": {
          "model_module": "@jupyter-widgets/base",
          "model_name": "LayoutModel",
          "model_module_version": "1.2.0",
          "state": {
            "_model_module": "@jupyter-widgets/base",
            "_model_module_version": "1.2.0",
            "_model_name": "LayoutModel",
            "_view_count": null,
            "_view_module": "@jupyter-widgets/base",
            "_view_module_version": "1.2.0",
            "_view_name": "LayoutView",
            "align_content": null,
            "align_items": null,
            "align_self": null,
            "border": null,
            "bottom": null,
            "display": null,
            "flex": null,
            "flex_flow": null,
            "grid_area": null,
            "grid_auto_columns": null,
            "grid_auto_flow": null,
            "grid_auto_rows": null,
            "grid_column": null,
            "grid_gap": null,
            "grid_row": null,
            "grid_template_areas": null,
            "grid_template_columns": null,
            "grid_template_rows": null,
            "height": null,
            "justify_content": null,
            "justify_items": null,
            "left": null,
            "margin": null,
            "max_height": null,
            "max_width": null,
            "min_height": null,
            "min_width": null,
            "object_fit": null,
            "object_position": null,
            "order": null,
            "overflow": null,
            "overflow_x": null,
            "overflow_y": null,
            "padding": null,
            "right": null,
            "top": null,
            "visibility": null,
            "width": null
          }
        },
        "f562995079f74877b29935c8d6f34487": {
          "model_module": "@jupyter-widgets/controls",
          "model_name": "DescriptionStyleModel",
          "model_module_version": "1.5.0",
          "state": {
            "_model_module": "@jupyter-widgets/controls",
            "_model_module_version": "1.5.0",
            "_model_name": "DescriptionStyleModel",
            "_view_count": null,
            "_view_module": "@jupyter-widgets/base",
            "_view_module_version": "1.2.0",
            "_view_name": "StyleView",
            "description_width": ""
          }
        }
      }
    }
  },
  "nbformat": 4,
  "nbformat_minor": 0
}